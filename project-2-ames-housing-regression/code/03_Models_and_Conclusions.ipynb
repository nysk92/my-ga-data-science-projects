{
 "cells": [
  {
   "cell_type": "markdown",
   "id": "418a76f7",
   "metadata": {},
   "source": [
    "# Model Training, Evaluation and Conclusions\n",
    "\n",
    "The data used will be the cleaned and featurised data from [Notebook 2](02_Preprocessing_and_Feature_Engineering.ipynb).\n",
    "Combinations of different features to try have also been set out and saved from Notebook 2 and stored as a datagrame [here](../features/features.csv)."
   ]
  },
  {
   "cell_type": "code",
   "execution_count": 1,
   "id": "f15d03ec",
   "metadata": {},
   "outputs": [],
   "source": [
    "import numpy as np\n",
    "import pandas as pd\n",
    "import matplotlib.pyplot as plt\n",
    "import seaborn as sns\n",
    "from scipy import stats\n",
    "from sklearn.pipeline import Pipeline\n",
    "from sklearn.model_selection import train_test_split, cross_val_score\n",
    "from sklearn.preprocessing import StandardScaler\n",
    "from sklearn.linear_model import LinearRegression, Lasso, LassoCV, Ridge, RidgeCV, ElasticNet, ElasticNetCV\n",
    "from sklearn.compose import ColumnTransformer, TransformedTargetRegressor\n",
    "from sklearn.metrics import mean_squared_error"
   ]
  },
  {
   "cell_type": "markdown",
   "id": "feb4dea3",
   "metadata": {},
   "source": [
    "## Load Data"
   ]
  },
  {
   "cell_type": "code",
   "execution_count": 2,
   "id": "725b2ea1",
   "metadata": {},
   "outputs": [],
   "source": [
    "df = pd.read_csv('../datasets/f_train.csv')"
   ]
  },
  {
   "cell_type": "code",
   "execution_count": 3,
   "id": "69f9687e",
   "metadata": {},
   "outputs": [],
   "source": [
    "fea_df = pd.read_csv('../features/features.csv')"
   ]
  },
  {
   "cell_type": "code",
   "execution_count": 4,
   "id": "f50acdc5",
   "metadata": {},
   "outputs": [
    {
     "data": {
      "text/html": [
       "<div>\n",
       "<style scoped>\n",
       "    .dataframe tbody tr th:only-of-type {\n",
       "        vertical-align: middle;\n",
       "    }\n",
       "\n",
       "    .dataframe tbody tr th {\n",
       "        vertical-align: top;\n",
       "    }\n",
       "\n",
       "    .dataframe thead th {\n",
       "        text-align: right;\n",
       "    }\n",
       "</style>\n",
       "<table border=\"1\" class=\"dataframe\">\n",
       "  <thead>\n",
       "    <tr style=\"text-align: right;\">\n",
       "      <th></th>\n",
       "      <th>Lot Frontage</th>\n",
       "      <th>Lot Area</th>\n",
       "      <th>Overall Qual</th>\n",
       "      <th>Overall Cond</th>\n",
       "      <th>Year Built</th>\n",
       "      <th>Year Remod/Add</th>\n",
       "      <th>Mas Vnr Area</th>\n",
       "      <th>Total Bsmt SF</th>\n",
       "      <th>1st Flr SF</th>\n",
       "      <th>2nd Flr SF</th>\n",
       "      <th>...</th>\n",
       "      <th>Attached or BuiltIn Garage</th>\n",
       "      <th>Finished Garage</th>\n",
       "      <th>Fully Paved Drive</th>\n",
       "      <th>New Sale</th>\n",
       "      <th>Has Alley Access</th>\n",
       "      <th>Total SF</th>\n",
       "      <th>1.5P Gr Liv Area</th>\n",
       "      <th>1.5P Total SF</th>\n",
       "      <th>P3 Overall Qual</th>\n",
       "      <th>SalePrice</th>\n",
       "    </tr>\n",
       "  </thead>\n",
       "  <tbody>\n",
       "    <tr>\n",
       "      <th>0</th>\n",
       "      <td>0.0</td>\n",
       "      <td>13517</td>\n",
       "      <td>6</td>\n",
       "      <td>8</td>\n",
       "      <td>1976</td>\n",
       "      <td>2005</td>\n",
       "      <td>289.0</td>\n",
       "      <td>725.0</td>\n",
       "      <td>725</td>\n",
       "      <td>754</td>\n",
       "      <td>...</td>\n",
       "      <td>1</td>\n",
       "      <td>1</td>\n",
       "      <td>1</td>\n",
       "      <td>0</td>\n",
       "      <td>0</td>\n",
       "      <td>2204.0</td>\n",
       "      <td>56879.040419</td>\n",
       "      <td>103470.699543</td>\n",
       "      <td>216</td>\n",
       "      <td>130500</td>\n",
       "    </tr>\n",
       "    <tr>\n",
       "      <th>1</th>\n",
       "      <td>43.0</td>\n",
       "      <td>11492</td>\n",
       "      <td>7</td>\n",
       "      <td>5</td>\n",
       "      <td>1996</td>\n",
       "      <td>1997</td>\n",
       "      <td>132.0</td>\n",
       "      <td>913.0</td>\n",
       "      <td>913</td>\n",
       "      <td>1209</td>\n",
       "      <td>...</td>\n",
       "      <td>1</td>\n",
       "      <td>1</td>\n",
       "      <td>1</td>\n",
       "      <td>0</td>\n",
       "      <td>0</td>\n",
       "      <td>3035.0</td>\n",
       "      <td>97750.293340</td>\n",
       "      <td>167200.681443</td>\n",
       "      <td>343</td>\n",
       "      <td>220000</td>\n",
       "    </tr>\n",
       "  </tbody>\n",
       "</table>\n",
       "<p>2 rows × 57 columns</p>\n",
       "</div>"
      ],
      "text/plain": [
       "   Lot Frontage  Lot Area  Overall Qual  Overall Cond  Year Built  \\\n",
       "0           0.0     13517             6             8        1976   \n",
       "1          43.0     11492             7             5        1996   \n",
       "\n",
       "   Year Remod/Add  Mas Vnr Area  Total Bsmt SF  1st Flr SF  2nd Flr SF  ...  \\\n",
       "0            2005         289.0          725.0         725         754  ...   \n",
       "1            1997         132.0          913.0         913        1209  ...   \n",
       "\n",
       "   Attached or BuiltIn Garage  Finished Garage  Fully Paved Drive  New Sale  \\\n",
       "0                           1                1                  1         0   \n",
       "1                           1                1                  1         0   \n",
       "\n",
       "   Has Alley Access  Total SF  1.5P Gr Liv Area  1.5P Total SF  \\\n",
       "0                 0    2204.0      56879.040419  103470.699543   \n",
       "1                 0    3035.0      97750.293340  167200.681443   \n",
       "\n",
       "   P3 Overall Qual  SalePrice  \n",
       "0              216     130500  \n",
       "1              343     220000  \n",
       "\n",
       "[2 rows x 57 columns]"
      ]
     },
     "execution_count": 4,
     "metadata": {},
     "output_type": "execute_result"
    }
   ],
   "source": [
    "df.head(2)"
   ]
  },
  {
   "cell_type": "code",
   "execution_count": 5,
   "id": "cb72f62b",
   "metadata": {},
   "outputs": [
    {
     "data": {
      "text/plain": [
       "(2049, 57)"
      ]
     },
     "execution_count": 5,
     "metadata": {},
     "output_type": "execute_result"
    }
   ],
   "source": [
    "df.shape"
   ]
  },
  {
   "cell_type": "code",
   "execution_count": 6,
   "id": "49921594",
   "metadata": {},
   "outputs": [],
   "source": [
    "# df.isna().sum().sum()"
   ]
  },
  {
   "cell_type": "code",
   "execution_count": 7,
   "id": "59de0d5c",
   "metadata": {},
   "outputs": [],
   "source": [
    "# df.dtypes.unique()"
   ]
  },
  {
   "cell_type": "code",
   "execution_count": 8,
   "id": "c9d69e6f",
   "metadata": {
    "scrolled": true
   },
   "outputs": [],
   "source": [
    "# df.columns"
   ]
  },
  {
   "cell_type": "code",
   "execution_count": 9,
   "id": "3cf1b349",
   "metadata": {},
   "outputs": [],
   "source": [
    "#target variable\n",
    "tv = 'SalePrice'"
   ]
  },
  {
   "cell_type": "code",
   "execution_count": 10,
   "id": "41858994",
   "metadata": {},
   "outputs": [
    {
     "data": {
      "text/html": [
       "<div>\n",
       "<style scoped>\n",
       "    .dataframe tbody tr th:only-of-type {\n",
       "        vertical-align: middle;\n",
       "    }\n",
       "\n",
       "    .dataframe tbody tr th {\n",
       "        vertical-align: top;\n",
       "    }\n",
       "\n",
       "    .dataframe thead th {\n",
       "        text-align: right;\n",
       "    }\n",
       "</style>\n",
       "<table border=\"1\" class=\"dataframe\">\n",
       "  <thead>\n",
       "    <tr style=\"text-align: right;\">\n",
       "      <th></th>\n",
       "      <th>features_max</th>\n",
       "      <th>features_max_powerless</th>\n",
       "      <th>features_drop_weak</th>\n",
       "      <th>features_lite</th>\n",
       "      <th>features_min</th>\n",
       "    </tr>\n",
       "  </thead>\n",
       "  <tbody>\n",
       "    <tr>\n",
       "      <th>0</th>\n",
       "      <td>Lot Frontage</td>\n",
       "      <td>Lot Frontage</td>\n",
       "      <td>Lot Frontage</td>\n",
       "      <td>TotRms AbvGrd</td>\n",
       "      <td>P3 Overall Qual</td>\n",
       "    </tr>\n",
       "    <tr>\n",
       "      <th>1</th>\n",
       "      <td>Lot Area</td>\n",
       "      <td>Lot Area</td>\n",
       "      <td>Lot Area</td>\n",
       "      <td>Mas Vnr Area</td>\n",
       "      <td>1.5P Total SF</td>\n",
       "    </tr>\n",
       "    <tr>\n",
       "      <th>2</th>\n",
       "      <td>Overall Cond</td>\n",
       "      <td>Overall Qual</td>\n",
       "      <td>Year Built</td>\n",
       "      <td>Bath Log</td>\n",
       "      <td>NaN</td>\n",
       "    </tr>\n",
       "    <tr>\n",
       "      <th>3</th>\n",
       "      <td>Year Built</td>\n",
       "      <td>Overall Cond</td>\n",
       "      <td>Year Remod/Add</td>\n",
       "      <td>Garage Area</td>\n",
       "      <td>NaN</td>\n",
       "    </tr>\n",
       "    <tr>\n",
       "      <th>4</th>\n",
       "      <td>Year Remod/Add</td>\n",
       "      <td>Year Built</td>\n",
       "      <td>Mas Vnr Area</td>\n",
       "      <td>Year Built</td>\n",
       "      <td>NaN</td>\n",
       "    </tr>\n",
       "  </tbody>\n",
       "</table>\n",
       "</div>"
      ],
      "text/plain": [
       "     features_max features_max_powerless features_drop_weak  features_lite  \\\n",
       "0    Lot Frontage           Lot Frontage       Lot Frontage  TotRms AbvGrd   \n",
       "1        Lot Area               Lot Area           Lot Area   Mas Vnr Area   \n",
       "2    Overall Cond           Overall Qual         Year Built       Bath Log   \n",
       "3      Year Built           Overall Cond     Year Remod/Add    Garage Area   \n",
       "4  Year Remod/Add             Year Built       Mas Vnr Area     Year Built   \n",
       "\n",
       "      features_min  \n",
       "0  P3 Overall Qual  \n",
       "1    1.5P Total SF  \n",
       "2              NaN  \n",
       "3              NaN  \n",
       "4              NaN  "
      ]
     },
     "execution_count": 10,
     "metadata": {},
     "output_type": "execute_result"
    }
   ],
   "source": [
    "fea_df.head()"
   ]
  },
  {
   "cell_type": "code",
   "execution_count": 11,
   "id": "501e2d57",
   "metadata": {},
   "outputs": [],
   "source": [
    "fea = {}\n",
    "for col in fea_df.columns:\n",
    "    fea[col] = fea_df[col].dropna().to_list()    "
   ]
  },
  {
   "cell_type": "code",
   "execution_count": 12,
   "id": "110593d5",
   "metadata": {},
   "outputs": [
    {
     "data": {
      "text/plain": [
       "['P3 Overall Qual', '1.5P Total SF']"
      ]
     },
     "execution_count": 12,
     "metadata": {},
     "output_type": "execute_result"
    }
   ],
   "source": [
    "fea['features_min']"
   ]
  },
  {
   "cell_type": "code",
   "execution_count": 13,
   "id": "263d0aec",
   "metadata": {},
   "outputs": [
    {
     "data": {
      "text/plain": [
       "dict_keys(['features_max', 'features_max_powerless', 'features_drop_weak', 'features_lite', 'features_min'])"
      ]
     },
     "execution_count": 13,
     "metadata": {},
     "output_type": "execute_result"
    }
   ],
   "source": [
    "fea.keys()"
   ]
  },
  {
   "cell_type": "code",
   "execution_count": 14,
   "id": "fda7182a",
   "metadata": {},
   "outputs": [],
   "source": [
    "binary_vars = list(df.columns[df.isin([0,1]).all()])"
   ]
  },
  {
   "cell_type": "markdown",
   "id": "b6c749c5",
   "metadata": {},
   "source": [
    "Model Results DataFrame"
   ]
  },
  {
   "cell_type": "code",
   "execution_count": 15,
   "id": "62832551",
   "metadata": {},
   "outputs": [],
   "source": [
    "results = pd.DataFrame(columns=['model_group', 'model_type', 'model_params',\n",
    "                               'train_R2', 'train_RMSE', 'val_R2', 'val_RMSE', 'comments'])"
   ]
  },
  {
   "cell_type": "markdown",
   "id": "ae06e0ad",
   "metadata": {},
   "source": [
    "## Train-Val Split\n",
    "Seperate out a holdout validation (Val) set from the start as a fair comparison to evaluate each model and combination of features. The term 'Val' is used instead of 'test' to avoid confusion with the 'test.csv'."
   ]
  },
  {
   "cell_type": "code",
   "execution_count": 16,
   "id": "dd0ba3de",
   "metadata": {},
   "outputs": [],
   "source": [
    "X = df.drop(columns=tv)"
   ]
  },
  {
   "cell_type": "code",
   "execution_count": 17,
   "id": "1488835e",
   "metadata": {},
   "outputs": [],
   "source": [
    "y = df[tv]"
   ]
  },
  {
   "cell_type": "code",
   "execution_count": 18,
   "id": "a2bb3f57",
   "metadata": {},
   "outputs": [],
   "source": [
    "X_train, X_val, y_train, y_val = train_test_split(X, y, random_state=42, test_size=0.2)"
   ]
  },
  {
   "cell_type": "code",
   "execution_count": 19,
   "id": "1ea01337",
   "metadata": {},
   "outputs": [],
   "source": [
    "# store a full copy for reference before the variables change values with different feature sets\n",
    "X_train_full, X_val_full = X_train, X_val"
   ]
  },
  {
   "cell_type": "markdown",
   "id": "925fd04d",
   "metadata": {},
   "source": [
    "## Models\n",
    "\n",
    "Each set of features will be modelled. Linear Regression, Lasso, Ridge and ElasticNet will be evaluated."
   ]
  },
  {
   "cell_type": "markdown",
   "id": "9f342c7b",
   "metadata": {},
   "source": [
    "### Baselines\n",
    "\n",
    "Key metric will be Root Mean Squared Error (RMSE).\n",
    "\n",
    "\n",
    "#### baselines from simplistic set\n",
    "Note that the baselines set out in [Notebook 3a](03a_Model_Baselines.ipynb), where a tiny set of simplistic, untransformed features were used, the baseline RMSE of just predicting the mean price for all entries was 77081.23. Likewise for just predicting with median price, the RMSE was 79754.72. The RMSE in that scenario for the Lasso Model (which outperformed Ridge and regular Linear Regression) was 38009.028."
   ]
  },
  {
   "cell_type": "markdown",
   "id": "f514c914",
   "metadata": {},
   "source": [
    "Benchmark MSE based on predicting all as mean Sale Price:"
   ]
  },
  {
   "cell_type": "code",
   "execution_count": 20,
   "id": "94f71411",
   "metadata": {},
   "outputs": [
    {
     "data": {
      "text/plain": [
       "77233.34908246441"
      ]
     },
     "execution_count": 20,
     "metadata": {},
     "output_type": "execute_result"
    }
   ],
   "source": [
    "just_y_means = np.full(y_val.shape, np.mean(y_val)) \n",
    "(mean_squared_error(y_val, just_y_means))**0.5"
   ]
  },
  {
   "cell_type": "markdown",
   "id": "a209d1b2",
   "metadata": {},
   "source": [
    "Benchmark MSE based on predicting all as median Sale Price:"
   ]
  },
  {
   "cell_type": "code",
   "execution_count": 21,
   "id": "1496021a",
   "metadata": {},
   "outputs": [
    {
     "data": {
      "text/plain": [
       "79543.79434433526"
      ]
     },
     "execution_count": 21,
     "metadata": {},
     "output_type": "execute_result"
    }
   ],
   "source": [
    "just_y_meds = np.full(y_val.shape, np.median(y_val)) \n",
    "(mean_squared_error(y_val, just_y_meds))**0.5"
   ]
  },
  {
   "cell_type": "markdown",
   "id": "37915099",
   "metadata": {},
   "source": [
    "### 1. Models with features_max\n",
    "\n",
    "Referred to as 'Model Group 1'."
   ]
  },
  {
   "cell_type": "markdown",
   "id": "3ffa8fd5",
   "metadata": {},
   "source": [
    "Get Model Group 1 features."
   ]
  },
  {
   "cell_type": "code",
   "execution_count": 22,
   "id": "d161eee9",
   "metadata": {},
   "outputs": [],
   "source": [
    "features1 = fea['features_max']"
   ]
  },
  {
   "cell_type": "code",
   "execution_count": 23,
   "id": "b47e436b",
   "metadata": {},
   "outputs": [],
   "source": [
    "bin_features1 = [f for f in features1 if f in binary_vars]\n",
    "num_features1 = [f for f in features1 if f not in binary_vars]"
   ]
  },
  {
   "cell_type": "code",
   "execution_count": 24,
   "id": "51f16f18",
   "metadata": {},
   "outputs": [],
   "source": [
    "X_train, X_val = X_train_full[features1], X_val_full[features1]"
   ]
  },
  {
   "cell_type": "markdown",
   "id": "fe27b9a6",
   "metadata": {},
   "source": [
    "#### Model Group 1 Linear Regression "
   ]
  },
  {
   "cell_type": "code",
   "execution_count": 25,
   "id": "131d2ee0",
   "metadata": {},
   "outputs": [
    {
     "data": {
      "text/plain": [
       "0.9173287383408084"
      ]
     },
     "execution_count": 25,
     "metadata": {},
     "output_type": "execute_result"
    }
   ],
   "source": [
    "linreg = LinearRegression()\n",
    "\n",
    "linreg.fit(X_train, y_train)\n",
    "linreg.score(X_train, y_train)"
   ]
  },
  {
   "cell_type": "code",
   "execution_count": 26,
   "id": "d8137185",
   "metadata": {},
   "outputs": [
    {
     "data": {
      "text/plain": [
       "22935.16674801194"
      ]
     },
     "execution_count": 26,
     "metadata": {},
     "output_type": "execute_result"
    }
   ],
   "source": [
    "mean_squared_error(y_train, linreg.predict(X_train), squared=False)"
   ]
  },
  {
   "cell_type": "markdown",
   "id": "d330963f",
   "metadata": {},
   "source": [
    "The same RMSE can also be obtained by squaring the MSE while leaving the default squared=True. Looks a bit more intuitive with '\\** 0.5' in showing that it is the root MSE."
   ]
  },
  {
   "cell_type": "code",
   "execution_count": 27,
   "id": "9af6ec72",
   "metadata": {},
   "outputs": [
    {
     "data": {
      "text/plain": [
       "22935.16674801194"
      ]
     },
     "execution_count": 27,
     "metadata": {},
     "output_type": "execute_result"
    }
   ],
   "source": [
    "(mean_squared_error(y_train, linreg.predict(X_train)))**0.5"
   ]
  },
  {
   "cell_type": "markdown",
   "id": "01661727",
   "metadata": {},
   "source": [
    "Model Group 1 Linear Regression performance with cross_validation."
   ]
  },
  {
   "cell_type": "code",
   "execution_count": 28,
   "id": "006ee61a",
   "metadata": {},
   "outputs": [
    {
     "data": {
      "text/plain": [
       "0.9040010255376176"
      ]
     },
     "execution_count": 28,
     "metadata": {},
     "output_type": "execute_result"
    }
   ],
   "source": [
    "cross_val_score(linreg, X_train, y_train, cv=5).mean()"
   ]
  },
  {
   "cell_type": "code",
   "execution_count": 29,
   "id": "c4613729",
   "metadata": {},
   "outputs": [
    {
     "data": {
      "text/plain": [
       "24482.037007948464"
      ]
     },
     "execution_count": 29,
     "metadata": {},
     "output_type": "execute_result"
    }
   ],
   "source": [
    "(- cross_val_score(linreg, X_train, y_train, cv=5, scoring='neg_mean_squared_error').mean()) **0.5"
   ]
  },
  {
   "cell_type": "markdown",
   "id": "671fe773",
   "metadata": {},
   "source": [
    "Model Group 1 Linear Regression performance on validation set."
   ]
  },
  {
   "cell_type": "code",
   "execution_count": 30,
   "id": "0be36d99",
   "metadata": {
    "scrolled": true
   },
   "outputs": [
    {
     "data": {
      "text/plain": [
       "0.9057719543483982"
      ]
     },
     "execution_count": 30,
     "metadata": {},
     "output_type": "execute_result"
    }
   ],
   "source": [
    "linreg.score(X_val, y_val)"
   ]
  },
  {
   "cell_type": "code",
   "execution_count": 31,
   "id": "74e8358b",
   "metadata": {},
   "outputs": [
    {
     "data": {
      "text/plain": [
       "23708.002232701274"
      ]
     },
     "execution_count": 31,
     "metadata": {},
     "output_type": "execute_result"
    }
   ],
   "source": [
    "(mean_squared_error(y_val, linreg.predict(X_val)))**0.5"
   ]
  },
  {
   "cell_type": "code",
   "execution_count": 32,
   "id": "056a11f8",
   "metadata": {},
   "outputs": [],
   "source": [
    "results = results.append({'model_group':1, 'model_type':'Linear Regression', \n",
    "                'train_R2': round(0.9173287383408084, 2), \n",
    "                'train_RMSE': round(24482.037007948464, 2),\n",
    "                'val_R2': round(0.9057719543483982, 2), \n",
    "                'val_RMSE': round(23708.002232701274, 2)},\n",
    "              ignore_index=True)"
   ]
  },
  {
   "cell_type": "code",
   "execution_count": 33,
   "id": "a95bdeb5",
   "metadata": {},
   "outputs": [
    {
     "data": {
      "text/plain": [
       "{'Lot Frontage': 51.0674719437568,\n",
       " 'Lot Area': 1.2552876731352764,\n",
       " 'Overall Cond': 6435.986344416999,\n",
       " 'Year Built': 299.2231032084188,\n",
       " 'Year Remod/Add': 17.056164865735006,\n",
       " 'Mas Vnr Area': 23.364921888473564,\n",
       " 'Total Bsmt SF': -58.85301835420593,\n",
       " '1st Flr SF': -72.53866405577125,\n",
       " '2nd Flr SF': -73.06485811418278,\n",
       " 'Low Qual Fin SF': -109.9890175341086,\n",
       " 'Bedroom AbvGr': -3689.088035972781,\n",
       " 'Kitchen AbvGr': -13954.06243454526,\n",
       " 'TotRms AbvGrd': 1813.6838685933803,\n",
       " 'Fireplaces': 5794.140459045523,\n",
       " 'Garage Area': 16.91332836529297,\n",
       " 'Wood Deck SF': 16.757908900635954,\n",
       " 'Open Porch SF': 13.643361782413457,\n",
       " 'Enclosed Porch': 16.98311347523247,\n",
       " '3Ssn Porch': 43.48751431797177,\n",
       " 'Screen Porch': 78.8895494105575,\n",
       " 'Pool Area': -6.864800501527277,\n",
       " 'Misc Val': 0.9158201968797073,\n",
       " 'Mo Sold': 85.57406791269308,\n",
       " 'Yr Sold': 266.914439457163,\n",
       " 'After 1999': 5096.147921644307,\n",
       " 'PID 9': 5025.1067124229885,\n",
       " 'Bath Log': 13155.046810444197,\n",
       " 'Floating Village': 7810.474435011966,\n",
       " 'Regular Lot Shape': -1681.124344932948,\n",
       " 'Hillside': 20189.526853138235,\n",
       " 'CulDSac': 7007.410336617722,\n",
       " 'NH1': -137918.20703417427,\n",
       " 'NH2': -130155.47142195859,\n",
       " 'NH3': -128613.58485458934,\n",
       " 'NH4': -106456.23930524694,\n",
       " '1 Story': -4550.010516807291,\n",
       " 'Hip Roof': 6044.697092687914,\n",
       " 'Stone Vnr': 9605.010840683191,\n",
       " 'Has Vnr': -5289.42109213473,\n",
       " 'Exter Qual Num': -3078.9556185362917,\n",
       " 'PConc Foundation': 2440.64980077827,\n",
       " 'Has Central Air': 472.99093359785246,\n",
       " 'Excellent Heating': 2433.3049932561585,\n",
       " 'Kitchen Qual Num': 8808.630737819753,\n",
       " 'Fireplace Qu Num': 796.2298365555387,\n",
       " 'Attached or BuiltIn Garage': 1433.098132141262,\n",
       " 'Finished Garage': -423.8494387332211,\n",
       " 'Fully Paved Drive': 8649.675547238588,\n",
       " 'New Sale': 17606.843118739038,\n",
       " 'Has Alley Access': -5695.833550899135,\n",
       " '1.5P Gr Liv Area': 0.33664095834319596,\n",
       " '1.5P Total SF': 1.136424049650941,\n",
       " 'P3 Overall Qual': 105.20159918745189}"
      ]
     },
     "execution_count": 33,
     "metadata": {},
     "output_type": "execute_result"
    }
   ],
   "source": [
    "dict(zip(features1, linreg.coef_))"
   ]
  },
  {
   "cell_type": "markdown",
   "id": "8423fae4",
   "metadata": {},
   "source": [
    "#### Model Group 1 Lasso Regression "
   ]
  },
  {
   "cell_type": "code",
   "execution_count": 34,
   "id": "cc0760df",
   "metadata": {},
   "outputs": [
    {
     "data": {
      "text/plain": [
       "0.9148587069884249"
      ]
     },
     "execution_count": 34,
     "metadata": {},
     "output_type": "execute_result"
    }
   ],
   "source": [
    "numeric_transformer = Pipeline(steps=[('scaler', StandardScaler())])\n",
    "\n",
    "preprocessor = ColumnTransformer(transformers=[\n",
    "    ('bin', 'passthrough', bin_features1),\n",
    "    ('num', numeric_transformer, num_features1)])\n",
    "\n",
    "l_alphas = np.arange(0.0001, 0.50, 0.0025)\n",
    "\n",
    "lasso_cv = Pipeline(steps=[('preprocessor', preprocessor),\n",
    "                       ('estimator', LassoCV())])\n",
    "\n",
    "lasso_cv.fit(X_train, y_train)\n",
    "lasso_cv.score(X_train, y_train)"
   ]
  },
  {
   "cell_type": "code",
   "execution_count": 35,
   "id": "2ef3a28b",
   "metadata": {},
   "outputs": [
    {
     "data": {
      "text/plain": [
       "23275.270658087706"
      ]
     },
     "execution_count": 35,
     "metadata": {},
     "output_type": "execute_result"
    }
   ],
   "source": [
    "(mean_squared_error(y_train, lasso_cv.predict(X_train)))**0.5"
   ]
  },
  {
   "cell_type": "code",
   "execution_count": 36,
   "id": "adae7672",
   "metadata": {},
   "outputs": [
    {
     "data": {
      "text/plain": [
       "67.08901348430173"
      ]
     },
     "execution_count": 36,
     "metadata": {},
     "output_type": "execute_result"
    }
   ],
   "source": [
    "lasso_cv['estimator'].alpha_"
   ]
  },
  {
   "cell_type": "code",
   "execution_count": 37,
   "id": "84f0c1db",
   "metadata": {},
   "outputs": [
    {
     "data": {
      "text/plain": [
       "array([6.70890135e+04, 6.25674385e+04, 5.83506026e+04, 5.44179672e+04,\n",
       "       5.07503784e+04, 4.73299727e+04, 4.41400910e+04, 4.11651966e+04,\n",
       "       3.83908001e+04, 3.58033887e+04, 3.33903601e+04, 3.11399616e+04,\n",
       "       2.90412324e+04, 2.70839505e+04, 2.52585829e+04, 2.35562390e+04,\n",
       "       2.19686273e+04, 2.04880153e+04, 1.91071917e+04, 1.78194309e+04,\n",
       "       1.66184609e+04, 1.54984323e+04, 1.44538898e+04, 1.34797460e+04,\n",
       "       1.25712562e+04, 1.17239956e+04, 1.09338376e+04, 1.01969335e+04,\n",
       "       9.50969432e+03, 8.86877275e+03, 8.27104715e+03, 7.71360626e+03,\n",
       "       7.19373501e+03, 6.70890135e+03, 6.25674385e+03, 5.83506026e+03,\n",
       "       5.44179672e+03, 5.07503784e+03, 4.73299727e+03, 4.41400910e+03,\n",
       "       4.11651966e+03, 3.83908001e+03, 3.58033887e+03, 3.33903601e+03,\n",
       "       3.11399616e+03, 2.90412324e+03, 2.70839505e+03, 2.52585829e+03,\n",
       "       2.35562390e+03, 2.19686273e+03, 2.04880153e+03, 1.91071917e+03,\n",
       "       1.78194309e+03, 1.66184609e+03, 1.54984323e+03, 1.44538898e+03,\n",
       "       1.34797460e+03, 1.25712562e+03, 1.17239956e+03, 1.09338376e+03,\n",
       "       1.01969335e+03, 9.50969432e+02, 8.86877275e+02, 8.27104715e+02,\n",
       "       7.71360626e+02, 7.19373501e+02, 6.70890135e+02, 6.25674385e+02,\n",
       "       5.83506026e+02, 5.44179672e+02, 5.07503784e+02, 4.73299727e+02,\n",
       "       4.41400910e+02, 4.11651966e+02, 3.83908001e+02, 3.58033887e+02,\n",
       "       3.33903601e+02, 3.11399616e+02, 2.90412324e+02, 2.70839505e+02,\n",
       "       2.52585829e+02, 2.35562390e+02, 2.19686273e+02, 2.04880153e+02,\n",
       "       1.91071917e+02, 1.78194309e+02, 1.66184609e+02, 1.54984323e+02,\n",
       "       1.44538898e+02, 1.34797460e+02, 1.25712562e+02, 1.17239956e+02,\n",
       "       1.09338376e+02, 1.01969335e+02, 9.50969432e+01, 8.86877275e+01,\n",
       "       8.27104715e+01, 7.71360626e+01, 7.19373501e+01, 6.70890135e+01])"
      ]
     },
     "execution_count": 37,
     "metadata": {},
     "output_type": "execute_result"
    }
   ],
   "source": [
    "lasso_cv['estimator'].alphas_"
   ]
  },
  {
   "cell_type": "markdown",
   "id": "f3450c0a",
   "metadata": {},
   "source": [
    "Model Group 1 Lasso Regression performance on validation set."
   ]
  },
  {
   "cell_type": "code",
   "execution_count": 38,
   "id": "7e282293",
   "metadata": {
    "scrolled": true
   },
   "outputs": [
    {
     "data": {
      "text/plain": [
       "0.9018749587365382"
      ]
     },
     "execution_count": 38,
     "metadata": {},
     "output_type": "execute_result"
    }
   ],
   "source": [
    "lasso_cv.score(X_val, y_val)"
   ]
  },
  {
   "cell_type": "code",
   "execution_count": 39,
   "id": "c88dc513",
   "metadata": {},
   "outputs": [
    {
     "data": {
      "text/plain": [
       "24193.28234326319"
      ]
     },
     "execution_count": 39,
     "metadata": {},
     "output_type": "execute_result"
    }
   ],
   "source": [
    "(mean_squared_error(y_val, lasso_cv.predict(X_val)))**0.5"
   ]
  },
  {
   "cell_type": "code",
   "execution_count": 40,
   "id": "1d485579",
   "metadata": {},
   "outputs": [],
   "source": [
    "results = results.append({'model_group':1, 'model_type':'Lasso',\n",
    "                          'model_params': f'alpha={round(67.08901348430173, 2)}',\n",
    "                          'train_R2': round(0.9148587069884249, 2), \n",
    "                          'train_RMSE': round(23275.270658087706, 2),\n",
    "                          'val_R2': round(0.9018749587365382, 2), \n",
    "                          'val_RMSE': round(24193.28234326319, 2)},\n",
    "                          ignore_index=True)"
   ]
  },
  {
   "cell_type": "markdown",
   "id": "4c590156",
   "metadata": {},
   "source": [
    "Analysing the Lasso Coefficients"
   ]
  },
  {
   "cell_type": "code",
   "execution_count": 41,
   "id": "f47f4848",
   "metadata": {},
   "outputs": [],
   "source": [
    "# bin_features1"
   ]
  },
  {
   "cell_type": "code",
   "execution_count": 42,
   "id": "ec7e92c2",
   "metadata": {
    "scrolled": true
   },
   "outputs": [],
   "source": [
    "# dict(zip(features1, lasso_cv['estimator'].coef_))"
   ]
  },
  {
   "cell_type": "markdown",
   "id": "c16e45f3",
   "metadata": {},
   "source": [
    "The Lasso coefficients indicate the relatively weight of the feature coefficients in predicting the target after the Lasso penalty has been applied. Those with a coefficient of 0 can be interpreted as features that are not important in the optimal Lasso Regression mode. Here, it seems that information on very specific porch areas, and the area of the second floor are deemed to be not useful. This makes sense as there is already information about porch area, and second floor area information is already provided within the total area. \n",
    "The penalisation of the '1.5P Gr Liv Area' feature weight is likely due to the colinearity with the '1.5P Total SF' feature. "
   ]
  },
  {
   "cell_type": "markdown",
   "id": "820458e0",
   "metadata": {},
   "source": [
    "#### Model Group 1 Ridge Regression "
   ]
  },
  {
   "cell_type": "code",
   "execution_count": 43,
   "id": "ae362e93",
   "metadata": {},
   "outputs": [
    {
     "data": {
      "text/plain": [
       "0.9162954469831734"
      ]
     },
     "execution_count": 43,
     "metadata": {},
     "output_type": "execute_result"
    }
   ],
   "source": [
    "numeric_transformer = Pipeline(steps=[('scaler', StandardScaler())])\n",
    "\n",
    "preprocessor = ColumnTransformer(transformers=[\n",
    "    ('bin', 'passthrough', bin_features1),\n",
    "    ('num', numeric_transformer, num_features1)])\n",
    "\n",
    "ridge_cv = Pipeline(steps=[('preprocessor', preprocessor),\n",
    "                       ('estimator', RidgeCV())])\n",
    "\n",
    "ridge_cv.fit(X_train, y_train)\n",
    "ridge_cv.score(X_train, y_train)"
   ]
  },
  {
   "cell_type": "code",
   "execution_count": 44,
   "id": "37f0f6ba",
   "metadata": {},
   "outputs": [
    {
     "data": {
      "text/plain": [
       "23078.05266121885"
      ]
     },
     "execution_count": 44,
     "metadata": {},
     "output_type": "execute_result"
    }
   ],
   "source": [
    "(mean_squared_error(y_train, ridge_cv.predict(X_train)))**0.5"
   ]
  },
  {
   "cell_type": "code",
   "execution_count": 45,
   "id": "3854a5e3",
   "metadata": {},
   "outputs": [
    {
     "data": {
      "text/plain": [
       "1.0"
      ]
     },
     "execution_count": 45,
     "metadata": {},
     "output_type": "execute_result"
    }
   ],
   "source": [
    "ridge_cv['estimator'].alpha_"
   ]
  },
  {
   "cell_type": "markdown",
   "id": "e536c20f",
   "metadata": {},
   "source": [
    "Model Group 1 Ridge Regression performance on validation set."
   ]
  },
  {
   "cell_type": "code",
   "execution_count": 46,
   "id": "1dce25be",
   "metadata": {
    "scrolled": true
   },
   "outputs": [
    {
     "data": {
      "text/plain": [
       "0.9044848727687812"
      ]
     },
     "execution_count": 46,
     "metadata": {},
     "output_type": "execute_result"
    }
   ],
   "source": [
    "ridge_cv.score(X_val, y_val)"
   ]
  },
  {
   "cell_type": "code",
   "execution_count": 47,
   "id": "12943516",
   "metadata": {
    "scrolled": false
   },
   "outputs": [
    {
     "data": {
      "text/plain": [
       "23869.369469851747"
      ]
     },
     "execution_count": 47,
     "metadata": {},
     "output_type": "execute_result"
    }
   ],
   "source": [
    "(mean_squared_error(y_val, ridge_cv.predict(X_val)))**0.5"
   ]
  },
  {
   "cell_type": "code",
   "execution_count": 48,
   "id": "131dc807",
   "metadata": {},
   "outputs": [],
   "source": [
    "results = results.append({'model_group':1, 'model_type':'Ridge',\n",
    "                          'model_params': f'alpha=1.0',\n",
    "                          'train_R2': round(0.9162954469831734, 2), \n",
    "                          'train_RMSE': round(23078.05266121885, 2),\n",
    "                          'val_R2': round(0.9044848727687812, 2), \n",
    "                          'val_RMSE': round(23869.369469851747, 2)},\n",
    "                          ignore_index=True)"
   ]
  },
  {
   "cell_type": "markdown",
   "id": "86d0e027",
   "metadata": {},
   "source": [
    "#### Model Group 1 ElasticNet Regression "
   ]
  },
  {
   "cell_type": "code",
   "execution_count": 49,
   "id": "a356efb5",
   "metadata": {},
   "outputs": [
    {
     "data": {
      "text/plain": [
       "0.17881367543866655"
      ]
     },
     "execution_count": 49,
     "metadata": {},
     "output_type": "execute_result"
    }
   ],
   "source": [
    "numeric_transformer = Pipeline(steps=[('scaler', StandardScaler())])\n",
    "\n",
    "preprocessor = ColumnTransformer(transformers=[\n",
    "    ('bin', 'passthrough', bin_features1),\n",
    "    ('num', numeric_transformer, num_features1)])\n",
    "\n",
    "en_cv = Pipeline(steps=[('preprocessor', preprocessor),\n",
    "                       ('estimator', ElasticNetCV())])\n",
    "\n",
    "en_cv.fit(X_train, y_train)\n",
    "en_cv.score(X_train, y_train)"
   ]
  },
  {
   "cell_type": "code",
   "execution_count": 50,
   "id": "5c78369c",
   "metadata": {},
   "outputs": [
    {
     "data": {
      "text/plain": [
       "72284.5486147868"
      ]
     },
     "execution_count": 50,
     "metadata": {},
     "output_type": "execute_result"
    }
   ],
   "source": [
    "(mean_squared_error(y_train, en_cv.predict(X_train)))**0.5"
   ]
  },
  {
   "cell_type": "code",
   "execution_count": 51,
   "id": "fe954f7f",
   "metadata": {},
   "outputs": [
    {
     "data": {
      "text/plain": [
       "134.1780269686034"
      ]
     },
     "execution_count": 51,
     "metadata": {},
     "output_type": "execute_result"
    }
   ],
   "source": [
    "en_cv['estimator'].alpha_"
   ]
  },
  {
   "cell_type": "code",
   "execution_count": 52,
   "id": "34627d4c",
   "metadata": {},
   "outputs": [
    {
     "data": {
      "text/plain": [
       "0.5"
      ]
     },
     "execution_count": 52,
     "metadata": {},
     "output_type": "execute_result"
    }
   ],
   "source": [
    "en_cv['estimator'].l1_ratio_"
   ]
  },
  {
   "cell_type": "markdown",
   "id": "51852025",
   "metadata": {},
   "source": [
    "Model Group 1 ElastiNet performance on validation set."
   ]
  },
  {
   "cell_type": "code",
   "execution_count": 53,
   "id": "082fd8f6",
   "metadata": {
    "scrolled": true
   },
   "outputs": [
    {
     "data": {
      "text/plain": [
       "0.1783088767355988"
      ]
     },
     "execution_count": 53,
     "metadata": {},
     "output_type": "execute_result"
    }
   ],
   "source": [
    "en_cv.score(X_val, y_val)"
   ]
  },
  {
   "cell_type": "code",
   "execution_count": 54,
   "id": "18f4a014",
   "metadata": {},
   "outputs": [
    {
     "data": {
      "text/plain": [
       "70009.85292315512"
      ]
     },
     "execution_count": 54,
     "metadata": {},
     "output_type": "execute_result"
    }
   ],
   "source": [
    "(mean_squared_error(y_val, en_cv.predict(X_val)))**0.5"
   ]
  },
  {
   "cell_type": "markdown",
   "id": "a8ab0398",
   "metadata": {},
   "source": [
    "#### Model Group 1 Analysis"
   ]
  },
  {
   "cell_type": "code",
   "execution_count": 55,
   "id": "e91156d2",
   "metadata": {},
   "outputs": [],
   "source": [
    "results['features'] = len(fea['features_max'])"
   ]
  },
  {
   "cell_type": "code",
   "execution_count": 56,
   "id": "1591fcab",
   "metadata": {},
   "outputs": [],
   "source": [
    "results['feature_set'] = 'features_max'"
   ]
  },
  {
   "cell_type": "code",
   "execution_count": 57,
   "id": "62822842",
   "metadata": {},
   "outputs": [
    {
     "data": {
      "text/html": [
       "<div>\n",
       "<style scoped>\n",
       "    .dataframe tbody tr th:only-of-type {\n",
       "        vertical-align: middle;\n",
       "    }\n",
       "\n",
       "    .dataframe tbody tr th {\n",
       "        vertical-align: top;\n",
       "    }\n",
       "\n",
       "    .dataframe thead th {\n",
       "        text-align: right;\n",
       "    }\n",
       "</style>\n",
       "<table border=\"1\" class=\"dataframe\">\n",
       "  <thead>\n",
       "    <tr style=\"text-align: right;\">\n",
       "      <th></th>\n",
       "      <th>model_group</th>\n",
       "      <th>model_type</th>\n",
       "      <th>model_params</th>\n",
       "      <th>train_R2</th>\n",
       "      <th>train_RMSE</th>\n",
       "      <th>val_R2</th>\n",
       "      <th>val_RMSE</th>\n",
       "      <th>comments</th>\n",
       "      <th>features</th>\n",
       "      <th>feature_set</th>\n",
       "    </tr>\n",
       "  </thead>\n",
       "  <tbody>\n",
       "    <tr>\n",
       "      <th>0</th>\n",
       "      <td>1</td>\n",
       "      <td>Linear Regression</td>\n",
       "      <td>NaN</td>\n",
       "      <td>0.92</td>\n",
       "      <td>24482.04</td>\n",
       "      <td>0.91</td>\n",
       "      <td>23708.00</td>\n",
       "      <td>NaN</td>\n",
       "      <td>53</td>\n",
       "      <td>features_max</td>\n",
       "    </tr>\n",
       "    <tr>\n",
       "      <th>1</th>\n",
       "      <td>1</td>\n",
       "      <td>Lasso</td>\n",
       "      <td>alpha=67.09</td>\n",
       "      <td>0.91</td>\n",
       "      <td>23275.27</td>\n",
       "      <td>0.90</td>\n",
       "      <td>24193.28</td>\n",
       "      <td>NaN</td>\n",
       "      <td>53</td>\n",
       "      <td>features_max</td>\n",
       "    </tr>\n",
       "    <tr>\n",
       "      <th>2</th>\n",
       "      <td>1</td>\n",
       "      <td>Ridge</td>\n",
       "      <td>alpha=1.0</td>\n",
       "      <td>0.92</td>\n",
       "      <td>23078.05</td>\n",
       "      <td>0.90</td>\n",
       "      <td>23869.37</td>\n",
       "      <td>NaN</td>\n",
       "      <td>53</td>\n",
       "      <td>features_max</td>\n",
       "    </tr>\n",
       "  </tbody>\n",
       "</table>\n",
       "</div>"
      ],
      "text/plain": [
       "  model_group         model_type model_params  train_R2  train_RMSE  val_R2  \\\n",
       "0           1  Linear Regression          NaN      0.92    24482.04    0.91   \n",
       "1           1              Lasso  alpha=67.09      0.91    23275.27    0.90   \n",
       "2           1              Ridge    alpha=1.0      0.92    23078.05    0.90   \n",
       "\n",
       "   val_RMSE  comments  features   feature_set  \n",
       "0  23708.00       NaN        53  features_max  \n",
       "1  24193.28       NaN        53  features_max  \n",
       "2  23869.37       NaN        53  features_max  "
      ]
     },
     "execution_count": 57,
     "metadata": {},
     "output_type": "execute_result"
    }
   ],
   "source": [
    "results[results['model_group']==1]"
   ]
  },
  {
   "cell_type": "markdown",
   "id": "ae979c3c",
   "metadata": {},
   "source": []
  },
  {
   "cell_type": "markdown",
   "id": "8adef233",
   "metadata": {},
   "source": [
    "#### Streamlining the Metric Generation for Subsequent Feature Sets\n",
    "\n",
    "Having gone through the model training and evaluation for the first feature set step by step, a function will now be created to streamline the process for subsequent feature sets."
   ]
  },
  {
   "cell_type": "code",
   "execution_count": 58,
   "id": "017c8e3a",
   "metadata": {},
   "outputs": [
    {
     "data": {
      "text/plain": [
       "\"\\nmodel_specs = {\\n    'model_group': 1,\\n    'model_type': 'Linear Regression', # or Lasso or Ridge\\n    'feature_set': 'features_max'\\n}\\n\""
      ]
     },
     "execution_count": 58,
     "metadata": {},
     "output_type": "execute_result"
    }
   ],
   "source": [
    "\"\"\"\n",
    "model_specs = {\n",
    "    'model_group': 1,\n",
    "    'model_type': 'Linear Regression', # or Lasso or Ridge\n",
    "    'feature_set': 'features_max'\n",
    "}\n",
    "\"\"\""
   ]
  },
  {
   "cell_type": "code",
   "execution_count": 59,
   "id": "9b7107fa",
   "metadata": {},
   "outputs": [],
   "source": [
    "def model_results(model_specs, max_iter=1000):\n",
    "    \"\"\"\n",
    "    Takes in model specification (dict) containing model group, \n",
    "    model type and feature set to use.\n",
    "    Max_iter can be set to quickly resolve cases where Lasso does not converge.\n",
    "    Returns dict of model R2 (R-Squared) and RMSE on both train and test sets.\n",
    "    \"\"\"\n",
    "    result = model_specs\n",
    "    \n",
    "    model_group = model_specs['model_group']\n",
    "    model_type = model_specs['model_type']\n",
    "    feature_set = model_specs['feature_set']\n",
    "    features = fea[feature_set]\n",
    "    result['features'] = len(features)\n",
    "    \n",
    "    bin_features = [f for f in features if f in binary_vars]\n",
    "    num_features = [f for f in features if f not in binary_vars]\n",
    "    X_train, X_val = X_train_full[features], X_val_full[features]\n",
    "    \n",
    "    if model_type == 'Linear Regression':  \n",
    "        linreg = LinearRegression()\n",
    "        linreg.fit(X_train, y_train)\n",
    "        \n",
    "        result['comments'] = f'Non-CV R2 on train set is {round(linreg.score(X_train, y_train), 2)}.'\n",
    "        cv_train_R2 = cross_val_score(linreg, X_train, y_train, cv=5).mean()\n",
    "        result['train_R2'] = round(cv_train_R2, 2)\n",
    "        cv_train_RMSE = (- cross_val_score(linreg, X_train, y_train, \n",
    "                                           cv=5, scoring='neg_mean_squared_error').mean()) **0.5\n",
    "        result['train_RMSE'] = round(cv_train_RMSE, 2)\n",
    "        result['val_R2'] = round(linreg.score(X_val, y_val), 2)\n",
    "        result['val_RMSE'] = round((mean_squared_error(y_val, linreg.predict(X_val)))**0.5, 2)\n",
    "        \n",
    "    elif model_type == 'Lasso' or model_type == 'Ridge':\n",
    "        \n",
    "        if model_type == 'Lasso':\n",
    "            estimator = LassoCV(max_iter=max_iter)\n",
    "            result['comments'] = f'max_iter = {max_iter}'\n",
    "        else:\n",
    "            estimator = RidgeCV()\n",
    "        \n",
    "        numeric_transformer = Pipeline(steps=[('scaler', StandardScaler())])\n",
    "        preprocessor = ColumnTransformer(transformers=[\n",
    "            ('bin', 'passthrough', bin_features),\n",
    "            ('num', numeric_transformer, num_features)])\n",
    "        model_cv = Pipeline(steps=[('preprocessor', preprocessor),\n",
    "                               ('estimator', estimator)])\n",
    "        model_cv.fit(X_train, y_train)\n",
    "        \n",
    "        best_alpha = model_cv['estimator'].alpha_\n",
    "        result['model_params'] = f'alpha={round(best_alpha,2)}'        \n",
    "        result['train_R2'] = round(model_cv.score(X_train, y_train), 2)\n",
    "        result['train_RMSE'] = round((mean_squared_error(y_train, model_cv.predict(X_train)))**0.5, \n",
    "                                     2)\n",
    "        result['val_R2'] = round(model_cv.score(X_val, y_val), 2)\n",
    "        result['val_RMSE'] = round((mean_squared_error(y_val, model_cv.predict(X_val)))**0.5, \n",
    "                                     2)\n",
    "        \n",
    "    else:\n",
    "        return 'Please choose LinearRegression, Lasso or Ridge for model types.'\n",
    "    \n",
    "    return result    "
   ]
  },
  {
   "cell_type": "markdown",
   "id": "fb57cbf7",
   "metadata": {},
   "source": [
    "### 2. Models with features_max_powerless\n",
    "\n",
    "Model Group 2"
   ]
  },
  {
   "cell_type": "markdown",
   "id": "99cc9905",
   "metadata": {},
   "source": [
    "#### Model Group 2 Linear Regression"
   ]
  },
  {
   "cell_type": "code",
   "execution_count": 60,
   "id": "6d677dbc",
   "metadata": {},
   "outputs": [],
   "source": [
    "model_specs_2 = {\n",
    "    'model_group': 2,\n",
    "    'model_type': 'Linear Regression', \n",
    "    'feature_set': 'features_max_powerless'\n",
    "}"
   ]
  },
  {
   "cell_type": "code",
   "execution_count": 61,
   "id": "1b9e667f",
   "metadata": {},
   "outputs": [],
   "source": [
    "results = results.append(model_results(model_specs_2), ignore_index=True)"
   ]
  },
  {
   "cell_type": "code",
   "execution_count": 62,
   "id": "6df3a4ad",
   "metadata": {},
   "outputs": [
    {
     "data": {
      "text/html": [
       "<div>\n",
       "<style scoped>\n",
       "    .dataframe tbody tr th:only-of-type {\n",
       "        vertical-align: middle;\n",
       "    }\n",
       "\n",
       "    .dataframe tbody tr th {\n",
       "        vertical-align: top;\n",
       "    }\n",
       "\n",
       "    .dataframe thead th {\n",
       "        text-align: right;\n",
       "    }\n",
       "</style>\n",
       "<table border=\"1\" class=\"dataframe\">\n",
       "  <thead>\n",
       "    <tr style=\"text-align: right;\">\n",
       "      <th></th>\n",
       "      <th>model_group</th>\n",
       "      <th>model_type</th>\n",
       "      <th>model_params</th>\n",
       "      <th>train_R2</th>\n",
       "      <th>train_RMSE</th>\n",
       "      <th>val_R2</th>\n",
       "      <th>val_RMSE</th>\n",
       "      <th>comments</th>\n",
       "      <th>features</th>\n",
       "      <th>feature_set</th>\n",
       "    </tr>\n",
       "  </thead>\n",
       "  <tbody>\n",
       "    <tr>\n",
       "      <th>0</th>\n",
       "      <td>1</td>\n",
       "      <td>Linear Regression</td>\n",
       "      <td>NaN</td>\n",
       "      <td>0.92</td>\n",
       "      <td>24482.04</td>\n",
       "      <td>0.91</td>\n",
       "      <td>23708.00</td>\n",
       "      <td>NaN</td>\n",
       "      <td>53</td>\n",
       "      <td>features_max</td>\n",
       "    </tr>\n",
       "    <tr>\n",
       "      <th>1</th>\n",
       "      <td>1</td>\n",
       "      <td>Lasso</td>\n",
       "      <td>alpha=67.09</td>\n",
       "      <td>0.91</td>\n",
       "      <td>23275.27</td>\n",
       "      <td>0.90</td>\n",
       "      <td>24193.28</td>\n",
       "      <td>NaN</td>\n",
       "      <td>53</td>\n",
       "      <td>features_max</td>\n",
       "    </tr>\n",
       "    <tr>\n",
       "      <th>2</th>\n",
       "      <td>1</td>\n",
       "      <td>Ridge</td>\n",
       "      <td>alpha=1.0</td>\n",
       "      <td>0.92</td>\n",
       "      <td>23078.05</td>\n",
       "      <td>0.90</td>\n",
       "      <td>23869.37</td>\n",
       "      <td>NaN</td>\n",
       "      <td>53</td>\n",
       "      <td>features_max</td>\n",
       "    </tr>\n",
       "    <tr>\n",
       "      <th>3</th>\n",
       "      <td>2</td>\n",
       "      <td>Linear Regression</td>\n",
       "      <td>NaN</td>\n",
       "      <td>0.89</td>\n",
       "      <td>26621.22</td>\n",
       "      <td>0.88</td>\n",
       "      <td>26424.24</td>\n",
       "      <td>Non-CV R2 on train set is 0.9.</td>\n",
       "      <td>53</td>\n",
       "      <td>features_max_powerless</td>\n",
       "    </tr>\n",
       "  </tbody>\n",
       "</table>\n",
       "</div>"
      ],
      "text/plain": [
       "  model_group         model_type model_params  train_R2  train_RMSE  val_R2  \\\n",
       "0           1  Linear Regression          NaN      0.92    24482.04    0.91   \n",
       "1           1              Lasso  alpha=67.09      0.91    23275.27    0.90   \n",
       "2           1              Ridge    alpha=1.0      0.92    23078.05    0.90   \n",
       "3           2  Linear Regression          NaN      0.89    26621.22    0.88   \n",
       "\n",
       "   val_RMSE                        comments  features             feature_set  \n",
       "0  23708.00                             NaN        53            features_max  \n",
       "1  24193.28                             NaN        53            features_max  \n",
       "2  23869.37                             NaN        53            features_max  \n",
       "3  26424.24  Non-CV R2 on train set is 0.9.        53  features_max_powerless  "
      ]
     },
     "execution_count": 62,
     "metadata": {},
     "output_type": "execute_result"
    }
   ],
   "source": [
    "results"
   ]
  },
  {
   "cell_type": "markdown",
   "id": "d80aeebf",
   "metadata": {},
   "source": [
    "#### Model Group 2 Lasso Regression"
   ]
  },
  {
   "cell_type": "code",
   "execution_count": 63,
   "id": "2025c039",
   "metadata": {},
   "outputs": [],
   "source": [
    "model_specs_2L = {\n",
    "    'model_group': 2,\n",
    "    'model_type': 'Lasso', \n",
    "    'feature_set': 'features_max_powerless'\n",
    "}"
   ]
  },
  {
   "cell_type": "code",
   "execution_count": 64,
   "id": "4b54b7f2",
   "metadata": {},
   "outputs": [],
   "source": [
    "results = results.append(model_results(model_specs_2L, max_iter=10000), ignore_index=True)"
   ]
  },
  {
   "cell_type": "code",
   "execution_count": 65,
   "id": "fcbc3a89",
   "metadata": {
    "scrolled": true
   },
   "outputs": [
    {
     "data": {
      "text/html": [
       "<div>\n",
       "<style scoped>\n",
       "    .dataframe tbody tr th:only-of-type {\n",
       "        vertical-align: middle;\n",
       "    }\n",
       "\n",
       "    .dataframe tbody tr th {\n",
       "        vertical-align: top;\n",
       "    }\n",
       "\n",
       "    .dataframe thead th {\n",
       "        text-align: right;\n",
       "    }\n",
       "</style>\n",
       "<table border=\"1\" class=\"dataframe\">\n",
       "  <thead>\n",
       "    <tr style=\"text-align: right;\">\n",
       "      <th></th>\n",
       "      <th>model_group</th>\n",
       "      <th>model_type</th>\n",
       "      <th>model_params</th>\n",
       "      <th>train_R2</th>\n",
       "      <th>train_RMSE</th>\n",
       "      <th>val_R2</th>\n",
       "      <th>val_RMSE</th>\n",
       "      <th>comments</th>\n",
       "      <th>features</th>\n",
       "      <th>feature_set</th>\n",
       "    </tr>\n",
       "  </thead>\n",
       "  <tbody>\n",
       "    <tr>\n",
       "      <th>0</th>\n",
       "      <td>1</td>\n",
       "      <td>Linear Regression</td>\n",
       "      <td>NaN</td>\n",
       "      <td>0.92</td>\n",
       "      <td>24482.04</td>\n",
       "      <td>0.91</td>\n",
       "      <td>23708.00</td>\n",
       "      <td>NaN</td>\n",
       "      <td>53</td>\n",
       "      <td>features_max</td>\n",
       "    </tr>\n",
       "    <tr>\n",
       "      <th>1</th>\n",
       "      <td>1</td>\n",
       "      <td>Lasso</td>\n",
       "      <td>alpha=67.09</td>\n",
       "      <td>0.91</td>\n",
       "      <td>23275.27</td>\n",
       "      <td>0.90</td>\n",
       "      <td>24193.28</td>\n",
       "      <td>NaN</td>\n",
       "      <td>53</td>\n",
       "      <td>features_max</td>\n",
       "    </tr>\n",
       "    <tr>\n",
       "      <th>2</th>\n",
       "      <td>1</td>\n",
       "      <td>Ridge</td>\n",
       "      <td>alpha=1.0</td>\n",
       "      <td>0.92</td>\n",
       "      <td>23078.05</td>\n",
       "      <td>0.90</td>\n",
       "      <td>23869.37</td>\n",
       "      <td>NaN</td>\n",
       "      <td>53</td>\n",
       "      <td>features_max</td>\n",
       "    </tr>\n",
       "    <tr>\n",
       "      <th>3</th>\n",
       "      <td>2</td>\n",
       "      <td>Linear Regression</td>\n",
       "      <td>NaN</td>\n",
       "      <td>0.89</td>\n",
       "      <td>26621.22</td>\n",
       "      <td>0.88</td>\n",
       "      <td>26424.24</td>\n",
       "      <td>Non-CV R2 on train set is 0.9.</td>\n",
       "      <td>53</td>\n",
       "      <td>features_max_powerless</td>\n",
       "    </tr>\n",
       "    <tr>\n",
       "      <th>4</th>\n",
       "      <td>2</td>\n",
       "      <td>Lasso</td>\n",
       "      <td>alpha=65.87</td>\n",
       "      <td>0.90</td>\n",
       "      <td>25427.73</td>\n",
       "      <td>0.88</td>\n",
       "      <td>26713.18</td>\n",
       "      <td>max_iter = 10000</td>\n",
       "      <td>53</td>\n",
       "      <td>features_max_powerless</td>\n",
       "    </tr>\n",
       "  </tbody>\n",
       "</table>\n",
       "</div>"
      ],
      "text/plain": [
       "  model_group         model_type model_params  train_R2  train_RMSE  val_R2  \\\n",
       "0           1  Linear Regression          NaN      0.92    24482.04    0.91   \n",
       "1           1              Lasso  alpha=67.09      0.91    23275.27    0.90   \n",
       "2           1              Ridge    alpha=1.0      0.92    23078.05    0.90   \n",
       "3           2  Linear Regression          NaN      0.89    26621.22    0.88   \n",
       "4           2              Lasso  alpha=65.87      0.90    25427.73    0.88   \n",
       "\n",
       "   val_RMSE                        comments  features             feature_set  \n",
       "0  23708.00                             NaN        53            features_max  \n",
       "1  24193.28                             NaN        53            features_max  \n",
       "2  23869.37                             NaN        53            features_max  \n",
       "3  26424.24  Non-CV R2 on train set is 0.9.        53  features_max_powerless  \n",
       "4  26713.18                max_iter = 10000        53  features_max_powerless  "
      ]
     },
     "execution_count": 65,
     "metadata": {},
     "output_type": "execute_result"
    }
   ],
   "source": [
    "results"
   ]
  },
  {
   "cell_type": "markdown",
   "id": "e6841103",
   "metadata": {},
   "source": [
    "#### Model Group 2 Ridge Regression"
   ]
  },
  {
   "cell_type": "code",
   "execution_count": 66,
   "id": "c634c1a3",
   "metadata": {},
   "outputs": [],
   "source": [
    "model_specs_2R = {\n",
    "    'model_group': 2,\n",
    "    'model_type': 'Ridge', \n",
    "    'feature_set': 'features_max_powerless'\n",
    "}"
   ]
  },
  {
   "cell_type": "code",
   "execution_count": 67,
   "id": "ab8b7166",
   "metadata": {},
   "outputs": [
    {
     "data": {
      "text/plain": [
       "{'model_group': 2,\n",
       " 'model_type': 'Ridge',\n",
       " 'feature_set': 'features_max_powerless',\n",
       " 'features': 53,\n",
       " 'model_params': 'alpha=10.0',\n",
       " 'train_R2': 0.9,\n",
       " 'train_RMSE': 25405.1,\n",
       " 'val_R2': 0.88,\n",
       " 'val_RMSE': 26575.5}"
      ]
     },
     "execution_count": 67,
     "metadata": {},
     "output_type": "execute_result"
    }
   ],
   "source": [
    "model_results(model_specs_2R)"
   ]
  },
  {
   "cell_type": "code",
   "execution_count": 68,
   "id": "ba39d9be",
   "metadata": {},
   "outputs": [],
   "source": [
    "results = results.append(model_results(model_specs_2R), ignore_index=True)"
   ]
  },
  {
   "cell_type": "markdown",
   "id": "ec665887",
   "metadata": {},
   "source": [
    "#### Model Group 2 Analysis"
   ]
  },
  {
   "cell_type": "code",
   "execution_count": 69,
   "id": "65936fd4",
   "metadata": {},
   "outputs": [
    {
     "data": {
      "text/html": [
       "<div>\n",
       "<style scoped>\n",
       "    .dataframe tbody tr th:only-of-type {\n",
       "        vertical-align: middle;\n",
       "    }\n",
       "\n",
       "    .dataframe tbody tr th {\n",
       "        vertical-align: top;\n",
       "    }\n",
       "\n",
       "    .dataframe thead th {\n",
       "        text-align: right;\n",
       "    }\n",
       "</style>\n",
       "<table border=\"1\" class=\"dataframe\">\n",
       "  <thead>\n",
       "    <tr style=\"text-align: right;\">\n",
       "      <th></th>\n",
       "      <th>model_group</th>\n",
       "      <th>model_type</th>\n",
       "      <th>model_params</th>\n",
       "      <th>train_R2</th>\n",
       "      <th>train_RMSE</th>\n",
       "      <th>val_R2</th>\n",
       "      <th>val_RMSE</th>\n",
       "      <th>comments</th>\n",
       "      <th>features</th>\n",
       "      <th>feature_set</th>\n",
       "    </tr>\n",
       "  </thead>\n",
       "  <tbody>\n",
       "    <tr>\n",
       "      <th>0</th>\n",
       "      <td>1</td>\n",
       "      <td>Linear Regression</td>\n",
       "      <td>NaN</td>\n",
       "      <td>0.92</td>\n",
       "      <td>24482.04</td>\n",
       "      <td>0.91</td>\n",
       "      <td>23708.00</td>\n",
       "      <td>NaN</td>\n",
       "      <td>53</td>\n",
       "      <td>features_max</td>\n",
       "    </tr>\n",
       "    <tr>\n",
       "      <th>1</th>\n",
       "      <td>1</td>\n",
       "      <td>Lasso</td>\n",
       "      <td>alpha=67.09</td>\n",
       "      <td>0.91</td>\n",
       "      <td>23275.27</td>\n",
       "      <td>0.90</td>\n",
       "      <td>24193.28</td>\n",
       "      <td>NaN</td>\n",
       "      <td>53</td>\n",
       "      <td>features_max</td>\n",
       "    </tr>\n",
       "    <tr>\n",
       "      <th>2</th>\n",
       "      <td>1</td>\n",
       "      <td>Ridge</td>\n",
       "      <td>alpha=1.0</td>\n",
       "      <td>0.92</td>\n",
       "      <td>23078.05</td>\n",
       "      <td>0.90</td>\n",
       "      <td>23869.37</td>\n",
       "      <td>NaN</td>\n",
       "      <td>53</td>\n",
       "      <td>features_max</td>\n",
       "    </tr>\n",
       "  </tbody>\n",
       "</table>\n",
       "</div>"
      ],
      "text/plain": [
       "  model_group         model_type model_params  train_R2  train_RMSE  val_R2  \\\n",
       "0           1  Linear Regression          NaN      0.92    24482.04    0.91   \n",
       "1           1              Lasso  alpha=67.09      0.91    23275.27    0.90   \n",
       "2           1              Ridge    alpha=1.0      0.92    23078.05    0.90   \n",
       "\n",
       "   val_RMSE comments  features   feature_set  \n",
       "0  23708.00      NaN        53  features_max  \n",
       "1  24193.28      NaN        53  features_max  \n",
       "2  23869.37      NaN        53  features_max  "
      ]
     },
     "execution_count": 69,
     "metadata": {},
     "output_type": "execute_result"
    }
   ],
   "source": [
    "results[results['model_group']==1]"
   ]
  },
  {
   "cell_type": "code",
   "execution_count": 70,
   "id": "3b6cc5a0",
   "metadata": {},
   "outputs": [
    {
     "data": {
      "text/html": [
       "<div>\n",
       "<style scoped>\n",
       "    .dataframe tbody tr th:only-of-type {\n",
       "        vertical-align: middle;\n",
       "    }\n",
       "\n",
       "    .dataframe tbody tr th {\n",
       "        vertical-align: top;\n",
       "    }\n",
       "\n",
       "    .dataframe thead th {\n",
       "        text-align: right;\n",
       "    }\n",
       "</style>\n",
       "<table border=\"1\" class=\"dataframe\">\n",
       "  <thead>\n",
       "    <tr style=\"text-align: right;\">\n",
       "      <th></th>\n",
       "      <th>model_group</th>\n",
       "      <th>model_type</th>\n",
       "      <th>model_params</th>\n",
       "      <th>train_R2</th>\n",
       "      <th>train_RMSE</th>\n",
       "      <th>val_R2</th>\n",
       "      <th>val_RMSE</th>\n",
       "      <th>comments</th>\n",
       "      <th>features</th>\n",
       "      <th>feature_set</th>\n",
       "    </tr>\n",
       "  </thead>\n",
       "  <tbody>\n",
       "    <tr>\n",
       "      <th>3</th>\n",
       "      <td>2</td>\n",
       "      <td>Linear Regression</td>\n",
       "      <td>NaN</td>\n",
       "      <td>0.89</td>\n",
       "      <td>26621.22</td>\n",
       "      <td>0.88</td>\n",
       "      <td>26424.24</td>\n",
       "      <td>Non-CV R2 on train set is 0.9.</td>\n",
       "      <td>53</td>\n",
       "      <td>features_max_powerless</td>\n",
       "    </tr>\n",
       "    <tr>\n",
       "      <th>4</th>\n",
       "      <td>2</td>\n",
       "      <td>Lasso</td>\n",
       "      <td>alpha=65.87</td>\n",
       "      <td>0.90</td>\n",
       "      <td>25427.73</td>\n",
       "      <td>0.88</td>\n",
       "      <td>26713.18</td>\n",
       "      <td>max_iter = 10000</td>\n",
       "      <td>53</td>\n",
       "      <td>features_max_powerless</td>\n",
       "    </tr>\n",
       "    <tr>\n",
       "      <th>5</th>\n",
       "      <td>2</td>\n",
       "      <td>Ridge</td>\n",
       "      <td>alpha=10.0</td>\n",
       "      <td>0.90</td>\n",
       "      <td>25405.10</td>\n",
       "      <td>0.88</td>\n",
       "      <td>26575.50</td>\n",
       "      <td>NaN</td>\n",
       "      <td>53</td>\n",
       "      <td>features_max_powerless</td>\n",
       "    </tr>\n",
       "  </tbody>\n",
       "</table>\n",
       "</div>"
      ],
      "text/plain": [
       "  model_group         model_type model_params  train_R2  train_RMSE  val_R2  \\\n",
       "3           2  Linear Regression          NaN      0.89    26621.22    0.88   \n",
       "4           2              Lasso  alpha=65.87      0.90    25427.73    0.88   \n",
       "5           2              Ridge   alpha=10.0      0.90    25405.10    0.88   \n",
       "\n",
       "   val_RMSE                        comments  features             feature_set  \n",
       "3  26424.24  Non-CV R2 on train set is 0.9.        53  features_max_powerless  \n",
       "4  26713.18                max_iter = 10000        53  features_max_powerless  \n",
       "5  26575.50                             NaN        53  features_max_powerless  "
      ]
     },
     "execution_count": 70,
     "metadata": {},
     "output_type": "execute_result"
    }
   ],
   "source": [
    "results[results['model_group']==2]"
   ]
  },
  {
   "cell_type": "markdown",
   "id": "3f7a43a0",
   "metadata": {},
   "source": [
    "### 3. Models with features_drop_weak\n",
    "Model Group 3"
   ]
  },
  {
   "cell_type": "markdown",
   "id": "37be3fff",
   "metadata": {},
   "source": [
    "#### Model Group 3 Linear Regression"
   ]
  },
  {
   "cell_type": "code",
   "execution_count": 71,
   "id": "a5984f38",
   "metadata": {},
   "outputs": [],
   "source": [
    "model_specs_3 = {\n",
    "    'model_group': 3,\n",
    "    'model_type': 'Linear Regression', \n",
    "    'feature_set': 'features_drop_weak'\n",
    "}"
   ]
  },
  {
   "cell_type": "code",
   "execution_count": 72,
   "id": "28f2bc44",
   "metadata": {},
   "outputs": [],
   "source": [
    "results = results.append(model_results(model_specs_3), ignore_index=True)"
   ]
  },
  {
   "cell_type": "markdown",
   "id": "736a2817",
   "metadata": {},
   "source": [
    "#### Model Group 3 Lasso Regression"
   ]
  },
  {
   "cell_type": "code",
   "execution_count": 73,
   "id": "b7460a56",
   "metadata": {},
   "outputs": [],
   "source": [
    "model_specs_3L = {\n",
    "    'model_group': 3,\n",
    "    'model_type': 'Lasso', \n",
    "    'feature_set': 'features_drop_weak'\n",
    "}"
   ]
  },
  {
   "cell_type": "code",
   "execution_count": 74,
   "id": "9276e6ad",
   "metadata": {},
   "outputs": [],
   "source": [
    "results = results.append(model_results(model_specs_3L), ignore_index=True)"
   ]
  },
  {
   "cell_type": "markdown",
   "id": "c327cad8",
   "metadata": {},
   "source": [
    "#### Model Group 3 Ridge Regression"
   ]
  },
  {
   "cell_type": "code",
   "execution_count": 75,
   "id": "66083b93",
   "metadata": {},
   "outputs": [],
   "source": [
    "model_specs_3R = {\n",
    "    'model_group': 3,\n",
    "    'model_type': 'Ridge', \n",
    "    'feature_set': 'features_drop_weak'\n",
    "}"
   ]
  },
  {
   "cell_type": "code",
   "execution_count": 76,
   "id": "f4b96465",
   "metadata": {},
   "outputs": [],
   "source": [
    "results = results.append(model_results(model_specs_3R), ignore_index=True)"
   ]
  },
  {
   "cell_type": "markdown",
   "id": "dff494b4",
   "metadata": {},
   "source": [
    "#### Model Group 3 Analysis"
   ]
  },
  {
   "cell_type": "code",
   "execution_count": 77,
   "id": "20519d11",
   "metadata": {},
   "outputs": [
    {
     "data": {
      "text/html": [
       "<div>\n",
       "<style scoped>\n",
       "    .dataframe tbody tr th:only-of-type {\n",
       "        vertical-align: middle;\n",
       "    }\n",
       "\n",
       "    .dataframe tbody tr th {\n",
       "        vertical-align: top;\n",
       "    }\n",
       "\n",
       "    .dataframe thead th {\n",
       "        text-align: right;\n",
       "    }\n",
       "</style>\n",
       "<table border=\"1\" class=\"dataframe\">\n",
       "  <thead>\n",
       "    <tr style=\"text-align: right;\">\n",
       "      <th></th>\n",
       "      <th>model_group</th>\n",
       "      <th>model_type</th>\n",
       "      <th>model_params</th>\n",
       "      <th>train_R2</th>\n",
       "      <th>train_RMSE</th>\n",
       "      <th>val_R2</th>\n",
       "      <th>val_RMSE</th>\n",
       "      <th>comments</th>\n",
       "      <th>features</th>\n",
       "      <th>feature_set</th>\n",
       "    </tr>\n",
       "  </thead>\n",
       "  <tbody>\n",
       "    <tr>\n",
       "      <th>0</th>\n",
       "      <td>1</td>\n",
       "      <td>Linear Regression</td>\n",
       "      <td>NaN</td>\n",
       "      <td>0.92</td>\n",
       "      <td>24482.04</td>\n",
       "      <td>0.91</td>\n",
       "      <td>23708.00</td>\n",
       "      <td>NaN</td>\n",
       "      <td>53</td>\n",
       "      <td>features_max</td>\n",
       "    </tr>\n",
       "    <tr>\n",
       "      <th>1</th>\n",
       "      <td>1</td>\n",
       "      <td>Lasso</td>\n",
       "      <td>alpha=67.09</td>\n",
       "      <td>0.91</td>\n",
       "      <td>23275.27</td>\n",
       "      <td>0.90</td>\n",
       "      <td>24193.28</td>\n",
       "      <td>NaN</td>\n",
       "      <td>53</td>\n",
       "      <td>features_max</td>\n",
       "    </tr>\n",
       "    <tr>\n",
       "      <th>2</th>\n",
       "      <td>1</td>\n",
       "      <td>Ridge</td>\n",
       "      <td>alpha=1.0</td>\n",
       "      <td>0.92</td>\n",
       "      <td>23078.05</td>\n",
       "      <td>0.90</td>\n",
       "      <td>23869.37</td>\n",
       "      <td>NaN</td>\n",
       "      <td>53</td>\n",
       "      <td>features_max</td>\n",
       "    </tr>\n",
       "    <tr>\n",
       "      <th>3</th>\n",
       "      <td>2</td>\n",
       "      <td>Linear Regression</td>\n",
       "      <td>NaN</td>\n",
       "      <td>0.89</td>\n",
       "      <td>26621.22</td>\n",
       "      <td>0.88</td>\n",
       "      <td>26424.24</td>\n",
       "      <td>Non-CV R2 on train set is 0.9.</td>\n",
       "      <td>53</td>\n",
       "      <td>features_max_powerless</td>\n",
       "    </tr>\n",
       "    <tr>\n",
       "      <th>4</th>\n",
       "      <td>2</td>\n",
       "      <td>Lasso</td>\n",
       "      <td>alpha=65.87</td>\n",
       "      <td>0.90</td>\n",
       "      <td>25427.73</td>\n",
       "      <td>0.88</td>\n",
       "      <td>26713.18</td>\n",
       "      <td>max_iter = 10000</td>\n",
       "      <td>53</td>\n",
       "      <td>features_max_powerless</td>\n",
       "    </tr>\n",
       "    <tr>\n",
       "      <th>5</th>\n",
       "      <td>2</td>\n",
       "      <td>Ridge</td>\n",
       "      <td>alpha=10.0</td>\n",
       "      <td>0.90</td>\n",
       "      <td>25405.10</td>\n",
       "      <td>0.88</td>\n",
       "      <td>26575.50</td>\n",
       "      <td>NaN</td>\n",
       "      <td>53</td>\n",
       "      <td>features_max_powerless</td>\n",
       "    </tr>\n",
       "    <tr>\n",
       "      <th>6</th>\n",
       "      <td>3</td>\n",
       "      <td>Linear Regression</td>\n",
       "      <td>NaN</td>\n",
       "      <td>0.90</td>\n",
       "      <td>25433.04</td>\n",
       "      <td>0.90</td>\n",
       "      <td>24795.49</td>\n",
       "      <td>Non-CV R2 on train set is 0.91.</td>\n",
       "      <td>45</td>\n",
       "      <td>features_drop_weak</td>\n",
       "    </tr>\n",
       "    <tr>\n",
       "      <th>7</th>\n",
       "      <td>3</td>\n",
       "      <td>Lasso</td>\n",
       "      <td>alpha=117.24</td>\n",
       "      <td>0.91</td>\n",
       "      <td>24342.21</td>\n",
       "      <td>0.89</td>\n",
       "      <td>25283.04</td>\n",
       "      <td>max_iter = 1000</td>\n",
       "      <td>45</td>\n",
       "      <td>features_drop_weak</td>\n",
       "    </tr>\n",
       "    <tr>\n",
       "      <th>8</th>\n",
       "      <td>3</td>\n",
       "      <td>Ridge</td>\n",
       "      <td>alpha=1.0</td>\n",
       "      <td>0.91</td>\n",
       "      <td>24068.17</td>\n",
       "      <td>0.90</td>\n",
       "      <td>24910.00</td>\n",
       "      <td>NaN</td>\n",
       "      <td>45</td>\n",
       "      <td>features_drop_weak</td>\n",
       "    </tr>\n",
       "  </tbody>\n",
       "</table>\n",
       "</div>"
      ],
      "text/plain": [
       "  model_group         model_type  model_params  train_R2  train_RMSE  val_R2  \\\n",
       "0           1  Linear Regression           NaN      0.92    24482.04    0.91   \n",
       "1           1              Lasso   alpha=67.09      0.91    23275.27    0.90   \n",
       "2           1              Ridge     alpha=1.0      0.92    23078.05    0.90   \n",
       "3           2  Linear Regression           NaN      0.89    26621.22    0.88   \n",
       "4           2              Lasso   alpha=65.87      0.90    25427.73    0.88   \n",
       "5           2              Ridge    alpha=10.0      0.90    25405.10    0.88   \n",
       "6           3  Linear Regression           NaN      0.90    25433.04    0.90   \n",
       "7           3              Lasso  alpha=117.24      0.91    24342.21    0.89   \n",
       "8           3              Ridge     alpha=1.0      0.91    24068.17    0.90   \n",
       "\n",
       "   val_RMSE                         comments  features             feature_set  \n",
       "0  23708.00                              NaN        53            features_max  \n",
       "1  24193.28                              NaN        53            features_max  \n",
       "2  23869.37                              NaN        53            features_max  \n",
       "3  26424.24   Non-CV R2 on train set is 0.9.        53  features_max_powerless  \n",
       "4  26713.18                 max_iter = 10000        53  features_max_powerless  \n",
       "5  26575.50                              NaN        53  features_max_powerless  \n",
       "6  24795.49  Non-CV R2 on train set is 0.91.        45      features_drop_weak  \n",
       "7  25283.04                  max_iter = 1000        45      features_drop_weak  \n",
       "8  24910.00                              NaN        45      features_drop_weak  "
      ]
     },
     "execution_count": 77,
     "metadata": {},
     "output_type": "execute_result"
    }
   ],
   "source": [
    "results"
   ]
  },
  {
   "cell_type": "markdown",
   "id": "ab3a8d4b",
   "metadata": {},
   "source": [
    "### 4. Models with features_lite\n",
    "Model Group 4"
   ]
  },
  {
   "cell_type": "markdown",
   "id": "9dba690b",
   "metadata": {},
   "source": [
    "#### Model Group 4 Linear Regression"
   ]
  },
  {
   "cell_type": "code",
   "execution_count": 78,
   "id": "476ccd41",
   "metadata": {},
   "outputs": [
    {
     "data": {
      "text/plain": [
       "{'features_max': ['Lot Frontage',\n",
       "  'Lot Area',\n",
       "  'Overall Cond',\n",
       "  'Year Built',\n",
       "  'Year Remod/Add',\n",
       "  'Mas Vnr Area',\n",
       "  'Total Bsmt SF',\n",
       "  '1st Flr SF',\n",
       "  '2nd Flr SF',\n",
       "  'Low Qual Fin SF',\n",
       "  'Bedroom AbvGr',\n",
       "  'Kitchen AbvGr',\n",
       "  'TotRms AbvGrd',\n",
       "  'Fireplaces',\n",
       "  'Garage Area',\n",
       "  'Wood Deck SF',\n",
       "  'Open Porch SF',\n",
       "  'Enclosed Porch',\n",
       "  '3Ssn Porch',\n",
       "  'Screen Porch',\n",
       "  'Pool Area',\n",
       "  'Misc Val',\n",
       "  'Mo Sold',\n",
       "  'Yr Sold',\n",
       "  'After 1999',\n",
       "  'PID 9',\n",
       "  'Bath Log',\n",
       "  'Floating Village',\n",
       "  'Regular Lot Shape',\n",
       "  'Hillside',\n",
       "  'CulDSac',\n",
       "  'NH1',\n",
       "  'NH2',\n",
       "  'NH3',\n",
       "  'NH4',\n",
       "  '1 Story',\n",
       "  'Hip Roof',\n",
       "  'Stone Vnr',\n",
       "  'Has Vnr',\n",
       "  'Exter Qual Num',\n",
       "  'PConc Foundation',\n",
       "  'Has Central Air',\n",
       "  'Excellent Heating',\n",
       "  'Kitchen Qual Num',\n",
       "  'Fireplace Qu Num',\n",
       "  'Attached or BuiltIn Garage',\n",
       "  'Finished Garage',\n",
       "  'Fully Paved Drive',\n",
       "  'New Sale',\n",
       "  'Has Alley Access',\n",
       "  '1.5P Gr Liv Area',\n",
       "  '1.5P Total SF',\n",
       "  'P3 Overall Qual'],\n",
       " 'features_max_powerless': ['Lot Frontage',\n",
       "  'Lot Area',\n",
       "  'Overall Qual',\n",
       "  'Overall Cond',\n",
       "  'Year Built',\n",
       "  'Year Remod/Add',\n",
       "  'Mas Vnr Area',\n",
       "  'Total Bsmt SF',\n",
       "  '1st Flr SF',\n",
       "  '2nd Flr SF',\n",
       "  'Low Qual Fin SF',\n",
       "  'Gr Liv Area',\n",
       "  'Bedroom AbvGr',\n",
       "  'Kitchen AbvGr',\n",
       "  'TotRms AbvGrd',\n",
       "  'Fireplaces',\n",
       "  'Garage Area',\n",
       "  'Wood Deck SF',\n",
       "  'Open Porch SF',\n",
       "  'Enclosed Porch',\n",
       "  '3Ssn Porch',\n",
       "  'Screen Porch',\n",
       "  'Pool Area',\n",
       "  'Misc Val',\n",
       "  'Mo Sold',\n",
       "  'Yr Sold',\n",
       "  'After 1999',\n",
       "  'PID 9',\n",
       "  'Bath Log',\n",
       "  'Floating Village',\n",
       "  'Regular Lot Shape',\n",
       "  'Hillside',\n",
       "  'CulDSac',\n",
       "  'NH1',\n",
       "  'NH2',\n",
       "  'NH3',\n",
       "  'NH4',\n",
       "  '1 Story',\n",
       "  'Hip Roof',\n",
       "  'Stone Vnr',\n",
       "  'Has Vnr',\n",
       "  'Exter Qual Num',\n",
       "  'PConc Foundation',\n",
       "  'Has Central Air',\n",
       "  'Excellent Heating',\n",
       "  'Kitchen Qual Num',\n",
       "  'Fireplace Qu Num',\n",
       "  'Attached or BuiltIn Garage',\n",
       "  'Finished Garage',\n",
       "  'Fully Paved Drive',\n",
       "  'New Sale',\n",
       "  'Has Alley Access',\n",
       "  'Total SF'],\n",
       " 'features_drop_weak': ['Lot Frontage',\n",
       "  'Lot Area',\n",
       "  'Year Built',\n",
       "  'Year Remod/Add',\n",
       "  'Mas Vnr Area',\n",
       "  'Total Bsmt SF',\n",
       "  '1st Flr SF',\n",
       "  '2nd Flr SF',\n",
       "  'Bedroom AbvGr',\n",
       "  'Kitchen AbvGr',\n",
       "  'TotRms AbvGrd',\n",
       "  'Fireplaces',\n",
       "  'Garage Area',\n",
       "  'Wood Deck SF',\n",
       "  'Open Porch SF',\n",
       "  'Enclosed Porch',\n",
       "  'Screen Porch',\n",
       "  'After 1999',\n",
       "  'PID 9',\n",
       "  'Bath Log',\n",
       "  'Floating Village',\n",
       "  'Regular Lot Shape',\n",
       "  'Hillside',\n",
       "  'CulDSac',\n",
       "  'NH1',\n",
       "  'NH2',\n",
       "  'NH3',\n",
       "  'NH4',\n",
       "  'Hip Roof',\n",
       "  'Stone Vnr',\n",
       "  'Has Vnr',\n",
       "  'Exter Qual Num',\n",
       "  'PConc Foundation',\n",
       "  'Has Central Air',\n",
       "  'Excellent Heating',\n",
       "  'Kitchen Qual Num',\n",
       "  'Fireplace Qu Num',\n",
       "  'Attached or BuiltIn Garage',\n",
       "  'Finished Garage',\n",
       "  'Fully Paved Drive',\n",
       "  'New Sale',\n",
       "  'Has Alley Access',\n",
       "  '1.5P Gr Liv Area',\n",
       "  '1.5P Total SF',\n",
       "  'P3 Overall Qual'],\n",
       " 'features_lite': ['TotRms AbvGrd',\n",
       "  'Mas Vnr Area',\n",
       "  'Bath Log',\n",
       "  'Garage Area',\n",
       "  'Year Built',\n",
       "  'PConc Foundation',\n",
       "  'NH4',\n",
       "  'Fireplaces',\n",
       "  'Finished Garage',\n",
       "  '1.5P Gr Liv Area',\n",
       "  'Has Vnr',\n",
       "  '1.5P Total SF',\n",
       "  'Excellent Heating',\n",
       "  'Kitchen Qual Num',\n",
       "  'Fireplace Qu Num',\n",
       "  'NH2',\n",
       "  'Exter Qual Num',\n",
       "  'Year Remod/Add',\n",
       "  'Attached or BuiltIn Garage',\n",
       "  'After 1999',\n",
       "  'Overall Qual',\n",
       "  '1st Flr SF',\n",
       "  'Total SF',\n",
       "  'P3 Overall Qual'],\n",
       " 'features_min': ['P3 Overall Qual', '1.5P Total SF']}"
      ]
     },
     "execution_count": 78,
     "metadata": {},
     "output_type": "execute_result"
    }
   ],
   "source": [
    "fea"
   ]
  },
  {
   "cell_type": "code",
   "execution_count": 79,
   "id": "7df522b4",
   "metadata": {},
   "outputs": [
    {
     "data": {
      "text/plain": [
       "['TotRms AbvGrd',\n",
       " 'Mas Vnr Area',\n",
       " 'Bath Log',\n",
       " 'Garage Area',\n",
       " 'Year Built',\n",
       " 'PConc Foundation',\n",
       " 'NH4',\n",
       " 'Fireplaces',\n",
       " 'Finished Garage',\n",
       " '1.5P Gr Liv Area',\n",
       " 'Has Vnr',\n",
       " '1.5P Total SF',\n",
       " 'Excellent Heating',\n",
       " 'Kitchen Qual Num',\n",
       " 'Fireplace Qu Num',\n",
       " 'NH2',\n",
       " 'Exter Qual Num',\n",
       " 'Year Remod/Add',\n",
       " 'Attached or BuiltIn Garage',\n",
       " 'After 1999',\n",
       " 'Overall Qual',\n",
       " '1st Flr SF',\n",
       " 'Total SF',\n",
       " 'P3 Overall Qual']"
      ]
     },
     "execution_count": 79,
     "metadata": {},
     "output_type": "execute_result"
    }
   ],
   "source": [
    "fea['features_lite']"
   ]
  },
  {
   "cell_type": "code",
   "execution_count": 80,
   "id": "d146cd5a",
   "metadata": {},
   "outputs": [],
   "source": [
    "model_specs_4 = {\n",
    "    'model_group': 4,\n",
    "    'model_type': 'Linear Regression', \n",
    "    'feature_set': 'features_lite'\n",
    "}"
   ]
  },
  {
   "cell_type": "code",
   "execution_count": 81,
   "id": "17c27e68",
   "metadata": {},
   "outputs": [],
   "source": [
    "results = results.append(model_results(model_specs_4), ignore_index=True)"
   ]
  },
  {
   "cell_type": "markdown",
   "id": "6c3ce698",
   "metadata": {},
   "source": [
    "#### Model Group 4 Lasso Regression"
   ]
  },
  {
   "cell_type": "code",
   "execution_count": 82,
   "id": "31bbcc6d",
   "metadata": {},
   "outputs": [],
   "source": [
    "model_specs_4L = {\n",
    "    'model_group': 4,\n",
    "    'model_type': 'Lasso', \n",
    "    'feature_set': 'features_lite'\n",
    "}"
   ]
  },
  {
   "cell_type": "code",
   "execution_count": 83,
   "id": "215daf35",
   "metadata": {},
   "outputs": [],
   "source": [
    "results = results.append(model_results(model_specs_4L), ignore_index=True)"
   ]
  },
  {
   "cell_type": "markdown",
   "id": "465c6ed3",
   "metadata": {},
   "source": [
    "#### Model Group 4 Ridge Regression"
   ]
  },
  {
   "cell_type": "code",
   "execution_count": 84,
   "id": "dca85906",
   "metadata": {},
   "outputs": [],
   "source": [
    "model_specs_4R = {\n",
    "    'model_group': 4,\n",
    "    'model_type': 'Ridge', \n",
    "    'feature_set': 'features_lite'\n",
    "}"
   ]
  },
  {
   "cell_type": "code",
   "execution_count": 85,
   "id": "81da44d2",
   "metadata": {},
   "outputs": [],
   "source": [
    "results = results.append(model_results(model_specs_4R), ignore_index=True)"
   ]
  },
  {
   "cell_type": "markdown",
   "id": "766eaad5",
   "metadata": {},
   "source": [
    "#### Model Group 4 Analysis"
   ]
  },
  {
   "cell_type": "code",
   "execution_count": 86,
   "id": "ca4b82ab",
   "metadata": {},
   "outputs": [
    {
     "data": {
      "text/html": [
       "<div>\n",
       "<style scoped>\n",
       "    .dataframe tbody tr th:only-of-type {\n",
       "        vertical-align: middle;\n",
       "    }\n",
       "\n",
       "    .dataframe tbody tr th {\n",
       "        vertical-align: top;\n",
       "    }\n",
       "\n",
       "    .dataframe thead th {\n",
       "        text-align: right;\n",
       "    }\n",
       "</style>\n",
       "<table border=\"1\" class=\"dataframe\">\n",
       "  <thead>\n",
       "    <tr style=\"text-align: right;\">\n",
       "      <th></th>\n",
       "      <th>model_group</th>\n",
       "      <th>model_type</th>\n",
       "      <th>model_params</th>\n",
       "      <th>train_R2</th>\n",
       "      <th>train_RMSE</th>\n",
       "      <th>val_R2</th>\n",
       "      <th>val_RMSE</th>\n",
       "      <th>comments</th>\n",
       "      <th>features</th>\n",
       "      <th>feature_set</th>\n",
       "    </tr>\n",
       "  </thead>\n",
       "  <tbody>\n",
       "    <tr>\n",
       "      <th>0</th>\n",
       "      <td>1</td>\n",
       "      <td>Linear Regression</td>\n",
       "      <td>NaN</td>\n",
       "      <td>0.92</td>\n",
       "      <td>24482.04</td>\n",
       "      <td>0.91</td>\n",
       "      <td>23708.00</td>\n",
       "      <td>NaN</td>\n",
       "      <td>53</td>\n",
       "      <td>features_max</td>\n",
       "    </tr>\n",
       "    <tr>\n",
       "      <th>1</th>\n",
       "      <td>1</td>\n",
       "      <td>Lasso</td>\n",
       "      <td>alpha=67.09</td>\n",
       "      <td>0.91</td>\n",
       "      <td>23275.27</td>\n",
       "      <td>0.90</td>\n",
       "      <td>24193.28</td>\n",
       "      <td>NaN</td>\n",
       "      <td>53</td>\n",
       "      <td>features_max</td>\n",
       "    </tr>\n",
       "    <tr>\n",
       "      <th>2</th>\n",
       "      <td>1</td>\n",
       "      <td>Ridge</td>\n",
       "      <td>alpha=1.0</td>\n",
       "      <td>0.92</td>\n",
       "      <td>23078.05</td>\n",
       "      <td>0.90</td>\n",
       "      <td>23869.37</td>\n",
       "      <td>NaN</td>\n",
       "      <td>53</td>\n",
       "      <td>features_max</td>\n",
       "    </tr>\n",
       "    <tr>\n",
       "      <th>3</th>\n",
       "      <td>2</td>\n",
       "      <td>Linear Regression</td>\n",
       "      <td>NaN</td>\n",
       "      <td>0.89</td>\n",
       "      <td>26621.22</td>\n",
       "      <td>0.88</td>\n",
       "      <td>26424.24</td>\n",
       "      <td>Non-CV R2 on train set is 0.9.</td>\n",
       "      <td>53</td>\n",
       "      <td>features_max_powerless</td>\n",
       "    </tr>\n",
       "    <tr>\n",
       "      <th>4</th>\n",
       "      <td>2</td>\n",
       "      <td>Lasso</td>\n",
       "      <td>alpha=65.87</td>\n",
       "      <td>0.90</td>\n",
       "      <td>25427.73</td>\n",
       "      <td>0.88</td>\n",
       "      <td>26713.18</td>\n",
       "      <td>max_iter = 10000</td>\n",
       "      <td>53</td>\n",
       "      <td>features_max_powerless</td>\n",
       "    </tr>\n",
       "    <tr>\n",
       "      <th>5</th>\n",
       "      <td>2</td>\n",
       "      <td>Ridge</td>\n",
       "      <td>alpha=10.0</td>\n",
       "      <td>0.90</td>\n",
       "      <td>25405.10</td>\n",
       "      <td>0.88</td>\n",
       "      <td>26575.50</td>\n",
       "      <td>NaN</td>\n",
       "      <td>53</td>\n",
       "      <td>features_max_powerless</td>\n",
       "    </tr>\n",
       "    <tr>\n",
       "      <th>6</th>\n",
       "      <td>3</td>\n",
       "      <td>Linear Regression</td>\n",
       "      <td>NaN</td>\n",
       "      <td>0.90</td>\n",
       "      <td>25433.04</td>\n",
       "      <td>0.90</td>\n",
       "      <td>24795.49</td>\n",
       "      <td>Non-CV R2 on train set is 0.91.</td>\n",
       "      <td>45</td>\n",
       "      <td>features_drop_weak</td>\n",
       "    </tr>\n",
       "    <tr>\n",
       "      <th>7</th>\n",
       "      <td>3</td>\n",
       "      <td>Lasso</td>\n",
       "      <td>alpha=117.24</td>\n",
       "      <td>0.91</td>\n",
       "      <td>24342.21</td>\n",
       "      <td>0.89</td>\n",
       "      <td>25283.04</td>\n",
       "      <td>max_iter = 1000</td>\n",
       "      <td>45</td>\n",
       "      <td>features_drop_weak</td>\n",
       "    </tr>\n",
       "    <tr>\n",
       "      <th>8</th>\n",
       "      <td>3</td>\n",
       "      <td>Ridge</td>\n",
       "      <td>alpha=1.0</td>\n",
       "      <td>0.91</td>\n",
       "      <td>24068.17</td>\n",
       "      <td>0.90</td>\n",
       "      <td>24910.00</td>\n",
       "      <td>NaN</td>\n",
       "      <td>45</td>\n",
       "      <td>features_drop_weak</td>\n",
       "    </tr>\n",
       "    <tr>\n",
       "      <th>9</th>\n",
       "      <td>4</td>\n",
       "      <td>Linear Regression</td>\n",
       "      <td>NaN</td>\n",
       "      <td>0.88</td>\n",
       "      <td>27353.21</td>\n",
       "      <td>0.89</td>\n",
       "      <td>25224.94</td>\n",
       "      <td>Non-CV R2 on train set is 0.89.</td>\n",
       "      <td>24</td>\n",
       "      <td>features_lite</td>\n",
       "    </tr>\n",
       "    <tr>\n",
       "      <th>10</th>\n",
       "      <td>4</td>\n",
       "      <td>Lasso</td>\n",
       "      <td>alpha=67.09</td>\n",
       "      <td>0.89</td>\n",
       "      <td>26751.63</td>\n",
       "      <td>0.89</td>\n",
       "      <td>25425.04</td>\n",
       "      <td>max_iter = 1000</td>\n",
       "      <td>24</td>\n",
       "      <td>features_lite</td>\n",
       "    </tr>\n",
       "    <tr>\n",
       "      <th>11</th>\n",
       "      <td>4</td>\n",
       "      <td>Ridge</td>\n",
       "      <td>alpha=1.0</td>\n",
       "      <td>0.89</td>\n",
       "      <td>26714.61</td>\n",
       "      <td>0.89</td>\n",
       "      <td>25297.28</td>\n",
       "      <td>NaN</td>\n",
       "      <td>24</td>\n",
       "      <td>features_lite</td>\n",
       "    </tr>\n",
       "  </tbody>\n",
       "</table>\n",
       "</div>"
      ],
      "text/plain": [
       "   model_group         model_type  model_params  train_R2  train_RMSE  val_R2  \\\n",
       "0            1  Linear Regression           NaN      0.92    24482.04    0.91   \n",
       "1            1              Lasso   alpha=67.09      0.91    23275.27    0.90   \n",
       "2            1              Ridge     alpha=1.0      0.92    23078.05    0.90   \n",
       "3            2  Linear Regression           NaN      0.89    26621.22    0.88   \n",
       "4            2              Lasso   alpha=65.87      0.90    25427.73    0.88   \n",
       "5            2              Ridge    alpha=10.0      0.90    25405.10    0.88   \n",
       "6            3  Linear Regression           NaN      0.90    25433.04    0.90   \n",
       "7            3              Lasso  alpha=117.24      0.91    24342.21    0.89   \n",
       "8            3              Ridge     alpha=1.0      0.91    24068.17    0.90   \n",
       "9            4  Linear Regression           NaN      0.88    27353.21    0.89   \n",
       "10           4              Lasso   alpha=67.09      0.89    26751.63    0.89   \n",
       "11           4              Ridge     alpha=1.0      0.89    26714.61    0.89   \n",
       "\n",
       "    val_RMSE                         comments  features  \\\n",
       "0   23708.00                              NaN        53   \n",
       "1   24193.28                              NaN        53   \n",
       "2   23869.37                              NaN        53   \n",
       "3   26424.24   Non-CV R2 on train set is 0.9.        53   \n",
       "4   26713.18                 max_iter = 10000        53   \n",
       "5   26575.50                              NaN        53   \n",
       "6   24795.49  Non-CV R2 on train set is 0.91.        45   \n",
       "7   25283.04                  max_iter = 1000        45   \n",
       "8   24910.00                              NaN        45   \n",
       "9   25224.94  Non-CV R2 on train set is 0.89.        24   \n",
       "10  25425.04                  max_iter = 1000        24   \n",
       "11  25297.28                              NaN        24   \n",
       "\n",
       "               feature_set  \n",
       "0             features_max  \n",
       "1             features_max  \n",
       "2             features_max  \n",
       "3   features_max_powerless  \n",
       "4   features_max_powerless  \n",
       "5   features_max_powerless  \n",
       "6       features_drop_weak  \n",
       "7       features_drop_weak  \n",
       "8       features_drop_weak  \n",
       "9            features_lite  \n",
       "10           features_lite  \n",
       "11           features_lite  "
      ]
     },
     "execution_count": 86,
     "metadata": {},
     "output_type": "execute_result"
    }
   ],
   "source": [
    "results"
   ]
  },
  {
   "cell_type": "markdown",
   "id": "0602866a",
   "metadata": {},
   "source": []
  },
  {
   "cell_type": "markdown",
   "id": "4b5d3035",
   "metadata": {},
   "source": [
    "### 5. Models with features_min\n",
    "Model Group 5"
   ]
  },
  {
   "cell_type": "markdown",
   "id": "1e0003e7",
   "metadata": {},
   "source": [
    "#### Model Group 5 Linear Regression"
   ]
  },
  {
   "cell_type": "code",
   "execution_count": 87,
   "id": "7f1f8c95",
   "metadata": {},
   "outputs": [],
   "source": [
    "model_specs_5 = {\n",
    "    'model_group': 5,\n",
    "    'model_type': 'Linear Regression', \n",
    "    'feature_set': 'features_min'\n",
    "}"
   ]
  },
  {
   "cell_type": "code",
   "execution_count": 88,
   "id": "872a7537",
   "metadata": {},
   "outputs": [],
   "source": [
    "results = results.append(model_results(model_specs_5), ignore_index=True)"
   ]
  },
  {
   "cell_type": "markdown",
   "id": "8d397d41",
   "metadata": {},
   "source": [
    "#### Model Group 5 Lasso Regression"
   ]
  },
  {
   "cell_type": "code",
   "execution_count": 89,
   "id": "94e50fa7",
   "metadata": {},
   "outputs": [],
   "source": [
    "model_specs_5L = {\n",
    "    'model_group': 5,\n",
    "    'model_type': 'Lasso', \n",
    "    'feature_set': 'features_min'\n",
    "}"
   ]
  },
  {
   "cell_type": "code",
   "execution_count": 90,
   "id": "0c0ec7b2",
   "metadata": {},
   "outputs": [],
   "source": [
    "results = results.append(model_results(model_specs_5L), ignore_index=True)"
   ]
  },
  {
   "cell_type": "markdown",
   "id": "4a16503f",
   "metadata": {},
   "source": [
    "#### Model Group 5 Ridge Regression"
   ]
  },
  {
   "cell_type": "code",
   "execution_count": 91,
   "id": "10ad8397",
   "metadata": {},
   "outputs": [],
   "source": [
    "model_specs_5R = {\n",
    "    'model_group': 5,\n",
    "    'model_type': 'Ridge', \n",
    "    'feature_set': 'features_min'\n",
    "}"
   ]
  },
  {
   "cell_type": "code",
   "execution_count": 92,
   "id": "a5a040e3",
   "metadata": {},
   "outputs": [],
   "source": [
    "results = results.append(model_results(model_specs_5R), ignore_index=True)"
   ]
  },
  {
   "cell_type": "markdown",
   "id": "a902d0b2",
   "metadata": {},
   "source": [
    "#### Model Group 5 Analysis"
   ]
  },
  {
   "cell_type": "code",
   "execution_count": 93,
   "id": "0cc95d8a",
   "metadata": {},
   "outputs": [
    {
     "data": {
      "text/html": [
       "<div>\n",
       "<style scoped>\n",
       "    .dataframe tbody tr th:only-of-type {\n",
       "        vertical-align: middle;\n",
       "    }\n",
       "\n",
       "    .dataframe tbody tr th {\n",
       "        vertical-align: top;\n",
       "    }\n",
       "\n",
       "    .dataframe thead th {\n",
       "        text-align: right;\n",
       "    }\n",
       "</style>\n",
       "<table border=\"1\" class=\"dataframe\">\n",
       "  <thead>\n",
       "    <tr style=\"text-align: right;\">\n",
       "      <th></th>\n",
       "      <th>model_group</th>\n",
       "      <th>model_type</th>\n",
       "      <th>model_params</th>\n",
       "      <th>train_R2</th>\n",
       "      <th>train_RMSE</th>\n",
       "      <th>val_R2</th>\n",
       "      <th>val_RMSE</th>\n",
       "      <th>comments</th>\n",
       "      <th>features</th>\n",
       "      <th>feature_set</th>\n",
       "    </tr>\n",
       "  </thead>\n",
       "  <tbody>\n",
       "    <tr>\n",
       "      <th>0</th>\n",
       "      <td>1</td>\n",
       "      <td>Linear Regression</td>\n",
       "      <td>NaN</td>\n",
       "      <td>0.92</td>\n",
       "      <td>24482.04</td>\n",
       "      <td>0.91</td>\n",
       "      <td>23708.00</td>\n",
       "      <td>NaN</td>\n",
       "      <td>53</td>\n",
       "      <td>features_max</td>\n",
       "    </tr>\n",
       "    <tr>\n",
       "      <th>1</th>\n",
       "      <td>1</td>\n",
       "      <td>Lasso</td>\n",
       "      <td>alpha=67.09</td>\n",
       "      <td>0.91</td>\n",
       "      <td>23275.27</td>\n",
       "      <td>0.90</td>\n",
       "      <td>24193.28</td>\n",
       "      <td>NaN</td>\n",
       "      <td>53</td>\n",
       "      <td>features_max</td>\n",
       "    </tr>\n",
       "    <tr>\n",
       "      <th>2</th>\n",
       "      <td>1</td>\n",
       "      <td>Ridge</td>\n",
       "      <td>alpha=1.0</td>\n",
       "      <td>0.92</td>\n",
       "      <td>23078.05</td>\n",
       "      <td>0.90</td>\n",
       "      <td>23869.37</td>\n",
       "      <td>NaN</td>\n",
       "      <td>53</td>\n",
       "      <td>features_max</td>\n",
       "    </tr>\n",
       "    <tr>\n",
       "      <th>3</th>\n",
       "      <td>2</td>\n",
       "      <td>Linear Regression</td>\n",
       "      <td>NaN</td>\n",
       "      <td>0.89</td>\n",
       "      <td>26621.22</td>\n",
       "      <td>0.88</td>\n",
       "      <td>26424.24</td>\n",
       "      <td>Non-CV R2 on train set is 0.9.</td>\n",
       "      <td>53</td>\n",
       "      <td>features_max_powerless</td>\n",
       "    </tr>\n",
       "    <tr>\n",
       "      <th>4</th>\n",
       "      <td>2</td>\n",
       "      <td>Lasso</td>\n",
       "      <td>alpha=65.87</td>\n",
       "      <td>0.90</td>\n",
       "      <td>25427.73</td>\n",
       "      <td>0.88</td>\n",
       "      <td>26713.18</td>\n",
       "      <td>max_iter = 10000</td>\n",
       "      <td>53</td>\n",
       "      <td>features_max_powerless</td>\n",
       "    </tr>\n",
       "    <tr>\n",
       "      <th>5</th>\n",
       "      <td>2</td>\n",
       "      <td>Ridge</td>\n",
       "      <td>alpha=10.0</td>\n",
       "      <td>0.90</td>\n",
       "      <td>25405.10</td>\n",
       "      <td>0.88</td>\n",
       "      <td>26575.50</td>\n",
       "      <td>NaN</td>\n",
       "      <td>53</td>\n",
       "      <td>features_max_powerless</td>\n",
       "    </tr>\n",
       "    <tr>\n",
       "      <th>6</th>\n",
       "      <td>3</td>\n",
       "      <td>Linear Regression</td>\n",
       "      <td>NaN</td>\n",
       "      <td>0.90</td>\n",
       "      <td>25433.04</td>\n",
       "      <td>0.90</td>\n",
       "      <td>24795.49</td>\n",
       "      <td>Non-CV R2 on train set is 0.91.</td>\n",
       "      <td>45</td>\n",
       "      <td>features_drop_weak</td>\n",
       "    </tr>\n",
       "    <tr>\n",
       "      <th>7</th>\n",
       "      <td>3</td>\n",
       "      <td>Lasso</td>\n",
       "      <td>alpha=117.24</td>\n",
       "      <td>0.91</td>\n",
       "      <td>24342.21</td>\n",
       "      <td>0.89</td>\n",
       "      <td>25283.04</td>\n",
       "      <td>max_iter = 1000</td>\n",
       "      <td>45</td>\n",
       "      <td>features_drop_weak</td>\n",
       "    </tr>\n",
       "    <tr>\n",
       "      <th>8</th>\n",
       "      <td>3</td>\n",
       "      <td>Ridge</td>\n",
       "      <td>alpha=1.0</td>\n",
       "      <td>0.91</td>\n",
       "      <td>24068.17</td>\n",
       "      <td>0.90</td>\n",
       "      <td>24910.00</td>\n",
       "      <td>NaN</td>\n",
       "      <td>45</td>\n",
       "      <td>features_drop_weak</td>\n",
       "    </tr>\n",
       "    <tr>\n",
       "      <th>9</th>\n",
       "      <td>4</td>\n",
       "      <td>Linear Regression</td>\n",
       "      <td>NaN</td>\n",
       "      <td>0.88</td>\n",
       "      <td>27353.21</td>\n",
       "      <td>0.89</td>\n",
       "      <td>25224.94</td>\n",
       "      <td>Non-CV R2 on train set is 0.89.</td>\n",
       "      <td>24</td>\n",
       "      <td>features_lite</td>\n",
       "    </tr>\n",
       "    <tr>\n",
       "      <th>10</th>\n",
       "      <td>4</td>\n",
       "      <td>Lasso</td>\n",
       "      <td>alpha=67.09</td>\n",
       "      <td>0.89</td>\n",
       "      <td>26751.63</td>\n",
       "      <td>0.89</td>\n",
       "      <td>25425.04</td>\n",
       "      <td>max_iter = 1000</td>\n",
       "      <td>24</td>\n",
       "      <td>features_lite</td>\n",
       "    </tr>\n",
       "    <tr>\n",
       "      <th>11</th>\n",
       "      <td>4</td>\n",
       "      <td>Ridge</td>\n",
       "      <td>alpha=1.0</td>\n",
       "      <td>0.89</td>\n",
       "      <td>26714.61</td>\n",
       "      <td>0.89</td>\n",
       "      <td>25297.28</td>\n",
       "      <td>NaN</td>\n",
       "      <td>24</td>\n",
       "      <td>features_lite</td>\n",
       "    </tr>\n",
       "    <tr>\n",
       "      <th>12</th>\n",
       "      <td>5</td>\n",
       "      <td>Linear Regression</td>\n",
       "      <td>NaN</td>\n",
       "      <td>0.83</td>\n",
       "      <td>32166.15</td>\n",
       "      <td>0.84</td>\n",
       "      <td>30618.22</td>\n",
       "      <td>Non-CV R2 on train set is 0.84.</td>\n",
       "      <td>2</td>\n",
       "      <td>features_min</td>\n",
       "    </tr>\n",
       "    <tr>\n",
       "      <th>13</th>\n",
       "      <td>5</td>\n",
       "      <td>Lasso</td>\n",
       "      <td>alpha=71.94</td>\n",
       "      <td>0.84</td>\n",
       "      <td>31964.52</td>\n",
       "      <td>0.84</td>\n",
       "      <td>30622.32</td>\n",
       "      <td>max_iter = 1000</td>\n",
       "      <td>2</td>\n",
       "      <td>features_min</td>\n",
       "    </tr>\n",
       "    <tr>\n",
       "      <th>14</th>\n",
       "      <td>5</td>\n",
       "      <td>Ridge</td>\n",
       "      <td>alpha=1.0</td>\n",
       "      <td>0.84</td>\n",
       "      <td>31964.44</td>\n",
       "      <td>0.84</td>\n",
       "      <td>30619.56</td>\n",
       "      <td>NaN</td>\n",
       "      <td>2</td>\n",
       "      <td>features_min</td>\n",
       "    </tr>\n",
       "  </tbody>\n",
       "</table>\n",
       "</div>"
      ],
      "text/plain": [
       "   model_group         model_type  model_params  train_R2  train_RMSE  val_R2  \\\n",
       "0            1  Linear Regression           NaN      0.92    24482.04    0.91   \n",
       "1            1              Lasso   alpha=67.09      0.91    23275.27    0.90   \n",
       "2            1              Ridge     alpha=1.0      0.92    23078.05    0.90   \n",
       "3            2  Linear Regression           NaN      0.89    26621.22    0.88   \n",
       "4            2              Lasso   alpha=65.87      0.90    25427.73    0.88   \n",
       "5            2              Ridge    alpha=10.0      0.90    25405.10    0.88   \n",
       "6            3  Linear Regression           NaN      0.90    25433.04    0.90   \n",
       "7            3              Lasso  alpha=117.24      0.91    24342.21    0.89   \n",
       "8            3              Ridge     alpha=1.0      0.91    24068.17    0.90   \n",
       "9            4  Linear Regression           NaN      0.88    27353.21    0.89   \n",
       "10           4              Lasso   alpha=67.09      0.89    26751.63    0.89   \n",
       "11           4              Ridge     alpha=1.0      0.89    26714.61    0.89   \n",
       "12           5  Linear Regression           NaN      0.83    32166.15    0.84   \n",
       "13           5              Lasso   alpha=71.94      0.84    31964.52    0.84   \n",
       "14           5              Ridge     alpha=1.0      0.84    31964.44    0.84   \n",
       "\n",
       "    val_RMSE                         comments  features  \\\n",
       "0   23708.00                              NaN        53   \n",
       "1   24193.28                              NaN        53   \n",
       "2   23869.37                              NaN        53   \n",
       "3   26424.24   Non-CV R2 on train set is 0.9.        53   \n",
       "4   26713.18                 max_iter = 10000        53   \n",
       "5   26575.50                              NaN        53   \n",
       "6   24795.49  Non-CV R2 on train set is 0.91.        45   \n",
       "7   25283.04                  max_iter = 1000        45   \n",
       "8   24910.00                              NaN        45   \n",
       "9   25224.94  Non-CV R2 on train set is 0.89.        24   \n",
       "10  25425.04                  max_iter = 1000        24   \n",
       "11  25297.28                              NaN        24   \n",
       "12  30618.22  Non-CV R2 on train set is 0.84.         2   \n",
       "13  30622.32                  max_iter = 1000         2   \n",
       "14  30619.56                              NaN         2   \n",
       "\n",
       "               feature_set  \n",
       "0             features_max  \n",
       "1             features_max  \n",
       "2             features_max  \n",
       "3   features_max_powerless  \n",
       "4   features_max_powerless  \n",
       "5   features_max_powerless  \n",
       "6       features_drop_weak  \n",
       "7       features_drop_weak  \n",
       "8       features_drop_weak  \n",
       "9            features_lite  \n",
       "10           features_lite  \n",
       "11           features_lite  \n",
       "12            features_min  \n",
       "13            features_min  \n",
       "14            features_min  "
      ]
     },
     "execution_count": 93,
     "metadata": {},
     "output_type": "execute_result"
    }
   ],
   "source": [
    "results"
   ]
  },
  {
   "cell_type": "markdown",
   "id": "a57af2e4",
   "metadata": {},
   "source": [
    "It is clear that when the feature set is drastically reduced to just 2 features, despite being the features with extremely strong correlation to the target, the performance is significantly lower compared to other models with more features."
   ]
  },
  {
   "cell_type": "markdown",
   "id": "25cc7872",
   "metadata": {},
   "source": [
    "The baseline performance is a RMSE of 77233.34, which is calculated based on making all prediction as the mean sale price. All the models evaluated beat the baseline."
   ]
  },
  {
   "cell_type": "markdown",
   "id": "f0c6ac11",
   "metadata": {},
   "source": [
    "### Fine Tuning of Best Models"
   ]
  },
  {
   "cell_type": "markdown",
   "id": "c1ffc22c",
   "metadata": {},
   "source": [
    "Model Group 1 appears to have the best performance, particularly Linear Regression and Ridge models.\n",
    "A wider range of alphas will be tried on the Ridge model to see if performance improves."
   ]
  },
  {
   "cell_type": "code",
   "execution_count": 94,
   "id": "23c85767",
   "metadata": {},
   "outputs": [],
   "source": [
    "X_train, X_val = X_train_full[features1], X_val_full[features1]"
   ]
  },
  {
   "cell_type": "code",
   "execution_count": 95,
   "id": "90f549ec",
   "metadata": {},
   "outputs": [
    {
     "data": {
      "text/plain": [
       "0.9162509248125673"
      ]
     },
     "execution_count": 95,
     "metadata": {},
     "output_type": "execute_result"
    }
   ],
   "source": [
    "numeric_transformer = Pipeline(steps=[('scaler', StandardScaler())])\n",
    "\n",
    "preprocessor = ColumnTransformer(transformers=[\n",
    "    ('bin', 'passthrough', bin_features1),\n",
    "    ('num', numeric_transformer, num_features1)])\n",
    "\n",
    "ridge_cv_more_alphas = Pipeline(steps=[('preprocessor', preprocessor),\n",
    "                       ('estimator', RidgeCV(alphas=np.linspace(0.1,10,500)))])\n",
    "\n",
    "ridge_cv_more_alphas.fit(X_train, y_train)\n",
    "ridge_cv_more_alphas.score(X_train, y_train)"
   ]
  },
  {
   "cell_type": "code",
   "execution_count": 96,
   "id": "31b90eab",
   "metadata": {},
   "outputs": [
    {
     "data": {
      "text/plain": [
       "23084.18941464612"
      ]
     },
     "execution_count": 96,
     "metadata": {},
     "output_type": "execute_result"
    }
   ],
   "source": [
    "(mean_squared_error(y_train, ridge_cv_more_alphas.predict(X_train)))**0.5"
   ]
  },
  {
   "cell_type": "code",
   "execution_count": 97,
   "id": "e2cc6a9f",
   "metadata": {},
   "outputs": [
    {
     "data": {
      "text/plain": [
       "1.0919839679358718"
      ]
     },
     "execution_count": 97,
     "metadata": {},
     "output_type": "execute_result"
    }
   ],
   "source": [
    "ridge_cv_more_alphas['estimator'].alpha_"
   ]
  },
  {
   "cell_type": "markdown",
   "id": "4470f754",
   "metadata": {},
   "source": [
    "Model Group 1 Ridge Regression performance on validation set."
   ]
  },
  {
   "cell_type": "code",
   "execution_count": 98,
   "id": "ed6432e2",
   "metadata": {
    "scrolled": true
   },
   "outputs": [
    {
     "data": {
      "text/plain": [
       "0.9043533999320057"
      ]
     },
     "execution_count": 98,
     "metadata": {},
     "output_type": "execute_result"
    }
   ],
   "source": [
    "ridge_cv_more_alphas.score(X_val, y_val)"
   ]
  },
  {
   "cell_type": "code",
   "execution_count": 99,
   "id": "5456b8ca",
   "metadata": {
    "scrolled": false
   },
   "outputs": [
    {
     "data": {
      "text/plain": [
       "23885.791447481966"
      ]
     },
     "execution_count": 99,
     "metadata": {},
     "output_type": "execute_result"
    }
   ],
   "source": [
    "(mean_squared_error(y_val, ridge_cv_more_alphas.predict(X_val)))**0.5"
   ]
  },
  {
   "cell_type": "markdown",
   "id": "14ad198c",
   "metadata": {},
   "source": [
    "Trying out a larger range of alpha hyperparameters does not seem to improve the best performing Ridge Model."
   ]
  },
  {
   "cell_type": "markdown",
   "id": "57fe7526",
   "metadata": {},
   "source": [
    "## Log Transformation of Target Variable"
   ]
  },
  {
   "cell_type": "markdown",
   "id": "378251d2",
   "metadata": {},
   "source": [
    "During EDA, it was observed that on a logarithmic scale, the fit of certain predictors to the target was tighter, and it made sense given that the target has a distribution that has an extreme spread of values. Extremely large values of price tend to be further off the line of best fit against other predictors. Logarithmic transformation on the target is one method that may possibly soften the effect of these extreme values."
   ]
  },
  {
   "cell_type": "markdown",
   "id": "996683a6",
   "metadata": {},
   "source": [
    "Model that takes log transformation of target variable, using first feature set plain Logistic Regression."
   ]
  },
  {
   "cell_type": "code",
   "execution_count": 100,
   "id": "38bf518e",
   "metadata": {},
   "outputs": [],
   "source": [
    "linreg_log_y = TransformedTargetRegressor(regressor=LinearRegression(),\n",
    "                                        func=np.log,\n",
    "                                        inverse_func=np.exp)"
   ]
  },
  {
   "cell_type": "code",
   "execution_count": 101,
   "id": "88353cbc",
   "metadata": {},
   "outputs": [
    {
     "data": {
      "text/plain": [
       "TransformedTargetRegressor(func=<ufunc 'log'>, inverse_func=<ufunc 'exp'>,\n",
       "                           regressor=LinearRegression())"
      ]
     },
     "execution_count": 101,
     "metadata": {},
     "output_type": "execute_result"
    }
   ],
   "source": [
    "linreg_log_y.fit(X_train, y_train)"
   ]
  },
  {
   "cell_type": "code",
   "execution_count": 102,
   "id": "019dab53",
   "metadata": {},
   "outputs": [
    {
     "data": {
      "text/plain": [
       "0.9298951848380516"
      ]
     },
     "execution_count": 102,
     "metadata": {},
     "output_type": "execute_result"
    }
   ],
   "source": [
    "linreg_log_y.score(X_train, y_train)"
   ]
  },
  {
   "cell_type": "code",
   "execution_count": 103,
   "id": "4f6eae99",
   "metadata": {},
   "outputs": [
    {
     "data": {
      "text/plain": [
       "21120.225143907315"
      ]
     },
     "execution_count": 103,
     "metadata": {},
     "output_type": "execute_result"
    }
   ],
   "source": [
    "(mean_squared_error(y_train, linreg_log_y.predict(X_train)))**0.5"
   ]
  },
  {
   "cell_type": "code",
   "execution_count": 104,
   "id": "51f7125f",
   "metadata": {},
   "outputs": [
    {
     "data": {
      "text/plain": [
       "22813.101555980727"
      ]
     },
     "execution_count": 104,
     "metadata": {},
     "output_type": "execute_result"
    }
   ],
   "source": [
    "(- cross_val_score(linreg_log_y, X_train, y_train, cv=5, scoring='neg_mean_squared_error').mean()) **0.5"
   ]
  },
  {
   "cell_type": "code",
   "execution_count": 105,
   "id": "3e3fa483",
   "metadata": {
    "scrolled": true
   },
   "outputs": [
    {
     "data": {
      "text/plain": [
       "0.8998437567930891"
      ]
     },
     "execution_count": 105,
     "metadata": {},
     "output_type": "execute_result"
    }
   ],
   "source": [
    "linreg_log_y.score(X_val, y_val)"
   ]
  },
  {
   "cell_type": "code",
   "execution_count": 106,
   "id": "8757d5a5",
   "metadata": {
    "scrolled": false
   },
   "outputs": [
    {
     "data": {
      "text/plain": [
       "24442.40189197985"
      ]
     },
     "execution_count": 106,
     "metadata": {},
     "output_type": "execute_result"
    }
   ],
   "source": [
    "(mean_squared_error(y_val, linreg_log_y.predict(X_val)))**0.5"
   ]
  },
  {
   "cell_type": "code",
   "execution_count": 107,
   "id": "caa36d48",
   "metadata": {},
   "outputs": [],
   "source": [
    "results = results.append({\n",
    "    'comments': 'Logarithmic transformation of target variable.',\n",
    "    'model_group': 1,\n",
    "    'model_type': 'Linear Regression',\n",
    "    'train_R2': round(0.9298951848380516, 2),\n",
    "    'train_RMSE': round(22813.101555980727, 2),\n",
    "    'val_R2': round(0.8998437567930891,2),\n",
    "    'val_RMSE': round(24442.40189197985,2),\n",
    "    'features': len(fea['features_max']),\n",
    "    'feature_set': 'features_max'\n",
    "    \n",
    "}, ignore_index=True)"
   ]
  },
  {
   "cell_type": "code",
   "execution_count": 108,
   "id": "f3a62a0f",
   "metadata": {
    "scrolled": true
   },
   "outputs": [
    {
     "data": {
      "text/html": [
       "<div>\n",
       "<style scoped>\n",
       "    .dataframe tbody tr th:only-of-type {\n",
       "        vertical-align: middle;\n",
       "    }\n",
       "\n",
       "    .dataframe tbody tr th {\n",
       "        vertical-align: top;\n",
       "    }\n",
       "\n",
       "    .dataframe thead th {\n",
       "        text-align: right;\n",
       "    }\n",
       "</style>\n",
       "<table border=\"1\" class=\"dataframe\">\n",
       "  <thead>\n",
       "    <tr style=\"text-align: right;\">\n",
       "      <th></th>\n",
       "      <th>model_group</th>\n",
       "      <th>model_type</th>\n",
       "      <th>model_params</th>\n",
       "      <th>train_R2</th>\n",
       "      <th>train_RMSE</th>\n",
       "      <th>val_R2</th>\n",
       "      <th>val_RMSE</th>\n",
       "      <th>comments</th>\n",
       "      <th>features</th>\n",
       "      <th>feature_set</th>\n",
       "    </tr>\n",
       "  </thead>\n",
       "  <tbody>\n",
       "    <tr>\n",
       "      <th>0</th>\n",
       "      <td>1</td>\n",
       "      <td>Linear Regression</td>\n",
       "      <td>NaN</td>\n",
       "      <td>0.92</td>\n",
       "      <td>24482.04</td>\n",
       "      <td>0.91</td>\n",
       "      <td>23708.00</td>\n",
       "      <td>NaN</td>\n",
       "      <td>53</td>\n",
       "      <td>features_max</td>\n",
       "    </tr>\n",
       "    <tr>\n",
       "      <th>1</th>\n",
       "      <td>1</td>\n",
       "      <td>Lasso</td>\n",
       "      <td>alpha=67.09</td>\n",
       "      <td>0.91</td>\n",
       "      <td>23275.27</td>\n",
       "      <td>0.90</td>\n",
       "      <td>24193.28</td>\n",
       "      <td>NaN</td>\n",
       "      <td>53</td>\n",
       "      <td>features_max</td>\n",
       "    </tr>\n",
       "    <tr>\n",
       "      <th>2</th>\n",
       "      <td>1</td>\n",
       "      <td>Ridge</td>\n",
       "      <td>alpha=1.0</td>\n",
       "      <td>0.92</td>\n",
       "      <td>23078.05</td>\n",
       "      <td>0.90</td>\n",
       "      <td>23869.37</td>\n",
       "      <td>NaN</td>\n",
       "      <td>53</td>\n",
       "      <td>features_max</td>\n",
       "    </tr>\n",
       "    <tr>\n",
       "      <th>3</th>\n",
       "      <td>2</td>\n",
       "      <td>Linear Regression</td>\n",
       "      <td>NaN</td>\n",
       "      <td>0.89</td>\n",
       "      <td>26621.22</td>\n",
       "      <td>0.88</td>\n",
       "      <td>26424.24</td>\n",
       "      <td>Non-CV R2 on train set is 0.9.</td>\n",
       "      <td>53</td>\n",
       "      <td>features_max_powerless</td>\n",
       "    </tr>\n",
       "    <tr>\n",
       "      <th>4</th>\n",
       "      <td>2</td>\n",
       "      <td>Lasso</td>\n",
       "      <td>alpha=65.87</td>\n",
       "      <td>0.90</td>\n",
       "      <td>25427.73</td>\n",
       "      <td>0.88</td>\n",
       "      <td>26713.18</td>\n",
       "      <td>max_iter = 10000</td>\n",
       "      <td>53</td>\n",
       "      <td>features_max_powerless</td>\n",
       "    </tr>\n",
       "    <tr>\n",
       "      <th>5</th>\n",
       "      <td>2</td>\n",
       "      <td>Ridge</td>\n",
       "      <td>alpha=10.0</td>\n",
       "      <td>0.90</td>\n",
       "      <td>25405.10</td>\n",
       "      <td>0.88</td>\n",
       "      <td>26575.50</td>\n",
       "      <td>NaN</td>\n",
       "      <td>53</td>\n",
       "      <td>features_max_powerless</td>\n",
       "    </tr>\n",
       "    <tr>\n",
       "      <th>6</th>\n",
       "      <td>3</td>\n",
       "      <td>Linear Regression</td>\n",
       "      <td>NaN</td>\n",
       "      <td>0.90</td>\n",
       "      <td>25433.04</td>\n",
       "      <td>0.90</td>\n",
       "      <td>24795.49</td>\n",
       "      <td>Non-CV R2 on train set is 0.91.</td>\n",
       "      <td>45</td>\n",
       "      <td>features_drop_weak</td>\n",
       "    </tr>\n",
       "    <tr>\n",
       "      <th>7</th>\n",
       "      <td>3</td>\n",
       "      <td>Lasso</td>\n",
       "      <td>alpha=117.24</td>\n",
       "      <td>0.91</td>\n",
       "      <td>24342.21</td>\n",
       "      <td>0.89</td>\n",
       "      <td>25283.04</td>\n",
       "      <td>max_iter = 1000</td>\n",
       "      <td>45</td>\n",
       "      <td>features_drop_weak</td>\n",
       "    </tr>\n",
       "    <tr>\n",
       "      <th>8</th>\n",
       "      <td>3</td>\n",
       "      <td>Ridge</td>\n",
       "      <td>alpha=1.0</td>\n",
       "      <td>0.91</td>\n",
       "      <td>24068.17</td>\n",
       "      <td>0.90</td>\n",
       "      <td>24910.00</td>\n",
       "      <td>NaN</td>\n",
       "      <td>45</td>\n",
       "      <td>features_drop_weak</td>\n",
       "    </tr>\n",
       "    <tr>\n",
       "      <th>9</th>\n",
       "      <td>4</td>\n",
       "      <td>Linear Regression</td>\n",
       "      <td>NaN</td>\n",
       "      <td>0.88</td>\n",
       "      <td>27353.21</td>\n",
       "      <td>0.89</td>\n",
       "      <td>25224.94</td>\n",
       "      <td>Non-CV R2 on train set is 0.89.</td>\n",
       "      <td>24</td>\n",
       "      <td>features_lite</td>\n",
       "    </tr>\n",
       "    <tr>\n",
       "      <th>10</th>\n",
       "      <td>4</td>\n",
       "      <td>Lasso</td>\n",
       "      <td>alpha=67.09</td>\n",
       "      <td>0.89</td>\n",
       "      <td>26751.63</td>\n",
       "      <td>0.89</td>\n",
       "      <td>25425.04</td>\n",
       "      <td>max_iter = 1000</td>\n",
       "      <td>24</td>\n",
       "      <td>features_lite</td>\n",
       "    </tr>\n",
       "    <tr>\n",
       "      <th>11</th>\n",
       "      <td>4</td>\n",
       "      <td>Ridge</td>\n",
       "      <td>alpha=1.0</td>\n",
       "      <td>0.89</td>\n",
       "      <td>26714.61</td>\n",
       "      <td>0.89</td>\n",
       "      <td>25297.28</td>\n",
       "      <td>NaN</td>\n",
       "      <td>24</td>\n",
       "      <td>features_lite</td>\n",
       "    </tr>\n",
       "    <tr>\n",
       "      <th>12</th>\n",
       "      <td>5</td>\n",
       "      <td>Linear Regression</td>\n",
       "      <td>NaN</td>\n",
       "      <td>0.83</td>\n",
       "      <td>32166.15</td>\n",
       "      <td>0.84</td>\n",
       "      <td>30618.22</td>\n",
       "      <td>Non-CV R2 on train set is 0.84.</td>\n",
       "      <td>2</td>\n",
       "      <td>features_min</td>\n",
       "    </tr>\n",
       "    <tr>\n",
       "      <th>13</th>\n",
       "      <td>5</td>\n",
       "      <td>Lasso</td>\n",
       "      <td>alpha=71.94</td>\n",
       "      <td>0.84</td>\n",
       "      <td>31964.52</td>\n",
       "      <td>0.84</td>\n",
       "      <td>30622.32</td>\n",
       "      <td>max_iter = 1000</td>\n",
       "      <td>2</td>\n",
       "      <td>features_min</td>\n",
       "    </tr>\n",
       "    <tr>\n",
       "      <th>14</th>\n",
       "      <td>5</td>\n",
       "      <td>Ridge</td>\n",
       "      <td>alpha=1.0</td>\n",
       "      <td>0.84</td>\n",
       "      <td>31964.44</td>\n",
       "      <td>0.84</td>\n",
       "      <td>30619.56</td>\n",
       "      <td>NaN</td>\n",
       "      <td>2</td>\n",
       "      <td>features_min</td>\n",
       "    </tr>\n",
       "    <tr>\n",
       "      <th>15</th>\n",
       "      <td>1</td>\n",
       "      <td>Linear Regression</td>\n",
       "      <td>NaN</td>\n",
       "      <td>0.93</td>\n",
       "      <td>22813.10</td>\n",
       "      <td>0.90</td>\n",
       "      <td>24442.40</td>\n",
       "      <td>Logarithmic transformation of target variable.</td>\n",
       "      <td>53</td>\n",
       "      <td>features_max</td>\n",
       "    </tr>\n",
       "  </tbody>\n",
       "</table>\n",
       "</div>"
      ],
      "text/plain": [
       "   model_group         model_type  model_params  train_R2  train_RMSE  val_R2  \\\n",
       "0            1  Linear Regression           NaN      0.92    24482.04    0.91   \n",
       "1            1              Lasso   alpha=67.09      0.91    23275.27    0.90   \n",
       "2            1              Ridge     alpha=1.0      0.92    23078.05    0.90   \n",
       "3            2  Linear Regression           NaN      0.89    26621.22    0.88   \n",
       "4            2              Lasso   alpha=65.87      0.90    25427.73    0.88   \n",
       "5            2              Ridge    alpha=10.0      0.90    25405.10    0.88   \n",
       "6            3  Linear Regression           NaN      0.90    25433.04    0.90   \n",
       "7            3              Lasso  alpha=117.24      0.91    24342.21    0.89   \n",
       "8            3              Ridge     alpha=1.0      0.91    24068.17    0.90   \n",
       "9            4  Linear Regression           NaN      0.88    27353.21    0.89   \n",
       "10           4              Lasso   alpha=67.09      0.89    26751.63    0.89   \n",
       "11           4              Ridge     alpha=1.0      0.89    26714.61    0.89   \n",
       "12           5  Linear Regression           NaN      0.83    32166.15    0.84   \n",
       "13           5              Lasso   alpha=71.94      0.84    31964.52    0.84   \n",
       "14           5              Ridge     alpha=1.0      0.84    31964.44    0.84   \n",
       "15           1  Linear Regression           NaN      0.93    22813.10    0.90   \n",
       "\n",
       "    val_RMSE                                        comments  features  \\\n",
       "0   23708.00                                             NaN        53   \n",
       "1   24193.28                                             NaN        53   \n",
       "2   23869.37                                             NaN        53   \n",
       "3   26424.24                  Non-CV R2 on train set is 0.9.        53   \n",
       "4   26713.18                                max_iter = 10000        53   \n",
       "5   26575.50                                             NaN        53   \n",
       "6   24795.49                 Non-CV R2 on train set is 0.91.        45   \n",
       "7   25283.04                                 max_iter = 1000        45   \n",
       "8   24910.00                                             NaN        45   \n",
       "9   25224.94                 Non-CV R2 on train set is 0.89.        24   \n",
       "10  25425.04                                 max_iter = 1000        24   \n",
       "11  25297.28                                             NaN        24   \n",
       "12  30618.22                 Non-CV R2 on train set is 0.84.         2   \n",
       "13  30622.32                                 max_iter = 1000         2   \n",
       "14  30619.56                                             NaN         2   \n",
       "15  24442.40  Logarithmic transformation of target variable.        53   \n",
       "\n",
       "               feature_set  \n",
       "0             features_max  \n",
       "1             features_max  \n",
       "2             features_max  \n",
       "3   features_max_powerless  \n",
       "4   features_max_powerless  \n",
       "5   features_max_powerless  \n",
       "6       features_drop_weak  \n",
       "7       features_drop_weak  \n",
       "8       features_drop_weak  \n",
       "9            features_lite  \n",
       "10           features_lite  \n",
       "11           features_lite  \n",
       "12            features_min  \n",
       "13            features_min  \n",
       "14            features_min  \n",
       "15            features_max  "
      ]
     },
     "execution_count": 108,
     "metadata": {},
     "output_type": "execute_result"
    }
   ],
   "source": [
    "results"
   ]
  },
  {
   "cell_type": "markdown",
   "id": "514decc2",
   "metadata": {},
   "source": [
    "Logarithmic transformation of target variable for ridge regression on first feature set."
   ]
  },
  {
   "cell_type": "code",
   "execution_count": 109,
   "id": "904419e5",
   "metadata": {},
   "outputs": [
    {
     "data": {
      "text/plain": [
       "0.9293065837229739"
      ]
     },
     "execution_count": 109,
     "metadata": {},
     "output_type": "execute_result"
    }
   ],
   "source": [
    "numeric_transformer = Pipeline(steps=[('scaler', StandardScaler())])\n",
    "\n",
    "preprocessor = ColumnTransformer(transformers=[\n",
    "    ('bin', 'passthrough', bin_features1),\n",
    "    ('num', numeric_transformer, num_features1)])\n",
    "\n",
    "ridge = Pipeline(steps=[('preprocessor', preprocessor),\n",
    "                       ('estimator', RidgeCV())])\n",
    "\n",
    "ridge_log_y = TransformedTargetRegressor(regressor=ridge,\n",
    "                                        func=np.log,\n",
    "                                        inverse_func=np.exp)\n",
    "\n",
    "ridge_log_y.fit(X_train, y_train)\n",
    "ridge_log_y.score(X_train, y_train)"
   ]
  },
  {
   "cell_type": "code",
   "execution_count": 110,
   "id": "117d8fce",
   "metadata": {},
   "outputs": [
    {
     "data": {
      "text/plain": [
       "21208.702686279965"
      ]
     },
     "execution_count": 110,
     "metadata": {},
     "output_type": "execute_result"
    }
   ],
   "source": [
    "(mean_squared_error(y_train, ridge_log_y.predict(X_train)))**0.5"
   ]
  },
  {
   "cell_type": "code",
   "execution_count": 111,
   "id": "d65efb50",
   "metadata": {
    "scrolled": true
   },
   "outputs": [
    {
     "data": {
      "text/plain": [
       "0.8970654444734278"
      ]
     },
     "execution_count": 111,
     "metadata": {},
     "output_type": "execute_result"
    }
   ],
   "source": [
    "ridge_log_y.score(X_val, y_val)"
   ]
  },
  {
   "cell_type": "code",
   "execution_count": 112,
   "id": "e0e867d0",
   "metadata": {
    "scrolled": false
   },
   "outputs": [
    {
     "data": {
      "text/plain": [
       "24779.096352319517"
      ]
     },
     "execution_count": 112,
     "metadata": {},
     "output_type": "execute_result"
    }
   ],
   "source": [
    "(mean_squared_error(y_val, ridge_log_y.predict(X_val)))**0.5"
   ]
  },
  {
   "cell_type": "code",
   "execution_count": 113,
   "id": "d354fb41",
   "metadata": {},
   "outputs": [],
   "source": [
    "results = results.append({\n",
    "    'comments': 'Logarithmic transformation of target variable.',\n",
    "    'model_group': 1,\n",
    "    'model_type': 'Ridge',\n",
    "    'train_R2': round(0.9293065837229739, 2),\n",
    "    'train_RMSE': round(21208.702686279965, 2),\n",
    "    'val_R2': round(0.8970654444734278,2),\n",
    "    'val_RMSE': round(24779.096352319517,2),\n",
    "    'features': len(fea['features_max']),\n",
    "    'feature_set': 'features_max'\n",
    "    \n",
    "}, ignore_index=True)"
   ]
  },
  {
   "cell_type": "code",
   "execution_count": 114,
   "id": "e323f914",
   "metadata": {},
   "outputs": [],
   "source": [
    "results = results.fillna('')"
   ]
  },
  {
   "cell_type": "code",
   "execution_count": 115,
   "id": "62a100c0",
   "metadata": {
    "scrolled": true
   },
   "outputs": [],
   "source": [
    "# print(results.to_markdown())"
   ]
  },
  {
   "cell_type": "markdown",
   "id": "b678a790",
   "metadata": {},
   "source": [
    "|    |   model_group | model_type        | model_params   |   train_R2 |   train_RMSE |   val_R2 |   val_RMSE | comments                                       |   features | feature_set            |\n",
    "|---:|--------------:|:------------------|:---------------|-----------:|-------------:|---------:|-----------:|:-----------------------------------------------|-----------:|:-----------------------|\n",
    "|  0 |             1 | Linear Regression |                |       0.92 |      24482   |     0.91 |    23708   |                                                |         53 | features_max           |\n",
    "|  1 |             1 | Lasso             | alpha=67.09    |       0.91 |      23275.3 |     0.9  |    24193.3 |                                                |         53 | features_max           |\n",
    "|  2 |             1 | Ridge             | alpha=1.0      |       0.92 |      23078   |     0.9  |    23869.4 |                                                |         53 | features_max           |\n",
    "|  3 |             2 | Linear Regression |                |       0.89 |      26621.2 |     0.88 |    26424.2 | Non-CV R2 on train set is 0.9.                 |         53 | features_max_powerless |\n",
    "|  4 |             2 | Lasso             | alpha=65.87    |       0.9  |      25427.7 |     0.88 |    26713.2 | max_iter = 10000                               |         53 | features_max_powerless |\n",
    "|  5 |             2 | Ridge             | alpha=10.0     |       0.9  |      25405.1 |     0.88 |    26575.5 |                                                |         53 | features_max_powerless |\n",
    "|  6 |             3 | Linear Regression |                |       0.9  |      25433   |     0.9  |    24795.5 | Non-CV R2 on train set is 0.91.                |         45 | features_drop_weak     |\n",
    "|  7 |             3 | Lasso             | alpha=117.24   |       0.91 |      24342.2 |     0.89 |    25283   | max_iter = 1000                                |         45 | features_drop_weak     |\n",
    "|  8 |             3 | Ridge             | alpha=1.0      |       0.91 |      24068.2 |     0.9  |    24910   |                                                |         45 | features_drop_weak     |\n",
    "|  9 |             4 | Linear Regression |                |       0.88 |      27353.2 |     0.89 |    25224.9 | Non-CV R2 on train set is 0.89.                |         24 | features_lite          |\n",
    "| 10 |             4 | Lasso             | alpha=67.09    |       0.89 |      26751.6 |     0.89 |    25425   | max_iter = 1000                                |         24 | features_lite          |\n",
    "| 11 |             4 | Ridge             | alpha=1.0      |       0.89 |      26714.6 |     0.89 |    25297.3 |                                                |         24 | features_lite          |\n",
    "| 12 |             5 | Linear Regression |                |       0.83 |      32166.2 |     0.84 |    30618.2 | Non-CV R2 on train set is 0.84.                |          2 | features_min           |\n",
    "| 13 |             5 | Lasso             | alpha=71.94    |       0.84 |      31964.5 |     0.84 |    30622.3 | max_iter = 1000                                |          2 | features_min           |\n",
    "| 14 |             5 | Ridge             | alpha=1.0      |       0.84 |      31964.4 |     0.84 |    30619.6 |                                                |          2 | features_min           |\n",
    "| 15 |             1 | Linear Regression |                |       0.93 |      22813.1 |     0.9  |    24442.4 | Logarithmic transformation of target variable. |         53 | features_max           |\n",
    "| 16 |             1 | Ridge             |                |       0.93 |      21208.7 |     0.9  |    24779.1 | Logarithmic transformation of target variable. |         53 | features_max           |"
   ]
  },
  {
   "cell_type": "markdown",
   "id": "418d4b49",
   "metadata": {},
   "source": [
    "Overall, the logarithmic transformation seems to improve performance on the train set as opposed to the equivalent models without this transformation. However, it performs worse on the validation sets, indicating that the log transformation is likely causing some overfitting."
   ]
  },
  {
   "cell_type": "markdown",
   "id": "d1576f8c",
   "metadata": {},
   "source": [
    "## Train Model with Combined Dataset\n",
    "\n",
    "Now, the two most promising models are trained with the entire trianing set (train + val) to prepare them for prediction on the test set.\n",
    "\n",
    "Naturally, we would expect to see the error go down overall compared to above models, due to more training data helping to both decrease bias and variance. But what is crucial to look out for is whether these models with more data ahve a tendency to overfoot this larger training set. Comparing cross-validated scores is an indicator of this."
   ]
  },
  {
   "cell_type": "markdown",
   "id": "46d7e25e",
   "metadata": {},
   "source": [
    "### Linear Regression Model for Combined Dataset\n",
    "Selection: Model Group 1"
   ]
  },
  {
   "cell_type": "code",
   "execution_count": 116,
   "id": "9c0b5da4",
   "metadata": {},
   "outputs": [],
   "source": [
    "X1 = X[features1]"
   ]
  },
  {
   "cell_type": "code",
   "execution_count": 117,
   "id": "1d796248",
   "metadata": {},
   "outputs": [],
   "source": [
    "linreg_final = LinearRegression()"
   ]
  },
  {
   "cell_type": "code",
   "execution_count": 118,
   "id": "f1884991",
   "metadata": {},
   "outputs": [
    {
     "data": {
      "text/plain": [
       "LinearRegression()"
      ]
     },
     "execution_count": 118,
     "metadata": {},
     "output_type": "execute_result"
    }
   ],
   "source": [
    "linreg_final.fit(X1, y)"
   ]
  },
  {
   "cell_type": "code",
   "execution_count": 119,
   "id": "4e5f73f0",
   "metadata": {},
   "outputs": [
    {
     "data": {
      "text/plain": [
       "22883.38685996629"
      ]
     },
     "execution_count": 119,
     "metadata": {},
     "output_type": "execute_result"
    }
   ],
   "source": [
    "(mean_squared_error(y, linreg_final.predict(X1)))**0.5"
   ]
  },
  {
   "cell_type": "code",
   "execution_count": 120,
   "id": "b70da318",
   "metadata": {},
   "outputs": [
    {
     "data": {
      "text/plain": [
       "24126.50674943843"
      ]
     },
     "execution_count": 120,
     "metadata": {},
     "output_type": "execute_result"
    }
   ],
   "source": [
    "(- cross_val_score(linreg_final, X1, y, cv=5, scoring='neg_mean_squared_error').mean()) **0.5"
   ]
  },
  {
   "cell_type": "markdown",
   "id": "6f97f88e",
   "metadata": {},
   "source": [
    "There is significant difference between the cross-validated and non-cross-validated score for the final linear regression model, this indicates that this model might not generalise so well to unseen data. "
   ]
  },
  {
   "cell_type": "markdown",
   "id": "663c85bf",
   "metadata": {},
   "source": [
    "### Ridge Model for Combined Dataset\n",
    "Selection: Model Group 1"
   ]
  },
  {
   "cell_type": "code",
   "execution_count": 121,
   "id": "29ac1ac6",
   "metadata": {},
   "outputs": [],
   "source": [
    "numeric_transformer = Pipeline(steps=[('scaler', StandardScaler())])\n",
    "\n",
    "preprocessor = ColumnTransformer(transformers=[\n",
    "    ('bin', 'passthrough', bin_features1),\n",
    "    ('num', numeric_transformer, num_features1)])\n",
    "\n",
    "ridge_final = Pipeline(steps=[('preprocessor', preprocessor),\n",
    "                       ('estimator', Ridge(alpha=1.0))])"
   ]
  },
  {
   "cell_type": "code",
   "execution_count": 122,
   "id": "87989f60",
   "metadata": {
    "scrolled": true
   },
   "outputs": [
    {
     "data": {
      "text/plain": [
       "Pipeline(steps=[('preprocessor',\n",
       "                 ColumnTransformer(transformers=[('bin', 'passthrough',\n",
       "                                                  ['After 1999', 'PID 9',\n",
       "                                                   'Floating Village',\n",
       "                                                   'Regular Lot Shape',\n",
       "                                                   'Hillside', 'CulDSac', 'NH1',\n",
       "                                                   'NH2', 'NH3', 'NH4',\n",
       "                                                   '1 Story', 'Hip Roof',\n",
       "                                                   'Stone Vnr', 'Has Vnr',\n",
       "                                                   'PConc Foundation',\n",
       "                                                   'Has Central Air',\n",
       "                                                   'Excellent Heating',\n",
       "                                                   'Attached or BuiltIn Garage',\n",
       "                                                   'Finished Garage',\n",
       "                                                   'Fully Paved Drive',\n",
       "                                                   'New Sale',\n",
       "                                                   '...\n",
       "                                                   'Total Bsmt SF',\n",
       "                                                   '1st Flr SF', '2nd Flr SF',\n",
       "                                                   'Low Qual Fin SF',\n",
       "                                                   'Bedroom AbvGr',\n",
       "                                                   'Kitchen AbvGr',\n",
       "                                                   'TotRms AbvGrd',\n",
       "                                                   'Fireplaces', 'Garage Area',\n",
       "                                                   'Wood Deck SF',\n",
       "                                                   'Open Porch SF',\n",
       "                                                   'Enclosed Porch',\n",
       "                                                   '3Ssn Porch', 'Screen Porch',\n",
       "                                                   'Pool Area', 'Misc Val',\n",
       "                                                   'Mo Sold', 'Yr Sold',\n",
       "                                                   'Bath Log', 'Exter Qual Num',\n",
       "                                                   'Kitchen Qual Num',\n",
       "                                                   'Fireplace Qu Num',\n",
       "                                                   '1.5P Gr Liv Area',\n",
       "                                                   '1.5P Total SF', ...])])),\n",
       "                ('estimator', Ridge())])"
      ]
     },
     "execution_count": 122,
     "metadata": {},
     "output_type": "execute_result"
    }
   ],
   "source": [
    "ridge_final.fit(X1, y)"
   ]
  },
  {
   "cell_type": "code",
   "execution_count": 123,
   "id": "7e1f8dad",
   "metadata": {},
   "outputs": [
    {
     "data": {
      "text/plain": [
       "22995.79669003899"
      ]
     },
     "execution_count": 123,
     "metadata": {},
     "output_type": "execute_result"
    }
   ],
   "source": [
    "(mean_squared_error(y, ridge_final.predict(X1)))**0.5"
   ]
  },
  {
   "cell_type": "code",
   "execution_count": 124,
   "id": "b2fa7f8f",
   "metadata": {},
   "outputs": [
    {
     "data": {
      "text/plain": [
       "24264.449630813175"
      ]
     },
     "execution_count": 124,
     "metadata": {},
     "output_type": "execute_result"
    }
   ],
   "source": [
    "(- cross_val_score(ridge_final, X1, y, cv=5, scoring='neg_mean_squared_error').mean()) **0.5"
   ]
  },
  {
   "cell_type": "markdown",
   "id": "a1584094",
   "metadata": {},
   "source": [
    "The final ridge model performs slightly worse than the plain linear gression model above, but the cross-validated score is closer to its non-cross-validated score. This indicates that the model likely generalises better to unseen data than the plain linear regression model."
   ]
  },
  {
   "cell_type": "markdown",
   "id": "e862518d",
   "metadata": {},
   "source": [
    "### Interpretation of Ridge Final Model Coefficients"
   ]
  },
  {
   "cell_type": "code",
   "execution_count": 125,
   "id": "c409929a",
   "metadata": {
    "scrolled": true
   },
   "outputs": [
    {
     "data": {
      "text/plain": [
       "{'Lot Frontage': 3452.7781429888764,\n",
       " 'Lot Area': 4594.659798879528,\n",
       " 'Overall Cond': 9010.989107847758,\n",
       " 'Year Built': -2239.919807259114,\n",
       " 'Year Remod/Add': 16531.61295882386,\n",
       " 'Mas Vnr Area': 7522.53886432506,\n",
       " 'Total Bsmt SF': -45174.13254774184,\n",
       " '1st Flr SF': -38907.594803949134,\n",
       " '2nd Flr SF': -37510.61588826987,\n",
       " 'Low Qual Fin SF': -16285.952417901193,\n",
       " 'Bedroom AbvGr': -3160.200648775165,\n",
       " 'Kitchen AbvGr': 5626.5902160422365,\n",
       " 'TotRms AbvGrd': 8135.846674883454,\n",
       " 'Fireplaces': -5800.119015966088,\n",
       " 'Garage Area': 4326.712870587705,\n",
       " 'Wood Deck SF': 829.8882126802082,\n",
       " 'Open Porch SF': 2926.1376383082093,\n",
       " 'Enclosed Porch': 2604.970979630671,\n",
       " '3Ssn Porch': 174.3553132959988,\n",
       " 'Screen Porch': 6934.863865230692,\n",
       " 'Pool Area': 14749.628453031411,\n",
       " 'Misc Val': -5525.811315753386,\n",
       " 'Mo Sold': 2286.6045041027946,\n",
       " 'Yr Sold': 5847.387041772138,\n",
       " 'After 1999': 7175.4546558107595,\n",
       " 'PID 9': 8531.282495863774,\n",
       " 'Bath Log': 534.7842575731994,\n",
       " 'Floating Village': 4290.696903325964,\n",
       " 'Regular Lot Shape': -24515.89421927604,\n",
       " 'Hillside': -25995.78885656122,\n",
       " 'CulDSac': -30230.196001749337,\n",
       " 'NH1': -5507.443002917505,\n",
       " 'NH2': -2971.614719373026,\n",
       " 'NH3': -3092.521625433027,\n",
       " 'NH4': 2944.1292712655063,\n",
       " '1 Story': 3720.730869778514,\n",
       " 'Hip Roof': 4793.826294314017,\n",
       " 'Stone Vnr': 2152.218891193354,\n",
       " 'Has Vnr': 773.489163592018,\n",
       " 'Exter Qual Num': 1242.0015345570393,\n",
       " 'PConc Foundation': 788.8211087493511,\n",
       " 'Has Central Air': 4318.932313567231,\n",
       " 'Excellent Heating': -194.56481258583568,\n",
       " 'Kitchen Qual Num': 113.12238993635262,\n",
       " 'Fireplace Qu Num': 110.24876311405035,\n",
       " 'Attached or BuiltIn Garage': -169.03776270233854,\n",
       " 'Finished Garage': 4328.877119143196,\n",
       " 'Fully Paved Drive': -1983.118921341476,\n",
       " 'New Sale': 5163.865737311823,\n",
       " 'Has Alley Access': 661.1283267182106,\n",
       " '1.5P Gr Liv Area': 9849.0407741753,\n",
       " '1.5P Total SF': 68050.25674478943,\n",
       " 'P3 Overall Qual': 19130.787585044953}"
      ]
     },
     "execution_count": 125,
     "metadata": {},
     "output_type": "execute_result"
    }
   ],
   "source": [
    "dict(zip(features1, ridge_final['estimator'].coef_))"
   ]
  },
  {
   "cell_type": "markdown",
   "id": "8a8f7a9b",
   "metadata": {},
   "source": [
    "The magnitude of the regression coefficients allow us to interpret the importance of that feature in predicting sale price.\n",
    "Below, the coefficients are sorted in descending order of magnitude."
   ]
  },
  {
   "cell_type": "code",
   "execution_count": 126,
   "id": "e2080bf0",
   "metadata": {},
   "outputs": [],
   "source": [
    "# dict(sorted(zip(features1, np.abs(ridge_final['estimator'].coef_)), key = lambda x:x[1], reverse=True))"
   ]
  },
  {
   "cell_type": "code",
   "execution_count": 127,
   "id": "236dff3d",
   "metadata": {
    "scrolled": true
   },
   "outputs": [],
   "source": [
    "sorted_coefs = dict(sorted(zip(features1, [round(c,2) for c in ridge_final['estimator'].coef_]), key = lambda x:np.abs(x[1]), reverse=True))"
   ]
  },
  {
   "cell_type": "code",
   "execution_count": 128,
   "id": "0b684a12",
   "metadata": {
    "scrolled": true
   },
   "outputs": [
    {
     "data": {
      "text/plain": [
       "{'1.5P Total SF': 68050.26,\n",
       " 'Total Bsmt SF': -45174.13,\n",
       " '1st Flr SF': -38907.59,\n",
       " '2nd Flr SF': -37510.62,\n",
       " 'CulDSac': -30230.2,\n",
       " 'Hillside': -25995.79,\n",
       " 'Regular Lot Shape': -24515.89,\n",
       " 'P3 Overall Qual': 19130.79,\n",
       " 'Year Remod/Add': 16531.61,\n",
       " 'Low Qual Fin SF': -16285.95,\n",
       " 'Pool Area': 14749.63,\n",
       " '1.5P Gr Liv Area': 9849.04,\n",
       " 'Overall Cond': 9010.99,\n",
       " 'PID 9': 8531.28,\n",
       " 'TotRms AbvGrd': 8135.85,\n",
       " 'Mas Vnr Area': 7522.54,\n",
       " 'After 1999': 7175.45,\n",
       " 'Screen Porch': 6934.86,\n",
       " 'Yr Sold': 5847.39,\n",
       " 'Fireplaces': -5800.12,\n",
       " 'Kitchen AbvGr': 5626.59,\n",
       " 'Misc Val': -5525.81,\n",
       " 'NH1': -5507.44,\n",
       " 'New Sale': 5163.87,\n",
       " 'Hip Roof': 4793.83,\n",
       " 'Lot Area': 4594.66,\n",
       " 'Finished Garage': 4328.88,\n",
       " 'Garage Area': 4326.71,\n",
       " 'Has Central Air': 4318.93,\n",
       " 'Floating Village': 4290.7,\n",
       " '1 Story': 3720.73,\n",
       " 'Lot Frontage': 3452.78,\n",
       " 'Bedroom AbvGr': -3160.2,\n",
       " 'NH3': -3092.52,\n",
       " 'NH2': -2971.61,\n",
       " 'NH4': 2944.13,\n",
       " 'Open Porch SF': 2926.14,\n",
       " 'Enclosed Porch': 2604.97,\n",
       " 'Mo Sold': 2286.6,\n",
       " 'Year Built': -2239.92,\n",
       " 'Stone Vnr': 2152.22,\n",
       " 'Fully Paved Drive': -1983.12,\n",
       " 'Exter Qual Num': 1242.0,\n",
       " 'Wood Deck SF': 829.89,\n",
       " 'PConc Foundation': 788.82,\n",
       " 'Has Vnr': 773.49,\n",
       " 'Has Alley Access': 661.13,\n",
       " 'Bath Log': 534.78,\n",
       " 'Excellent Heating': -194.56,\n",
       " '3Ssn Porch': 174.36,\n",
       " 'Attached or BuiltIn Garage': -169.04,\n",
       " 'Kitchen Qual Num': 113.12,\n",
       " 'Fireplace Qu Num': 110.25}"
      ]
     },
     "execution_count": 128,
     "metadata": {},
     "output_type": "execute_result"
    }
   ],
   "source": [
    "sorted_coefs"
   ]
  },
  {
   "cell_type": "markdown",
   "id": "8bc40c2f",
   "metadata": {},
   "source": [
    "The obvious candidates that are confirmed to be highly predictive of sale price are the total area (Total SF) and quality of house finishing.\n",
    "\n",
    "Quality of the house finishing ranks in the top 2 positive predictive features, unsurprisingly, as houses with higher quality finishings are desirable and costlier for the practical reason that finishing cost money too. Another unsurprising relation confirmed is that houses with large pools cost more.\n",
    "\n",
    "The year last renovated or constructed ('Year Remod/Add') expectedly is an important factor as well. Newer or newly renovated houses are more desirable. Likewise, having a large amount of low quality finished areas has a negative effect on sale price, likely because this depicts a house in poor shape. \n",
    "\n",
    "Weirdly, there is a negative relation between basement and individual floors areas with the price. The basement relation could possible be due to the fact that more basement space might imply less above ground space.\n",
    "\n",
    "Surprisingly, being on a hill and/or at a cul de sac has a strong negative effect on price. It would make sense for houses to have a view from a hill and privacy of a cul de sac to be worth more, but it seems perhaps there are inconveniences with such location attributes such ease of access. It is also lilely that there are simply many expensive properties that are not located at a cul de sac or on a hill which causes this negative association.\n",
    "\n",
    "Another interesting insight is that the regularity of the lot shape is negatively associated with price. There might be some underlying pattern about regular lot shapes, perhaps more generic lower priced houses tend to be on regular lots.\n",
    "\n",
    "Interestingly, neighborhoods were not a very strong predictor of pricing, but this could be a limitation of how the project tried to segment the neighborhoods.\n",
    "\n",
    "Another interesting observation is that kitchen quality are not that predictive of pricing. This is likely due to buyer's choosing to renovate the kitchen after purchasing, or perhaps that kitchens just do not vary that much in quality."
   ]
  },
  {
   "cell_type": "code",
   "execution_count": 129,
   "id": "c4c4c570",
   "metadata": {},
   "outputs": [],
   "source": [
    "coef_df = pd.DataFrame.from_dict(sorted_coefs, orient='index', columns=['ridge coef'])"
   ]
  },
  {
   "cell_type": "code",
   "execution_count": 130,
   "id": "8232f60a",
   "metadata": {
    "scrolled": true
   },
   "outputs": [
    {
     "data": {
      "text/html": [
       "<div>\n",
       "<style scoped>\n",
       "    .dataframe tbody tr th:only-of-type {\n",
       "        vertical-align: middle;\n",
       "    }\n",
       "\n",
       "    .dataframe tbody tr th {\n",
       "        vertical-align: top;\n",
       "    }\n",
       "\n",
       "    .dataframe thead th {\n",
       "        text-align: right;\n",
       "    }\n",
       "</style>\n",
       "<table border=\"1\" class=\"dataframe\">\n",
       "  <thead>\n",
       "    <tr style=\"text-align: right;\">\n",
       "      <th></th>\n",
       "      <th>ridge coef</th>\n",
       "    </tr>\n",
       "  </thead>\n",
       "  <tbody>\n",
       "    <tr>\n",
       "      <th>1.5P Total SF</th>\n",
       "      <td>68050.26</td>\n",
       "    </tr>\n",
       "    <tr>\n",
       "      <th>Total Bsmt SF</th>\n",
       "      <td>-45174.13</td>\n",
       "    </tr>\n",
       "    <tr>\n",
       "      <th>1st Flr SF</th>\n",
       "      <td>-38907.59</td>\n",
       "    </tr>\n",
       "    <tr>\n",
       "      <th>2nd Flr SF</th>\n",
       "      <td>-37510.62</td>\n",
       "    </tr>\n",
       "    <tr>\n",
       "      <th>CulDSac</th>\n",
       "      <td>-30230.20</td>\n",
       "    </tr>\n",
       "    <tr>\n",
       "      <th>Hillside</th>\n",
       "      <td>-25995.79</td>\n",
       "    </tr>\n",
       "    <tr>\n",
       "      <th>Regular Lot Shape</th>\n",
       "      <td>-24515.89</td>\n",
       "    </tr>\n",
       "    <tr>\n",
       "      <th>P3 Overall Qual</th>\n",
       "      <td>19130.79</td>\n",
       "    </tr>\n",
       "    <tr>\n",
       "      <th>Year Remod/Add</th>\n",
       "      <td>16531.61</td>\n",
       "    </tr>\n",
       "    <tr>\n",
       "      <th>Low Qual Fin SF</th>\n",
       "      <td>-16285.95</td>\n",
       "    </tr>\n",
       "    <tr>\n",
       "      <th>Pool Area</th>\n",
       "      <td>14749.63</td>\n",
       "    </tr>\n",
       "    <tr>\n",
       "      <th>1.5P Gr Liv Area</th>\n",
       "      <td>9849.04</td>\n",
       "    </tr>\n",
       "    <tr>\n",
       "      <th>Overall Cond</th>\n",
       "      <td>9010.99</td>\n",
       "    </tr>\n",
       "    <tr>\n",
       "      <th>PID 9</th>\n",
       "      <td>8531.28</td>\n",
       "    </tr>\n",
       "    <tr>\n",
       "      <th>TotRms AbvGrd</th>\n",
       "      <td>8135.85</td>\n",
       "    </tr>\n",
       "    <tr>\n",
       "      <th>Mas Vnr Area</th>\n",
       "      <td>7522.54</td>\n",
       "    </tr>\n",
       "    <tr>\n",
       "      <th>After 1999</th>\n",
       "      <td>7175.45</td>\n",
       "    </tr>\n",
       "    <tr>\n",
       "      <th>Screen Porch</th>\n",
       "      <td>6934.86</td>\n",
       "    </tr>\n",
       "    <tr>\n",
       "      <th>Yr Sold</th>\n",
       "      <td>5847.39</td>\n",
       "    </tr>\n",
       "    <tr>\n",
       "      <th>Fireplaces</th>\n",
       "      <td>-5800.12</td>\n",
       "    </tr>\n",
       "    <tr>\n",
       "      <th>Kitchen AbvGr</th>\n",
       "      <td>5626.59</td>\n",
       "    </tr>\n",
       "    <tr>\n",
       "      <th>Misc Val</th>\n",
       "      <td>-5525.81</td>\n",
       "    </tr>\n",
       "    <tr>\n",
       "      <th>NH1</th>\n",
       "      <td>-5507.44</td>\n",
       "    </tr>\n",
       "    <tr>\n",
       "      <th>New Sale</th>\n",
       "      <td>5163.87</td>\n",
       "    </tr>\n",
       "    <tr>\n",
       "      <th>Hip Roof</th>\n",
       "      <td>4793.83</td>\n",
       "    </tr>\n",
       "    <tr>\n",
       "      <th>Lot Area</th>\n",
       "      <td>4594.66</td>\n",
       "    </tr>\n",
       "    <tr>\n",
       "      <th>Finished Garage</th>\n",
       "      <td>4328.88</td>\n",
       "    </tr>\n",
       "    <tr>\n",
       "      <th>Garage Area</th>\n",
       "      <td>4326.71</td>\n",
       "    </tr>\n",
       "    <tr>\n",
       "      <th>Has Central Air</th>\n",
       "      <td>4318.93</td>\n",
       "    </tr>\n",
       "    <tr>\n",
       "      <th>Floating Village</th>\n",
       "      <td>4290.70</td>\n",
       "    </tr>\n",
       "    <tr>\n",
       "      <th>1 Story</th>\n",
       "      <td>3720.73</td>\n",
       "    </tr>\n",
       "    <tr>\n",
       "      <th>Lot Frontage</th>\n",
       "      <td>3452.78</td>\n",
       "    </tr>\n",
       "    <tr>\n",
       "      <th>Bedroom AbvGr</th>\n",
       "      <td>-3160.20</td>\n",
       "    </tr>\n",
       "    <tr>\n",
       "      <th>NH3</th>\n",
       "      <td>-3092.52</td>\n",
       "    </tr>\n",
       "    <tr>\n",
       "      <th>NH2</th>\n",
       "      <td>-2971.61</td>\n",
       "    </tr>\n",
       "    <tr>\n",
       "      <th>NH4</th>\n",
       "      <td>2944.13</td>\n",
       "    </tr>\n",
       "    <tr>\n",
       "      <th>Open Porch SF</th>\n",
       "      <td>2926.14</td>\n",
       "    </tr>\n",
       "    <tr>\n",
       "      <th>Enclosed Porch</th>\n",
       "      <td>2604.97</td>\n",
       "    </tr>\n",
       "    <tr>\n",
       "      <th>Mo Sold</th>\n",
       "      <td>2286.60</td>\n",
       "    </tr>\n",
       "    <tr>\n",
       "      <th>Year Built</th>\n",
       "      <td>-2239.92</td>\n",
       "    </tr>\n",
       "    <tr>\n",
       "      <th>Stone Vnr</th>\n",
       "      <td>2152.22</td>\n",
       "    </tr>\n",
       "    <tr>\n",
       "      <th>Fully Paved Drive</th>\n",
       "      <td>-1983.12</td>\n",
       "    </tr>\n",
       "    <tr>\n",
       "      <th>Exter Qual Num</th>\n",
       "      <td>1242.00</td>\n",
       "    </tr>\n",
       "    <tr>\n",
       "      <th>Wood Deck SF</th>\n",
       "      <td>829.89</td>\n",
       "    </tr>\n",
       "    <tr>\n",
       "      <th>PConc Foundation</th>\n",
       "      <td>788.82</td>\n",
       "    </tr>\n",
       "    <tr>\n",
       "      <th>Has Vnr</th>\n",
       "      <td>773.49</td>\n",
       "    </tr>\n",
       "    <tr>\n",
       "      <th>Has Alley Access</th>\n",
       "      <td>661.13</td>\n",
       "    </tr>\n",
       "    <tr>\n",
       "      <th>Bath Log</th>\n",
       "      <td>534.78</td>\n",
       "    </tr>\n",
       "    <tr>\n",
       "      <th>Excellent Heating</th>\n",
       "      <td>-194.56</td>\n",
       "    </tr>\n",
       "    <tr>\n",
       "      <th>3Ssn Porch</th>\n",
       "      <td>174.36</td>\n",
       "    </tr>\n",
       "    <tr>\n",
       "      <th>Attached or BuiltIn Garage</th>\n",
       "      <td>-169.04</td>\n",
       "    </tr>\n",
       "    <tr>\n",
       "      <th>Kitchen Qual Num</th>\n",
       "      <td>113.12</td>\n",
       "    </tr>\n",
       "    <tr>\n",
       "      <th>Fireplace Qu Num</th>\n",
       "      <td>110.25</td>\n",
       "    </tr>\n",
       "  </tbody>\n",
       "</table>\n",
       "</div>"
      ],
      "text/plain": [
       "                            ridge coef\n",
       "1.5P Total SF                 68050.26\n",
       "Total Bsmt SF                -45174.13\n",
       "1st Flr SF                   -38907.59\n",
       "2nd Flr SF                   -37510.62\n",
       "CulDSac                      -30230.20\n",
       "Hillside                     -25995.79\n",
       "Regular Lot Shape            -24515.89\n",
       "P3 Overall Qual               19130.79\n",
       "Year Remod/Add                16531.61\n",
       "Low Qual Fin SF              -16285.95\n",
       "Pool Area                     14749.63\n",
       "1.5P Gr Liv Area               9849.04\n",
       "Overall Cond                   9010.99\n",
       "PID 9                          8531.28\n",
       "TotRms AbvGrd                  8135.85\n",
       "Mas Vnr Area                   7522.54\n",
       "After 1999                     7175.45\n",
       "Screen Porch                   6934.86\n",
       "Yr Sold                        5847.39\n",
       "Fireplaces                    -5800.12\n",
       "Kitchen AbvGr                  5626.59\n",
       "Misc Val                      -5525.81\n",
       "NH1                           -5507.44\n",
       "New Sale                       5163.87\n",
       "Hip Roof                       4793.83\n",
       "Lot Area                       4594.66\n",
       "Finished Garage                4328.88\n",
       "Garage Area                    4326.71\n",
       "Has Central Air                4318.93\n",
       "Floating Village               4290.70\n",
       "1 Story                        3720.73\n",
       "Lot Frontage                   3452.78\n",
       "Bedroom AbvGr                 -3160.20\n",
       "NH3                           -3092.52\n",
       "NH2                           -2971.61\n",
       "NH4                            2944.13\n",
       "Open Porch SF                  2926.14\n",
       "Enclosed Porch                 2604.97\n",
       "Mo Sold                        2286.60\n",
       "Year Built                    -2239.92\n",
       "Stone Vnr                      2152.22\n",
       "Fully Paved Drive             -1983.12\n",
       "Exter Qual Num                 1242.00\n",
       "Wood Deck SF                    829.89\n",
       "PConc Foundation                788.82\n",
       "Has Vnr                         773.49\n",
       "Has Alley Access                661.13\n",
       "Bath Log                        534.78\n",
       "Excellent Heating              -194.56\n",
       "3Ssn Porch                      174.36\n",
       "Attached or BuiltIn Garage     -169.04\n",
       "Kitchen Qual Num                113.12\n",
       "Fireplace Qu Num                110.25"
      ]
     },
     "execution_count": 130,
     "metadata": {},
     "output_type": "execute_result"
    }
   ],
   "source": [
    "coef_df"
   ]
  },
  {
   "cell_type": "code",
   "execution_count": 131,
   "id": "21085c98",
   "metadata": {},
   "outputs": [],
   "source": [
    "# coef_df.to_csv('../features/ridge_coef.csv')"
   ]
  },
  {
   "cell_type": "markdown",
   "id": "3938f2cc",
   "metadata": {},
   "source": [
    "## Kaggle Predictions"
   ]
  },
  {
   "cell_type": "markdown",
   "id": "112f57fc",
   "metadata": {},
   "source": [
    "### Load Transformed Test Data\n",
    "\n",
    "This data is prepared in [Notebook 2a](02a_Preprocessing_Test_Set.ipynb)."
   ]
  },
  {
   "cell_type": "code",
   "execution_count": 132,
   "id": "caf2c3a5",
   "metadata": {},
   "outputs": [],
   "source": [
    "df_test = pd.read_csv('../datasets/f_test.csv')"
   ]
  },
  {
   "cell_type": "code",
   "execution_count": 133,
   "id": "927e6cb9",
   "metadata": {},
   "outputs": [],
   "source": [
    "df_test.set_index('Id', inplace=True)"
   ]
  },
  {
   "cell_type": "markdown",
   "id": "44807a37",
   "metadata": {},
   "source": [
    "### Make Predictions on Kaggle Test Set"
   ]
  },
  {
   "cell_type": "code",
   "execution_count": 134,
   "id": "9c534621",
   "metadata": {},
   "outputs": [
    {
     "data": {
      "text/html": [
       "<div>\n",
       "<style scoped>\n",
       "    .dataframe tbody tr th:only-of-type {\n",
       "        vertical-align: middle;\n",
       "    }\n",
       "\n",
       "    .dataframe tbody tr th {\n",
       "        vertical-align: top;\n",
       "    }\n",
       "\n",
       "    .dataframe thead th {\n",
       "        text-align: right;\n",
       "    }\n",
       "</style>\n",
       "<table border=\"1\" class=\"dataframe\">\n",
       "  <thead>\n",
       "    <tr style=\"text-align: right;\">\n",
       "      <th></th>\n",
       "      <th>Lot Frontage</th>\n",
       "      <th>Lot Area</th>\n",
       "      <th>Overall Qual</th>\n",
       "      <th>Overall Cond</th>\n",
       "      <th>Year Built</th>\n",
       "      <th>Year Remod/Add</th>\n",
       "      <th>Mas Vnr Area</th>\n",
       "      <th>Total Bsmt SF</th>\n",
       "      <th>1st Flr SF</th>\n",
       "      <th>2nd Flr SF</th>\n",
       "      <th>...</th>\n",
       "      <th>Attached or BuiltIn Garage</th>\n",
       "      <th>Finished Garage</th>\n",
       "      <th>Fully Paved Drive</th>\n",
       "      <th>New Sale</th>\n",
       "      <th>Has Alley Access</th>\n",
       "      <th>Total SF</th>\n",
       "      <th>1.5P Gr Liv Area</th>\n",
       "      <th>1.5P Total SF</th>\n",
       "      <th>After 1999</th>\n",
       "      <th>P3 Overall Qual</th>\n",
       "    </tr>\n",
       "    <tr>\n",
       "      <th>Id</th>\n",
       "      <th></th>\n",
       "      <th></th>\n",
       "      <th></th>\n",
       "      <th></th>\n",
       "      <th></th>\n",
       "      <th></th>\n",
       "      <th></th>\n",
       "      <th></th>\n",
       "      <th></th>\n",
       "      <th></th>\n",
       "      <th></th>\n",
       "      <th></th>\n",
       "      <th></th>\n",
       "      <th></th>\n",
       "      <th></th>\n",
       "      <th></th>\n",
       "      <th></th>\n",
       "      <th></th>\n",
       "      <th></th>\n",
       "      <th></th>\n",
       "      <th></th>\n",
       "    </tr>\n",
       "  </thead>\n",
       "  <tbody>\n",
       "    <tr>\n",
       "      <th>2658</th>\n",
       "      <td>69.0</td>\n",
       "      <td>9142</td>\n",
       "      <td>6</td>\n",
       "      <td>8</td>\n",
       "      <td>1910</td>\n",
       "      <td>1950</td>\n",
       "      <td>0.0</td>\n",
       "      <td>1020.0</td>\n",
       "      <td>908</td>\n",
       "      <td>1020</td>\n",
       "      <td>...</td>\n",
       "      <td>0</td>\n",
       "      <td>0</td>\n",
       "      <td>1</td>\n",
       "      <td>0</td>\n",
       "      <td>1</td>\n",
       "      <td>2948.0</td>\n",
       "      <td>84656.545831</td>\n",
       "      <td>160063.098158</td>\n",
       "      <td>0</td>\n",
       "      <td>216</td>\n",
       "    </tr>\n",
       "    <tr>\n",
       "      <th>2718</th>\n",
       "      <td>0.0</td>\n",
       "      <td>9662</td>\n",
       "      <td>5</td>\n",
       "      <td>4</td>\n",
       "      <td>1977</td>\n",
       "      <td>1977</td>\n",
       "      <td>0.0</td>\n",
       "      <td>1967.0</td>\n",
       "      <td>1967</td>\n",
       "      <td>0</td>\n",
       "      <td>...</td>\n",
       "      <td>1</td>\n",
       "      <td>1</td>\n",
       "      <td>1</td>\n",
       "      <td>0</td>\n",
       "      <td>0</td>\n",
       "      <td>3934.0</td>\n",
       "      <td>87238.168613</td>\n",
       "      <td>246746.802419</td>\n",
       "      <td>0</td>\n",
       "      <td>125</td>\n",
       "    </tr>\n",
       "    <tr>\n",
       "      <th>2414</th>\n",
       "      <td>58.0</td>\n",
       "      <td>17104</td>\n",
       "      <td>7</td>\n",
       "      <td>5</td>\n",
       "      <td>2006</td>\n",
       "      <td>2006</td>\n",
       "      <td>0.0</td>\n",
       "      <td>654.0</td>\n",
       "      <td>664</td>\n",
       "      <td>832</td>\n",
       "      <td>...</td>\n",
       "      <td>1</td>\n",
       "      <td>1</td>\n",
       "      <td>1</td>\n",
       "      <td>1</td>\n",
       "      <td>0</td>\n",
       "      <td>2150.0</td>\n",
       "      <td>57862.526181</td>\n",
       "      <td>99691.398827</td>\n",
       "      <td>1</td>\n",
       "      <td>343</td>\n",
       "    </tr>\n",
       "    <tr>\n",
       "      <th>1989</th>\n",
       "      <td>60.0</td>\n",
       "      <td>8520</td>\n",
       "      <td>5</td>\n",
       "      <td>6</td>\n",
       "      <td>1923</td>\n",
       "      <td>2006</td>\n",
       "      <td>0.0</td>\n",
       "      <td>968.0</td>\n",
       "      <td>968</td>\n",
       "      <td>0</td>\n",
       "      <td>...</td>\n",
       "      <td>0</td>\n",
       "      <td>0</td>\n",
       "      <td>0</td>\n",
       "      <td>0</td>\n",
       "      <td>0</td>\n",
       "      <td>1936.0</td>\n",
       "      <td>30117.092024</td>\n",
       "      <td>85184.000000</td>\n",
       "      <td>0</td>\n",
       "      <td>125</td>\n",
       "    </tr>\n",
       "    <tr>\n",
       "      <th>625</th>\n",
       "      <td>0.0</td>\n",
       "      <td>9500</td>\n",
       "      <td>6</td>\n",
       "      <td>5</td>\n",
       "      <td>1963</td>\n",
       "      <td>1963</td>\n",
       "      <td>247.0</td>\n",
       "      <td>1394.0</td>\n",
       "      <td>1394</td>\n",
       "      <td>0</td>\n",
       "      <td>...</td>\n",
       "      <td>1</td>\n",
       "      <td>1</td>\n",
       "      <td>1</td>\n",
       "      <td>0</td>\n",
       "      <td>0</td>\n",
       "      <td>2788.0</td>\n",
       "      <td>52046.815311</td>\n",
       "      <td>147210.624182</td>\n",
       "      <td>0</td>\n",
       "      <td>216</td>\n",
       "    </tr>\n",
       "  </tbody>\n",
       "</table>\n",
       "<p>5 rows × 56 columns</p>\n",
       "</div>"
      ],
      "text/plain": [
       "      Lot Frontage  Lot Area  Overall Qual  Overall Cond  Year Built  \\\n",
       "Id                                                                     \n",
       "2658          69.0      9142             6             8        1910   \n",
       "2718           0.0      9662             5             4        1977   \n",
       "2414          58.0     17104             7             5        2006   \n",
       "1989          60.0      8520             5             6        1923   \n",
       "625            0.0      9500             6             5        1963   \n",
       "\n",
       "      Year Remod/Add  Mas Vnr Area  Total Bsmt SF  1st Flr SF  2nd Flr SF  \\\n",
       "Id                                                                          \n",
       "2658            1950           0.0         1020.0         908        1020   \n",
       "2718            1977           0.0         1967.0        1967           0   \n",
       "2414            2006           0.0          654.0         664         832   \n",
       "1989            2006           0.0          968.0         968           0   \n",
       "625             1963         247.0         1394.0        1394           0   \n",
       "\n",
       "      ...  Attached or BuiltIn Garage  Finished Garage  Fully Paved Drive  \\\n",
       "Id    ...                                                                   \n",
       "2658  ...                           0                0                  1   \n",
       "2718  ...                           1                1                  1   \n",
       "2414  ...                           1                1                  1   \n",
       "1989  ...                           0                0                  0   \n",
       "625   ...                           1                1                  1   \n",
       "\n",
       "      New Sale  Has Alley Access  Total SF  1.5P Gr Liv Area  1.5P Total SF  \\\n",
       "Id                                                                            \n",
       "2658         0                 1    2948.0      84656.545831  160063.098158   \n",
       "2718         0                 0    3934.0      87238.168613  246746.802419   \n",
       "2414         1                 0    2150.0      57862.526181   99691.398827   \n",
       "1989         0                 0    1936.0      30117.092024   85184.000000   \n",
       "625          0                 0    2788.0      52046.815311  147210.624182   \n",
       "\n",
       "      After 1999  P3 Overall Qual  \n",
       "Id                                 \n",
       "2658           0              216  \n",
       "2718           0              125  \n",
       "2414           1              343  \n",
       "1989           0              125  \n",
       "625            0              216  \n",
       "\n",
       "[5 rows x 56 columns]"
      ]
     },
     "execution_count": 134,
     "metadata": {},
     "output_type": "execute_result"
    }
   ],
   "source": [
    "df_test.head()"
   ]
  },
  {
   "cell_type": "code",
   "execution_count": 135,
   "id": "fca1e2a0",
   "metadata": {},
   "outputs": [],
   "source": [
    "df_test['SalePrice'] = ridge_final.predict(df_test[features1])"
   ]
  },
  {
   "cell_type": "code",
   "execution_count": 136,
   "id": "5e08f505",
   "metadata": {},
   "outputs": [],
   "source": [
    "submission = df_test[['SalePrice']]"
   ]
  },
  {
   "cell_type": "code",
   "execution_count": 137,
   "id": "7b3e9cd9",
   "metadata": {},
   "outputs": [
    {
     "data": {
      "text/html": [
       "<div>\n",
       "<style scoped>\n",
       "    .dataframe tbody tr th:only-of-type {\n",
       "        vertical-align: middle;\n",
       "    }\n",
       "\n",
       "    .dataframe tbody tr th {\n",
       "        vertical-align: top;\n",
       "    }\n",
       "\n",
       "    .dataframe thead th {\n",
       "        text-align: right;\n",
       "    }\n",
       "</style>\n",
       "<table border=\"1\" class=\"dataframe\">\n",
       "  <thead>\n",
       "    <tr style=\"text-align: right;\">\n",
       "      <th></th>\n",
       "      <th>SalePrice</th>\n",
       "    </tr>\n",
       "    <tr>\n",
       "      <th>Id</th>\n",
       "      <th></th>\n",
       "    </tr>\n",
       "  </thead>\n",
       "  <tbody>\n",
       "    <tr>\n",
       "      <th>2658</th>\n",
       "      <td>147010.619551</td>\n",
       "    </tr>\n",
       "    <tr>\n",
       "      <th>2718</th>\n",
       "      <td>176220.617244</td>\n",
       "    </tr>\n",
       "    <tr>\n",
       "      <th>2414</th>\n",
       "      <td>212364.126487</td>\n",
       "    </tr>\n",
       "    <tr>\n",
       "      <th>1989</th>\n",
       "      <td>97824.060097</td>\n",
       "    </tr>\n",
       "    <tr>\n",
       "      <th>625</th>\n",
       "      <td>173701.651906</td>\n",
       "    </tr>\n",
       "    <tr>\n",
       "      <th>333</th>\n",
       "      <td>95257.546822</td>\n",
       "    </tr>\n",
       "    <tr>\n",
       "      <th>1327</th>\n",
       "      <td>104698.205443</td>\n",
       "    </tr>\n",
       "    <tr>\n",
       "      <th>858</th>\n",
       "      <td>154388.600130</td>\n",
       "    </tr>\n",
       "    <tr>\n",
       "      <th>95</th>\n",
       "      <td>185339.704741</td>\n",
       "    </tr>\n",
       "    <tr>\n",
       "      <th>1568</th>\n",
       "      <td>168916.847434</td>\n",
       "    </tr>\n",
       "  </tbody>\n",
       "</table>\n",
       "</div>"
      ],
      "text/plain": [
       "          SalePrice\n",
       "Id                 \n",
       "2658  147010.619551\n",
       "2718  176220.617244\n",
       "2414  212364.126487\n",
       "1989   97824.060097\n",
       "625   173701.651906\n",
       "333    95257.546822\n",
       "1327  104698.205443\n",
       "858   154388.600130\n",
       "95    185339.704741\n",
       "1568  168916.847434"
      ]
     },
     "execution_count": 137,
     "metadata": {},
     "output_type": "execute_result"
    }
   ],
   "source": [
    "submission.head(10)"
   ]
  },
  {
   "cell_type": "code",
   "execution_count": 138,
   "id": "1902cf6e",
   "metadata": {},
   "outputs": [],
   "source": [
    "# submission.to_csv('../kaggledata/final_sub.csv')"
   ]
  },
  {
   "cell_type": "markdown",
   "id": "57532acc",
   "metadata": {},
   "source": [
    "### Kaggle MSE Score\n",
    "Public Score: 24727.75\n",
    "\n",
    "This score is close to the cross-validated score of the Ridge model on the training data, which indicates that this model generalises decently to unseen data in predicting prices."
   ]
  },
  {
   "cell_type": "markdown",
   "id": "e61cf03b",
   "metadata": {},
   "source": [
    "## Conclusion and Recommendations"
   ]
  },
  {
   "cell_type": "markdown",
   "id": "6fd4baa4",
   "metadata": {},
   "source": [
    "1. The key features that, based on the Ames housing data, add most value to a home are its total area, high finishing quality, and year last renovated or built. This makes sense as larger, better finished, and newer homes would garner higher prices. \n",
    "\n",
    "\n",
    "2. Having a lot of poorly finished areas can hurt the pricing of the house a lot. This can either be an opportunity for buyers to get bargains (they can simply spend some money to renovate after getting a bargain). \n",
    "\n",
    "\n",
    "3. Likewise, it would be helpful to sellers that they make sure their hosues are touched up before going on the market if they wish to fetch a good price. Renovating to get a higher quality house finishing might be worth the capital for the potential increase in sale price.\n",
    "\n",
    "\n",
    "4. In Ames, Neighborhood Class 3 (NH3) of Bloomington, Somerset, Timberland, and Veenker could prove to be good investments. For their average relatively high finishing quality, they are negatively related to sale price compared to the most expensive tier of neighborhoods. The data is about a decade outdated, so this might not be the case today.\n",
    "\n",
    "\n",
    "5. Although pool size featured as strongly positively predictive for the Ames properties, this might not always hold true. For example, in hot areas such as in Calfornia and Nevada where a pool in the house is a necessity instead of a luxury, the correlation might not be so strong. The reverse could be true of cities where pools are an expensive luxury due to scarcity of land such as in New York City or Singapore, and pool size could be highly indicative of a high property price. \n",
    "\n",
    "\n",
    "6. Other attritubes of the Ames data that might not generalise to other cities, apart from the obvious neighborhood and parcel IDs, are location attributes such as being on a hill. In some cities, being situated on a gradient could be associated with being in an expensive neighbourhood (e.g. The Peak in Hong Kong or Mulholland Drive in Los Angeles). If this prediction task were to be on other cities, some additional work would be needed to segment the neighborhoods. We could use a similar approach of this project by trying to segment based on quality of house finishings and price per square foot. However, location attributes such as land contours could still be relevant, but would be interpreted differently."
   ]
  }
 ],
 "metadata": {
  "kernelspec": {
   "display_name": "Python 3",
   "language": "python",
   "name": "python3"
  },
  "language_info": {
   "codemirror_mode": {
    "name": "ipython",
    "version": 3
   },
   "file_extension": ".py",
   "mimetype": "text/x-python",
   "name": "python",
   "nbconvert_exporter": "python",
   "pygments_lexer": "ipython3",
   "version": "3.8.8"
  }
 },
 "nbformat": 4,
 "nbformat_minor": 5
}
