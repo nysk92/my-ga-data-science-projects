{
 "cells": [
  {
   "cell_type": "markdown",
   "id": "af512d53",
   "metadata": {},
   "source": [
    "# Preprocessing Test Set"
   ]
  },
  {
   "cell_type": "markdown",
   "id": "31a8fcdf",
   "metadata": {},
   "source": [
    "Transform test set features as [Notebook 02](02_Preprocessing_and_Feature_Engineering.ipynb) did for the train set."
   ]
  },
  {
   "cell_type": "code",
   "execution_count": 2,
   "id": "1c9a4305",
   "metadata": {},
   "outputs": [],
   "source": [
    "import numpy as np\n",
    "import pandas as pd\n",
    "import matplotlib.pyplot as plt\n",
    "import seaborn as sns"
   ]
  },
  {
   "cell_type": "markdown",
   "id": "819b1b19",
   "metadata": {},
   "source": [
    "\n",
    "### Load the Data"
   ]
  },
  {
   "cell_type": "markdown",
   "id": "1321fd28",
   "metadata": {},
   "source": [
    "df in this notebook is the test data"
   ]
  },
  {
   "cell_type": "code",
   "execution_count": 3,
   "id": "97fa42c6",
   "metadata": {},
   "outputs": [],
   "source": [
    "df = pd.read_csv('../kaggledata/test.csv')"
   ]
  },
  {
   "cell_type": "code",
   "execution_count": 4,
   "id": "997b5e92",
   "metadata": {},
   "outputs": [],
   "source": [
    "df_train_processed = pd.read_csv('../datasets/f_train.csv')"
   ]
  },
  {
   "cell_type": "code",
   "execution_count": 5,
   "id": "f9fa7cd1",
   "metadata": {},
   "outputs": [
    {
     "data": {
      "text/html": [
       "<div>\n",
       "<style scoped>\n",
       "    .dataframe tbody tr th:only-of-type {\n",
       "        vertical-align: middle;\n",
       "    }\n",
       "\n",
       "    .dataframe tbody tr th {\n",
       "        vertical-align: top;\n",
       "    }\n",
       "\n",
       "    .dataframe thead th {\n",
       "        text-align: right;\n",
       "    }\n",
       "</style>\n",
       "<table border=\"1\" class=\"dataframe\">\n",
       "  <thead>\n",
       "    <tr style=\"text-align: right;\">\n",
       "      <th></th>\n",
       "      <th>Id</th>\n",
       "      <th>PID</th>\n",
       "      <th>MS SubClass</th>\n",
       "      <th>MS Zoning</th>\n",
       "      <th>Lot Frontage</th>\n",
       "      <th>Lot Area</th>\n",
       "      <th>Street</th>\n",
       "      <th>Alley</th>\n",
       "      <th>Lot Shape</th>\n",
       "      <th>Land Contour</th>\n",
       "      <th>...</th>\n",
       "      <th>3Ssn Porch</th>\n",
       "      <th>Screen Porch</th>\n",
       "      <th>Pool Area</th>\n",
       "      <th>Pool QC</th>\n",
       "      <th>Fence</th>\n",
       "      <th>Misc Feature</th>\n",
       "      <th>Misc Val</th>\n",
       "      <th>Mo Sold</th>\n",
       "      <th>Yr Sold</th>\n",
       "      <th>Sale Type</th>\n",
       "    </tr>\n",
       "  </thead>\n",
       "  <tbody>\n",
       "    <tr>\n",
       "      <th>0</th>\n",
       "      <td>2658</td>\n",
       "      <td>902301120</td>\n",
       "      <td>190</td>\n",
       "      <td>RM</td>\n",
       "      <td>69.0</td>\n",
       "      <td>9142</td>\n",
       "      <td>Pave</td>\n",
       "      <td>Grvl</td>\n",
       "      <td>Reg</td>\n",
       "      <td>Lvl</td>\n",
       "      <td>...</td>\n",
       "      <td>0</td>\n",
       "      <td>0</td>\n",
       "      <td>0</td>\n",
       "      <td>NaN</td>\n",
       "      <td>NaN</td>\n",
       "      <td>NaN</td>\n",
       "      <td>0</td>\n",
       "      <td>4</td>\n",
       "      <td>2006</td>\n",
       "      <td>WD</td>\n",
       "    </tr>\n",
       "    <tr>\n",
       "      <th>1</th>\n",
       "      <td>2718</td>\n",
       "      <td>905108090</td>\n",
       "      <td>90</td>\n",
       "      <td>RL</td>\n",
       "      <td>NaN</td>\n",
       "      <td>9662</td>\n",
       "      <td>Pave</td>\n",
       "      <td>NaN</td>\n",
       "      <td>IR1</td>\n",
       "      <td>Lvl</td>\n",
       "      <td>...</td>\n",
       "      <td>0</td>\n",
       "      <td>0</td>\n",
       "      <td>0</td>\n",
       "      <td>NaN</td>\n",
       "      <td>NaN</td>\n",
       "      <td>NaN</td>\n",
       "      <td>0</td>\n",
       "      <td>8</td>\n",
       "      <td>2006</td>\n",
       "      <td>WD</td>\n",
       "    </tr>\n",
       "    <tr>\n",
       "      <th>2</th>\n",
       "      <td>2414</td>\n",
       "      <td>528218130</td>\n",
       "      <td>60</td>\n",
       "      <td>RL</td>\n",
       "      <td>58.0</td>\n",
       "      <td>17104</td>\n",
       "      <td>Pave</td>\n",
       "      <td>NaN</td>\n",
       "      <td>IR1</td>\n",
       "      <td>Lvl</td>\n",
       "      <td>...</td>\n",
       "      <td>0</td>\n",
       "      <td>0</td>\n",
       "      <td>0</td>\n",
       "      <td>NaN</td>\n",
       "      <td>NaN</td>\n",
       "      <td>NaN</td>\n",
       "      <td>0</td>\n",
       "      <td>9</td>\n",
       "      <td>2006</td>\n",
       "      <td>New</td>\n",
       "    </tr>\n",
       "    <tr>\n",
       "      <th>3</th>\n",
       "      <td>1989</td>\n",
       "      <td>902207150</td>\n",
       "      <td>30</td>\n",
       "      <td>RM</td>\n",
       "      <td>60.0</td>\n",
       "      <td>8520</td>\n",
       "      <td>Pave</td>\n",
       "      <td>NaN</td>\n",
       "      <td>Reg</td>\n",
       "      <td>Lvl</td>\n",
       "      <td>...</td>\n",
       "      <td>0</td>\n",
       "      <td>0</td>\n",
       "      <td>0</td>\n",
       "      <td>NaN</td>\n",
       "      <td>NaN</td>\n",
       "      <td>NaN</td>\n",
       "      <td>0</td>\n",
       "      <td>7</td>\n",
       "      <td>2007</td>\n",
       "      <td>WD</td>\n",
       "    </tr>\n",
       "    <tr>\n",
       "      <th>4</th>\n",
       "      <td>625</td>\n",
       "      <td>535105100</td>\n",
       "      <td>20</td>\n",
       "      <td>RL</td>\n",
       "      <td>NaN</td>\n",
       "      <td>9500</td>\n",
       "      <td>Pave</td>\n",
       "      <td>NaN</td>\n",
       "      <td>IR1</td>\n",
       "      <td>Lvl</td>\n",
       "      <td>...</td>\n",
       "      <td>0</td>\n",
       "      <td>185</td>\n",
       "      <td>0</td>\n",
       "      <td>NaN</td>\n",
       "      <td>NaN</td>\n",
       "      <td>NaN</td>\n",
       "      <td>0</td>\n",
       "      <td>7</td>\n",
       "      <td>2009</td>\n",
       "      <td>WD</td>\n",
       "    </tr>\n",
       "  </tbody>\n",
       "</table>\n",
       "<p>5 rows × 80 columns</p>\n",
       "</div>"
      ],
      "text/plain": [
       "     Id        PID  MS SubClass MS Zoning  Lot Frontage  Lot Area Street  \\\n",
       "0  2658  902301120          190        RM          69.0      9142   Pave   \n",
       "1  2718  905108090           90        RL           NaN      9662   Pave   \n",
       "2  2414  528218130           60        RL          58.0     17104   Pave   \n",
       "3  1989  902207150           30        RM          60.0      8520   Pave   \n",
       "4   625  535105100           20        RL           NaN      9500   Pave   \n",
       "\n",
       "  Alley Lot Shape Land Contour  ... 3Ssn Porch Screen Porch Pool Area Pool QC  \\\n",
       "0  Grvl       Reg          Lvl  ...          0            0         0     NaN   \n",
       "1   NaN       IR1          Lvl  ...          0            0         0     NaN   \n",
       "2   NaN       IR1          Lvl  ...          0            0         0     NaN   \n",
       "3   NaN       Reg          Lvl  ...          0            0         0     NaN   \n",
       "4   NaN       IR1          Lvl  ...          0          185         0     NaN   \n",
       "\n",
       "  Fence Misc Feature Misc Val Mo Sold  Yr Sold  Sale Type  \n",
       "0   NaN          NaN        0       4     2006        WD   \n",
       "1   NaN          NaN        0       8     2006        WD   \n",
       "2   NaN          NaN        0       9     2006        New  \n",
       "3   NaN          NaN        0       7     2007        WD   \n",
       "4   NaN          NaN        0       7     2009        WD   \n",
       "\n",
       "[5 rows x 80 columns]"
      ]
     },
     "execution_count": 5,
     "metadata": {},
     "output_type": "execute_result"
    }
   ],
   "source": [
    "df.head()"
   ]
  },
  {
   "cell_type": "code",
   "execution_count": 6,
   "id": "6d935445",
   "metadata": {},
   "outputs": [
    {
     "data": {
      "text/html": [
       "<div>\n",
       "<style scoped>\n",
       "    .dataframe tbody tr th:only-of-type {\n",
       "        vertical-align: middle;\n",
       "    }\n",
       "\n",
       "    .dataframe tbody tr th {\n",
       "        vertical-align: top;\n",
       "    }\n",
       "\n",
       "    .dataframe thead th {\n",
       "        text-align: right;\n",
       "    }\n",
       "</style>\n",
       "<table border=\"1\" class=\"dataframe\">\n",
       "  <thead>\n",
       "    <tr style=\"text-align: right;\">\n",
       "      <th></th>\n",
       "      <th>Lot Frontage</th>\n",
       "      <th>Lot Area</th>\n",
       "      <th>Overall Qual</th>\n",
       "      <th>Overall Cond</th>\n",
       "      <th>Year Built</th>\n",
       "      <th>Year Remod/Add</th>\n",
       "      <th>Mas Vnr Area</th>\n",
       "      <th>Total Bsmt SF</th>\n",
       "      <th>1st Flr SF</th>\n",
       "      <th>2nd Flr SF</th>\n",
       "      <th>...</th>\n",
       "      <th>Attached or BuiltIn Garage</th>\n",
       "      <th>Finished Garage</th>\n",
       "      <th>Fully Paved Drive</th>\n",
       "      <th>New Sale</th>\n",
       "      <th>Has Alley Access</th>\n",
       "      <th>Total SF</th>\n",
       "      <th>1.5P Gr Liv Area</th>\n",
       "      <th>1.5P Total SF</th>\n",
       "      <th>P3 Overall Qual</th>\n",
       "      <th>SalePrice</th>\n",
       "    </tr>\n",
       "  </thead>\n",
       "  <tbody>\n",
       "    <tr>\n",
       "      <th>0</th>\n",
       "      <td>0.0</td>\n",
       "      <td>13517</td>\n",
       "      <td>6</td>\n",
       "      <td>8</td>\n",
       "      <td>1976</td>\n",
       "      <td>2005</td>\n",
       "      <td>289.0</td>\n",
       "      <td>725.0</td>\n",
       "      <td>725</td>\n",
       "      <td>754</td>\n",
       "      <td>...</td>\n",
       "      <td>1</td>\n",
       "      <td>1</td>\n",
       "      <td>1</td>\n",
       "      <td>0</td>\n",
       "      <td>0</td>\n",
       "      <td>2204.0</td>\n",
       "      <td>56879.040419</td>\n",
       "      <td>103470.699543</td>\n",
       "      <td>216</td>\n",
       "      <td>130500</td>\n",
       "    </tr>\n",
       "    <tr>\n",
       "      <th>1</th>\n",
       "      <td>43.0</td>\n",
       "      <td>11492</td>\n",
       "      <td>7</td>\n",
       "      <td>5</td>\n",
       "      <td>1996</td>\n",
       "      <td>1997</td>\n",
       "      <td>132.0</td>\n",
       "      <td>913.0</td>\n",
       "      <td>913</td>\n",
       "      <td>1209</td>\n",
       "      <td>...</td>\n",
       "      <td>1</td>\n",
       "      <td>1</td>\n",
       "      <td>1</td>\n",
       "      <td>0</td>\n",
       "      <td>0</td>\n",
       "      <td>3035.0</td>\n",
       "      <td>97750.293340</td>\n",
       "      <td>167200.681443</td>\n",
       "      <td>343</td>\n",
       "      <td>220000</td>\n",
       "    </tr>\n",
       "    <tr>\n",
       "      <th>2</th>\n",
       "      <td>68.0</td>\n",
       "      <td>7922</td>\n",
       "      <td>5</td>\n",
       "      <td>7</td>\n",
       "      <td>1953</td>\n",
       "      <td>2007</td>\n",
       "      <td>0.0</td>\n",
       "      <td>1057.0</td>\n",
       "      <td>1057</td>\n",
       "      <td>0</td>\n",
       "      <td>...</td>\n",
       "      <td>0</td>\n",
       "      <td>0</td>\n",
       "      <td>1</td>\n",
       "      <td>0</td>\n",
       "      <td>0</td>\n",
       "      <td>2114.0</td>\n",
       "      <td>34364.693990</td>\n",
       "      <td>97198.032614</td>\n",
       "      <td>125</td>\n",
       "      <td>109000</td>\n",
       "    </tr>\n",
       "    <tr>\n",
       "      <th>3</th>\n",
       "      <td>73.0</td>\n",
       "      <td>9802</td>\n",
       "      <td>5</td>\n",
       "      <td>5</td>\n",
       "      <td>2006</td>\n",
       "      <td>2007</td>\n",
       "      <td>0.0</td>\n",
       "      <td>384.0</td>\n",
       "      <td>744</td>\n",
       "      <td>700</td>\n",
       "      <td>...</td>\n",
       "      <td>1</td>\n",
       "      <td>1</td>\n",
       "      <td>1</td>\n",
       "      <td>0</td>\n",
       "      <td>0</td>\n",
       "      <td>1828.0</td>\n",
       "      <td>54872.000000</td>\n",
       "      <td>78156.353241</td>\n",
       "      <td>125</td>\n",
       "      <td>174000</td>\n",
       "    </tr>\n",
       "    <tr>\n",
       "      <th>4</th>\n",
       "      <td>82.0</td>\n",
       "      <td>14235</td>\n",
       "      <td>6</td>\n",
       "      <td>8</td>\n",
       "      <td>1900</td>\n",
       "      <td>1993</td>\n",
       "      <td>0.0</td>\n",
       "      <td>676.0</td>\n",
       "      <td>831</td>\n",
       "      <td>614</td>\n",
       "      <td>...</td>\n",
       "      <td>0</td>\n",
       "      <td>0</td>\n",
       "      <td>0</td>\n",
       "      <td>0</td>\n",
       "      <td>0</td>\n",
       "      <td>2121.0</td>\n",
       "      <td>54929.009867</td>\n",
       "      <td>97681.203724</td>\n",
       "      <td>216</td>\n",
       "      <td>138500</td>\n",
       "    </tr>\n",
       "  </tbody>\n",
       "</table>\n",
       "<p>5 rows × 57 columns</p>\n",
       "</div>"
      ],
      "text/plain": [
       "   Lot Frontage  Lot Area  Overall Qual  Overall Cond  Year Built  \\\n",
       "0           0.0     13517             6             8        1976   \n",
       "1          43.0     11492             7             5        1996   \n",
       "2          68.0      7922             5             7        1953   \n",
       "3          73.0      9802             5             5        2006   \n",
       "4          82.0     14235             6             8        1900   \n",
       "\n",
       "   Year Remod/Add  Mas Vnr Area  Total Bsmt SF  1st Flr SF  2nd Flr SF  ...  \\\n",
       "0            2005         289.0          725.0         725         754  ...   \n",
       "1            1997         132.0          913.0         913        1209  ...   \n",
       "2            2007           0.0         1057.0        1057           0  ...   \n",
       "3            2007           0.0          384.0         744         700  ...   \n",
       "4            1993           0.0          676.0         831         614  ...   \n",
       "\n",
       "   Attached or BuiltIn Garage  Finished Garage  Fully Paved Drive  New Sale  \\\n",
       "0                           1                1                  1         0   \n",
       "1                           1                1                  1         0   \n",
       "2                           0                0                  1         0   \n",
       "3                           1                1                  1         0   \n",
       "4                           0                0                  0         0   \n",
       "\n",
       "   Has Alley Access  Total SF  1.5P Gr Liv Area  1.5P Total SF  \\\n",
       "0                 0    2204.0      56879.040419  103470.699543   \n",
       "1                 0    3035.0      97750.293340  167200.681443   \n",
       "2                 0    2114.0      34364.693990   97198.032614   \n",
       "3                 0    1828.0      54872.000000   78156.353241   \n",
       "4                 0    2121.0      54929.009867   97681.203724   \n",
       "\n",
       "   P3 Overall Qual  SalePrice  \n",
       "0              216     130500  \n",
       "1              343     220000  \n",
       "2              125     109000  \n",
       "3              125     174000  \n",
       "4              216     138500  \n",
       "\n",
       "[5 rows x 57 columns]"
      ]
     },
     "execution_count": 6,
     "metadata": {},
     "output_type": "execute_result"
    }
   ],
   "source": [
    "df_train_processed.head()"
   ]
  },
  {
   "cell_type": "code",
   "execution_count": 7,
   "id": "1f1e16ac",
   "metadata": {},
   "outputs": [
    {
     "data": {
      "text/plain": [
       "Id                0\n",
       "PID               0\n",
       "MS SubClass       0\n",
       "MS Zoning         0\n",
       "Lot Frontage    160\n",
       "               ... \n",
       "Misc Feature    838\n",
       "Misc Val          0\n",
       "Mo Sold           0\n",
       "Yr Sold           0\n",
       "Sale Type         0\n",
       "Length: 80, dtype: int64"
      ]
     },
     "execution_count": 7,
     "metadata": {},
     "output_type": "execute_result"
    }
   ],
   "source": [
    "df.isna().sum()"
   ]
  },
  {
   "cell_type": "code",
   "execution_count": 8,
   "id": "8cb6c98f",
   "metadata": {
    "scrolled": true
   },
   "outputs": [
    {
     "data": {
      "text/plain": [
       "0"
      ]
     },
     "execution_count": 8,
     "metadata": {},
     "output_type": "execute_result"
    }
   ],
   "source": [
    "df_train_processed.isna().sum().sum()"
   ]
  },
  {
   "cell_type": "code",
   "execution_count": 9,
   "id": "5d03dc78",
   "metadata": {},
   "outputs": [
    {
     "data": {
      "text/plain": [
       "(879, 80)"
      ]
     },
     "execution_count": 9,
     "metadata": {},
     "output_type": "execute_result"
    }
   ],
   "source": [
    "raw_df_shape = df.shape\n",
    "raw_df_shape"
   ]
  },
  {
   "cell_type": "markdown",
   "id": "c66647bf",
   "metadata": {},
   "source": [
    "### Organised Variables"
   ]
  },
  {
   "cell_type": "code",
   "execution_count": 10,
   "id": "7b627501",
   "metadata": {},
   "outputs": [],
   "source": [
    "# variables dropped at first cut in Notebook 1\n",
    "# the only difference is that 'Id' must be preserved for the test set\n",
    "first_dropped_vars = {'Bldg Type',\n",
    " 'Bsmt Cond',\n",
    " 'Bsmt Exposure',\n",
    " 'Bsmt Qual',\n",
    " 'BsmtFin SF 1',\n",
    " 'BsmtFin SF 2',\n",
    " 'BsmtFin Type 1',\n",
    " 'BsmtFin Type 2',\n",
    " 'Condition 1',\n",
    " 'Condition 2',\n",
    " 'Electrical',\n",
    " 'Exter Cond',\n",
    " 'Exterior 1st',\n",
    " 'Exterior 2nd',\n",
    " 'Fence',\n",
    " 'Functional',\n",
    " 'Garage Cond',\n",
    " 'Garage Qual',\n",
    " 'Garage Yr Blt',\n",
    " 'Heating',\n",
    " 'Land Slope',\n",
    " 'MS SubClass',\n",
    " 'Misc Feature',\n",
    " 'Pool QC',\n",
    " 'Roof Matl',\n",
    " 'Street',\n",
    " 'Utilities'}"
   ]
  },
  {
   "cell_type": "code",
   "execution_count": 11,
   "id": "72b03adf",
   "metadata": {},
   "outputs": [],
   "source": [
    "NH_dict = {'GrnHill': ['GrnHill'],\n",
    " 'NH1': ['IDOTRR', 'MeadowV'],\n",
    " 'NH2': ['Blueste',\n",
    "  'BrDale',\n",
    "  'BrkSide',\n",
    "  'ClearCr',\n",
    "  'CollgCr',\n",
    "  'Crawfor',\n",
    "  'Edwards',\n",
    "  'Gilbert',\n",
    "  'Landmrk',\n",
    "  'Mitchel',\n",
    "  'NAmes',\n",
    "  'NPkVill',\n",
    "  'NWAmes',\n",
    "  'OldTown',\n",
    "  'SWISU',\n",
    "  'Sawyer',\n",
    "  'SawyerW'],\n",
    " 'NH3': ['Blmngtn', 'Somerst', 'Timber', 'Veenker'],\n",
    " 'NH4': ['Greens', 'NoRidge', 'NridgHt', 'StoneBr']}"
   ]
  },
  {
   "cell_type": "markdown",
   "id": "a02df545",
   "metadata": {},
   "source": [
    "### Utility Functions"
   ]
  },
  {
   "cell_type": "code",
   "execution_count": 12,
   "id": "b55da974",
   "metadata": {},
   "outputs": [],
   "source": [
    "def binarise(df, input_col, positive_class, drop_col=True):\n",
    "    \"\"\"\n",
    "    Converts a categorical variable to a binary variable in a new column.\n",
    "    The positive_class specified will be the positive label and mapped to 1.\n",
    "    The values otehr than the positive_class will be and mapped to 0.\n",
    "    If drop_col is True, the input column is dropped.\n",
    "    \"\"\"\n",
    "    output_col = df[input_col].map(lambda x: 1 if x==positive_class else 0)\n",
    "    if drop_col == True:\n",
    "        df.drop(columns=input_col, inplace=True)\n",
    "    return output_col"
   ]
  },
  {
   "cell_type": "code",
   "execution_count": 13,
   "id": "32ca5b25",
   "metadata": {},
   "outputs": [],
   "source": [
    "# create function to easily check last cols of df for correct data transformation\n",
    "# ensures new column of interest was properly added to the dataframe \n",
    "\n",
    "def lnc(df, n=3):\n",
    "    \"\"\"\n",
    "    Returns last n columns and first 2 rows of data frame.\n",
    "    \"\"\"\n",
    "    return df.iloc[:,-n:].head(2)"
   ]
  },
  {
   "cell_type": "markdown",
   "id": "fdbe1251",
   "metadata": {},
   "source": [
    "## Drop Variables from First Cut"
   ]
  },
  {
   "cell_type": "code",
   "execution_count": 14,
   "id": "2b0e2e36",
   "metadata": {},
   "outputs": [],
   "source": [
    "df.drop(columns=first_dropped_vars, inplace=True)"
   ]
  },
  {
   "cell_type": "code",
   "execution_count": 15,
   "id": "ee2e781a",
   "metadata": {},
   "outputs": [
    {
     "data": {
      "text/plain": [
       "53"
      ]
     },
     "execution_count": 15,
     "metadata": {},
     "output_type": "execute_result"
    }
   ],
   "source": [
    "df.shape[1]"
   ]
  },
  {
   "cell_type": "markdown",
   "id": "dcdb0223",
   "metadata": {},
   "source": [
    "## Impute Missing Values"
   ]
  },
  {
   "cell_type": "markdown",
   "id": "57c630fc",
   "metadata": {},
   "source": [
    "Impute Approach from [Notebook 1](01_EDA_and_Cleaning.ipynb)\n",
    "\n",
    "<details>\n",
    "    <summary>Table of Imputation Approaches</summary>\n",
    "    \n",
    "| Variable | missing amount (train data) | plausible reason for missing | how to handle missing|\n",
    "|:-------------------|:---------------------|:-------------------------------|:---------------|\n",
    "| Lot Frontage|330| no street connected|0|\n",
    "|Alley|1911|no alley access|'No Access', later encoded |\n",
    "|Mas Vnr Type|22| no Mas Vnr | 'No Vnr', later encoded |\n",
    "|Mas Vnr Area|22| no Mas Vnr so area is 0|0|\n",
    "|Bsmt Unf SF |1|no basement |0|\n",
    "|Total Bsmt SF|1|no basement |0|\n",
    "|Bsmt Full Bath|2|no basement bath |0|\n",
    "|Bsmt Half Bath|2|no basement bath |0|\n",
    "|Fireplace Qu |1000|no fireplace |'No Fireplace', later encoded|\n",
    "|Garage Type|113|no garage |'No Garage', later encoded|\n",
    "|Garage Finish|114|no garage |'No Garage', later encoded|\n",
    "|Garage Cars|1|no garage |0|\n",
    "|Garage Area|1|no garage |0|\n",
    "    \n",
    "</details>"
   ]
  },
  {
   "cell_type": "code",
   "execution_count": 16,
   "id": "31dfd870",
   "metadata": {},
   "outputs": [],
   "source": [
    "# cols to impute missing with 0\n",
    "impute_0_lst = ['Lot Frontage', 'Mas Vnr Area', \n",
    "            'Bsmt Unf SF', 'Total Bsmt SF', 'Bsmt Full Bath', 'Bsmt Half Bath',\n",
    "           'Garage Cars', 'Garage Area']"
   ]
  },
  {
   "cell_type": "code",
   "execution_count": 17,
   "id": "0533cdab",
   "metadata": {},
   "outputs": [],
   "source": [
    "impute_0 = dict(zip(impute_0_lst,np.zeros(len(impute_0_lst))))"
   ]
  },
  {
   "cell_type": "code",
   "execution_count": 18,
   "id": "a71197eb",
   "metadata": {},
   "outputs": [],
   "source": [
    "df.fillna(value=impute_0, inplace=True)"
   ]
  },
  {
   "cell_type": "code",
   "execution_count": 19,
   "id": "6a4f561f",
   "metadata": {},
   "outputs": [],
   "source": [
    "# cols to impute missing with string\n",
    "impute_str = {\n",
    "    'Alley': 'No Access',\n",
    "    'Mas Vnr Type': 'No Vnr',\n",
    "    'Fireplace Qu': 'No Fireplace',\n",
    "    'Garage Type': 'No Garage',\n",
    "    'Garage Finish': 'No Garage'    \n",
    "}"
   ]
  },
  {
   "cell_type": "code",
   "execution_count": 20,
   "id": "44e86af8",
   "metadata": {},
   "outputs": [],
   "source": [
    "df.fillna(value=impute_str, inplace=True)"
   ]
  },
  {
   "cell_type": "code",
   "execution_count": 21,
   "id": "ad2b1ac6",
   "metadata": {},
   "outputs": [
    {
     "data": {
      "text/plain": [
       "0"
      ]
     },
     "execution_count": 21,
     "metadata": {},
     "output_type": "execute_result"
    }
   ],
   "source": [
    "df.isna().sum().sum()"
   ]
  },
  {
   "cell_type": "markdown",
   "id": "230a9c02",
   "metadata": {},
   "source": [
    "## Feature Encoding and Transformation"
   ]
  },
  {
   "cell_type": "markdown",
   "id": "bfe4c3a0",
   "metadata": {},
   "source": [
    "For refersher, seedrop down list below and observations while doing EDA in [Notebook 01]('01_EDA_and_Cleaning.ipynb')."
   ]
  },
  {
   "cell_type": "markdown",
   "id": "c075e5b8",
   "metadata": {},
   "source": [
    "<details>\n",
    "    <summary>List of Features to Handle</summary>\n",
    "    \n",
    "    0. PID should be converted to a binary variable that represents the two groups, PID starting with 5 and PID starting with 9.\n",
    "\n",
    "    1. Consolidate these basement variables:\n",
    "    - BsmtFinSF1: Type 1 finished square feet\n",
    "    - BsmtFinType2: Quality of second finished area (if present)\n",
    "    - BsmtFinSF2: Type 2 finished square feet\n",
    "    - BsmtUnfSF: Unfinished square feet of basement area\n",
    "\n",
    "        Use TotalBsmtSF\n",
    "\n",
    "    2. Consolidate these bathroom variables:\n",
    "    - 'Bsmt Full Bath'\n",
    "    - 'Bsmt Half Bath'\n",
    "    - 'Full Bath' (full baths above ground)\n",
    "    - 'Half Bath' (half baths above ground)\n",
    "\n",
    "        Make new feature of total bathrooms.\n",
    "\n",
    "\n",
    "    3. Garage year seems useless, garage cars and garage area can be consolidated\n",
    "\n",
    "\n",
    "    4. For MS Zoning, consider converting to binary of FV and the rest.\n",
    "\n",
    "\n",
    "    5. For Lot Shape, convert to binary of regular vs the rest/irregular.\n",
    "\n",
    "\n",
    "    6. For Land Contour, convert to binary to HLS (on a hill) and the rest.\n",
    "\n",
    "\n",
    "    7. For Lot Config, convert to CulDSac and the rest.\n",
    "\n",
    "\n",
    "    8. Neighborhoods will need to be remapped to more sensible buckets of categories.\n",
    "\n",
    "\n",
    "    9. Convert House Style to binary between 1 Floor and the rest.\n",
    "\n",
    "\n",
    "    10. Convert Roof Style to binary between Hip and the rest.\n",
    "\n",
    "\n",
    "    11. Convert Mas Vnr Type to Stone Vnr, Vnr (including Stone, basically not 'None') and None (just cols for first two).\n",
    "\n",
    "\n",
    "    12. Convert Exter Qual to scale of 0-2, 0 for Fa/Po, 1 for TA, 2 for Gd/Ex.\n",
    "\n",
    "\n",
    "    13. Convert Foundation to binary between PConc and the rest.\n",
    "\n",
    "\n",
    "    14. Convert Central Air Yes/No to 1/0. \n",
    "\n",
    "\n",
    "    15. Convert Heating QC to Excellent and the rest.\n",
    "\n",
    "\n",
    "    16. Convert Kitchen Qual to 0-2, Ex(2), Gd(1), everything else (0).\n",
    "\n",
    "\n",
    "    17. Convert Fireplace Qual to 0-2, Ex(2), Gd(1), everything else (0).\n",
    "\n",
    "\n",
    "    18. Convert Garage Type to Built-In/Attached and everything else.\n",
    "\n",
    "\n",
    "    19. Convert Garage Finish to Finished (Fin & Rfn) and everthing else (Unf & None).\n",
    "\n",
    "\n",
    "    20. Convert Paved Drive to Paved (1) for Y and 0 for everthing else.\n",
    "\n",
    "\n",
    "    21. Convert 'Sale Type' to 'New Sale' (1) and everthing else (0).\n",
    "    \n",
    "    22. Convert Alley to No access (0) and everthing else (essentiall has alley access).\n",
    "    \n",
    "</details>"
   ]
  },
  {
   "cell_type": "markdown",
   "id": "1f2835ec",
   "metadata": {},
   "source": [
    "#### Encoding PID\n",
    "\n",
    "PID should be converted to a binary variable that represents the two groups, PID starting with 5 and PID starting with 9."
   ]
  },
  {
   "cell_type": "code",
   "execution_count": 22,
   "id": "2d6de7f3",
   "metadata": {},
   "outputs": [],
   "source": [
    "# PID only has values starting with 5 or 9\n",
    "df['PID 9'] = df['PID'].map(lambda x: 1 if str(x).startswith('9') else 0)"
   ]
  },
  {
   "cell_type": "code",
   "execution_count": 23,
   "id": "4b3b806b",
   "metadata": {},
   "outputs": [
    {
     "data": {
      "text/plain": [
       "0    0.50967\n",
       "1    0.49033\n",
       "Name: PID 9, dtype: float64"
      ]
     },
     "execution_count": 23,
     "metadata": {},
     "output_type": "execute_result"
    }
   ],
   "source": [
    "df['PID 9'].value_counts(normalize=True)"
   ]
  },
  {
   "cell_type": "code",
   "execution_count": 24,
   "id": "04c4dbb6",
   "metadata": {},
   "outputs": [],
   "source": [
    "df.drop(columns='PID', inplace=True)"
   ]
  },
  {
   "cell_type": "markdown",
   "id": "c20ea820",
   "metadata": {},
   "source": [
    "#### Consolidate Basement Variables"
   ]
  },
  {
   "cell_type": "code",
   "execution_count": 25,
   "id": "c1afcdc9",
   "metadata": {},
   "outputs": [],
   "source": [
    "df.drop(columns='Bsmt Unf SF', inplace=True)"
   ]
  },
  {
   "cell_type": "markdown",
   "id": "8d78a281",
   "metadata": {},
   "source": [
    "#### Consolidate Bathroom Variables\n",
    "- 'Bsmt Full Bath'\n",
    "- 'Bsmt Half Bath'\n",
    "- 'Full Bath' (full baths above ground)\n",
    "- 'Half Bath' (half baths above ground)\n",
    "\n",
    "    Make new feature of total bathrooms."
   ]
  },
  {
   "cell_type": "code",
   "execution_count": 26,
   "id": "39ab5367",
   "metadata": {},
   "outputs": [],
   "source": [
    "df['Bath Log'] = np.log(df['Full Bath'] \n",
    "                        + df['Half Bath'] * 0.5 \n",
    "                        + df['Bsmt Full Bath'] * 0.5 \n",
    "                        + df['Bsmt Half Bath'] * 0.25)"
   ]
  },
  {
   "cell_type": "code",
   "execution_count": 27,
   "id": "cc72e754",
   "metadata": {},
   "outputs": [],
   "source": [
    "df.drop(columns=['Full Bath', 'Half Bath', 'Bsmt Full Bath', 'Bsmt Half Bath'], inplace=True)"
   ]
  },
  {
   "cell_type": "markdown",
   "id": "11dabf0a",
   "metadata": {},
   "source": [
    "#### Consolidate Garage Area Variables\n",
    "\n",
    "Garage cars and garage area can be consolidated as they represent very similar information."
   ]
  },
  {
   "cell_type": "code",
   "execution_count": 28,
   "id": "7d725548",
   "metadata": {},
   "outputs": [],
   "source": [
    "df.drop(columns='Garage Cars', inplace=True)"
   ]
  },
  {
   "cell_type": "markdown",
   "id": "a7ec2813",
   "metadata": {},
   "source": [
    "Garage Cars and Garage Area seem to be covering the same information. Garage Cars will be dropped, Garage Area remaining as it is more correlated with the target variable, and it makese sense that someone interested in buying a house would think more about the garage space rather than how many cars it can hold. A garage that holds two cars can vary in size, with the larger one being more desirable."
   ]
  },
  {
   "cell_type": "markdown",
   "id": "0f44a834",
   "metadata": {},
   "source": [
    "#### Encode MS Zoning\n",
    "Convert to binary variable of FV and the rest."
   ]
  },
  {
   "cell_type": "code",
   "execution_count": 29,
   "id": "6cf17ad2",
   "metadata": {},
   "outputs": [],
   "source": [
    "df['Floating Village'] = binarise(df, 'MS Zoning', 'FV')"
   ]
  },
  {
   "cell_type": "markdown",
   "id": "c0e8348a",
   "metadata": {},
   "source": [
    "#### Encode Lot Shape\n",
    "Convert to binary of regular vs the rest/irregular."
   ]
  },
  {
   "cell_type": "code",
   "execution_count": 30,
   "id": "018420d8",
   "metadata": {},
   "outputs": [],
   "source": [
    "df['Regular Lot Shape'] = binarise(df, 'Lot Shape', 'Reg')"
   ]
  },
  {
   "cell_type": "markdown",
   "id": "133522ce",
   "metadata": {},
   "source": [
    "#### Encode Land Contour\n",
    "Convert to binary to HLS (on a hill) and the rest."
   ]
  },
  {
   "cell_type": "code",
   "execution_count": 31,
   "id": "1993c106",
   "metadata": {},
   "outputs": [],
   "source": [
    "df['Hillside'] = binarise(df, 'Land Contour', 'HLS')"
   ]
  },
  {
   "cell_type": "markdown",
   "id": "7a112f3a",
   "metadata": {},
   "source": [
    "#### Encode Lot Config\n",
    "Convert to CulDSac and the rest. \n",
    "Apart from the observed trend of higher prices with this attribute, the reasoning is that a cul de sac may represent a more quiet and peaceful location, which is plausibly more desirable."
   ]
  },
  {
   "cell_type": "code",
   "execution_count": 32,
   "id": "36e415bf",
   "metadata": {},
   "outputs": [],
   "source": [
    "df['CulDSac'] = binarise(df, 'Lot Config', 'CulDSac')"
   ]
  },
  {
   "cell_type": "markdown",
   "id": "882d39fa",
   "metadata": {},
   "source": [
    "#### Encode Neighborhood\n",
    "Remap to identified classes of neighborhoods based on EDA. See NH_dict for mapping."
   ]
  },
  {
   "cell_type": "code",
   "execution_count": 33,
   "id": "a7a4e37f",
   "metadata": {},
   "outputs": [],
   "source": [
    "NH_map = {}\n",
    "for k,v in NH_dict.items():\n",
    "    for nh in v:\n",
    "        NH_map.update({nh:k})"
   ]
  },
  {
   "cell_type": "markdown",
   "id": "005c07d6",
   "metadata": {},
   "source": [
    "NH2 will be the residual class if a new neighborhood is detected in the test set."
   ]
  },
  {
   "cell_type": "code",
   "execution_count": 34,
   "id": "c88613d1",
   "metadata": {},
   "outputs": [],
   "source": [
    "def transform_NH(df, drop_input_col=True):\n",
    "    \"\"\"\n",
    "    Processes 'Neighborhood' (nh) column in dataframe.\n",
    "    First it maps the nh value to its category as specified in the NH_map\n",
    "    \"\"\"\n",
    "    # interim column to hold mapping before dummy creation\n",
    "    df['NH Class'] = df['Neighborhood'].map(NH_map)\n",
    "    # any neighborhood not mapped goes into NH2\n",
    "    df['NH Class'].fillna('NH2', inplace=True)\n",
    "    # create dummies\n",
    "    df = pd.get_dummies(df, columns=['NH Class'],\n",
    "                       prefix='', prefix_sep='')\n",
    "    if drop_input_col == True:\n",
    "        # drops original neighborhood column by default\n",
    "        df.drop(columns='Neighborhood', inplace=True)\n",
    "    return df"
   ]
  },
  {
   "cell_type": "markdown",
   "id": "4b4c3f14",
   "metadata": {},
   "source": [
    "Note we do not use drop_first=True for get_dummies because the test set does not have the GrnHill neighbourhood class, causing the NH1 column to be dropped if we set drop_first=True."
   ]
  },
  {
   "cell_type": "code",
   "execution_count": 35,
   "id": "acf2583a",
   "metadata": {
    "scrolled": true
   },
   "outputs": [],
   "source": [
    "df = transform_NH(df)"
   ]
  },
  {
   "cell_type": "markdown",
   "id": "9e5fd4b1",
   "metadata": {},
   "source": [
    "#### Encode House Style\n",
    "Binary between 1 Story and the rest."
   ]
  },
  {
   "cell_type": "code",
   "execution_count": 36,
   "id": "d63110a2",
   "metadata": {},
   "outputs": [],
   "source": [
    "df['1 Story'] = binarise(df, 'House Style', '1Story')"
   ]
  },
  {
   "cell_type": "markdown",
   "id": "728f7a61",
   "metadata": {},
   "source": [
    "#### Encode Roof Style\n",
    "Binary between Hip and the rest."
   ]
  },
  {
   "cell_type": "code",
   "execution_count": 37,
   "id": "235f927c",
   "metadata": {},
   "outputs": [],
   "source": [
    "df['Hip Roof'] = binarise(df, 'Roof Style', 'Hip')"
   ]
  },
  {
   "cell_type": "markdown",
   "id": "d86730b4",
   "metadata": {},
   "source": [
    "#### Encode Mas Vnr Type\n",
    "Convert to Stone Vnr, Vnr (including Stone, basically not 'None') and None.\n",
    "Just have cols for Stone Vnr (Stone Vnr) and Vnr (everything that is not 'None')."
   ]
  },
  {
   "cell_type": "code",
   "execution_count": 38,
   "id": "6fdcbc70",
   "metadata": {},
   "outputs": [],
   "source": [
    "df['Stone Vnr'] = binarise(df, 'Mas Vnr Type', 'Stone', drop_col=False)"
   ]
  },
  {
   "cell_type": "code",
   "execution_count": 39,
   "id": "d7d4c1be",
   "metadata": {},
   "outputs": [],
   "source": [
    "df['Has Vnr'] = df['Mas Vnr Type'].map(lambda x: 0 if x=='None' else 1)"
   ]
  },
  {
   "cell_type": "code",
   "execution_count": 40,
   "id": "8aed550c",
   "metadata": {},
   "outputs": [],
   "source": [
    "df.drop(columns='Mas Vnr Type', inplace=True)"
   ]
  },
  {
   "cell_type": "markdown",
   "id": "81bf3740",
   "metadata": {},
   "source": [
    "#### Encode Exter Qual \n",
    "Convert to scale of 0-2, \n",
    "Gd or Ex = 2,\n",
    "TA = 1,\n",
    "Fa or Po = 0"
   ]
  },
  {
   "cell_type": "code",
   "execution_count": 41,
   "id": "fa7ba90c",
   "metadata": {},
   "outputs": [],
   "source": [
    "df['Exter Qual Num'] = df['Exter Qual'].map({\n",
    "    'Gd':2,\n",
    "    'Ex':2,\n",
    "    'TA':1,\n",
    "    'Fa':0,\n",
    "    'Po':0\n",
    "})"
   ]
  },
  {
   "cell_type": "code",
   "execution_count": 42,
   "id": "951b6875",
   "metadata": {},
   "outputs": [],
   "source": [
    "df.drop(columns='Exter Qual', inplace=True)"
   ]
  },
  {
   "cell_type": "markdown",
   "id": "525681e5",
   "metadata": {},
   "source": [
    "#### Encode Foundation\n",
    "Binary between PConc and the rest."
   ]
  },
  {
   "cell_type": "code",
   "execution_count": 43,
   "id": "fa06dc25",
   "metadata": {},
   "outputs": [],
   "source": [
    "df['PConc Foundation'] = binarise(df, 'Foundation', 'PConc')"
   ]
  },
  {
   "cell_type": "markdown",
   "id": "5daf0a48",
   "metadata": {},
   "source": [
    "#### Encode Central Air \n",
    "Convert Yes/No to 1/0."
   ]
  },
  {
   "cell_type": "code",
   "execution_count": 44,
   "id": "895cb6ba",
   "metadata": {},
   "outputs": [],
   "source": [
    "df['Has Central Air'] = binarise(df, 'Central Air', 'Y')"
   ]
  },
  {
   "cell_type": "markdown",
   "id": "c5a3d798",
   "metadata": {},
   "source": [
    "#### Encode Heating QC\n",
    "Binary between Excellent and the rest."
   ]
  },
  {
   "cell_type": "code",
   "execution_count": 45,
   "id": "05ce0a5c",
   "metadata": {},
   "outputs": [],
   "source": [
    "df['Excellent Heating'] = binarise(df, 'Heating QC', 'Ex')"
   ]
  },
  {
   "cell_type": "markdown",
   "id": "1fd8b762",
   "metadata": {},
   "source": [
    "#### Encode Kitchen Quality\n",
    "Convert Kitchen Qual to scale of 0-2.\n",
    "Ex = 2, \n",
    "Gd = 1, \n",
    "everything else = 0"
   ]
  },
  {
   "cell_type": "code",
   "execution_count": 46,
   "id": "5c2bb224",
   "metadata": {},
   "outputs": [],
   "source": [
    "df['Kitchen Qual Num'] = df['Kitchen Qual'].map({\n",
    "    'Gd':1,\n",
    "    'Ex':2,\n",
    "    'TA':0,\n",
    "    'Fa':0,\n",
    "    'Po':0\n",
    "})"
   ]
  },
  {
   "cell_type": "code",
   "execution_count": 47,
   "id": "06dc2671",
   "metadata": {},
   "outputs": [],
   "source": [
    "df.drop(columns='Kitchen Qual', inplace=True)"
   ]
  },
  {
   "cell_type": "markdown",
   "id": "81803f34",
   "metadata": {},
   "source": [
    "#### Encode Fireplace Quality\n",
    "Convert Fireplace Qu to scale of 0-2.\n",
    "Ex = 2, \n",
    "Gd = 1, \n",
    "everything else = 0"
   ]
  },
  {
   "cell_type": "code",
   "execution_count": 48,
   "id": "6351cebf",
   "metadata": {},
   "outputs": [],
   "source": [
    "df['Fireplace Qu Num'] = df['Fireplace Qu'].map({\n",
    "    'Gd':1,\n",
    "    'Ex':2,\n",
    "    'TA':0,\n",
    "    'Fa':0,\n",
    "    'Po':0,\n",
    "    'No Fireplace':0\n",
    "})"
   ]
  },
  {
   "cell_type": "code",
   "execution_count": 49,
   "id": "4cc8c0c3",
   "metadata": {},
   "outputs": [],
   "source": [
    "df.drop(columns='Fireplace Qu', inplace=True)"
   ]
  },
  {
   "cell_type": "markdown",
   "id": "c4685070",
   "metadata": {},
   "source": [
    "#### Encode Garage Type\n",
    "Binary of Built-In/Attached and everything else."
   ]
  },
  {
   "cell_type": "code",
   "execution_count": 50,
   "id": "f779736a",
   "metadata": {},
   "outputs": [],
   "source": [
    "df['Attached or BuiltIn Garage'] = df['Garage Type'].map(lambda x: 1 if x=='Attchd' or x=='BuiltIn' else 0)"
   ]
  },
  {
   "cell_type": "code",
   "execution_count": 51,
   "id": "d63df361",
   "metadata": {},
   "outputs": [],
   "source": [
    "df.drop(columns='Garage Type', inplace=True)"
   ]
  },
  {
   "cell_type": "markdown",
   "id": "96a26ffa",
   "metadata": {},
   "source": [
    "#### Encode Garage Finish\n",
    "Binary of Finished (Fin & RFn) and everthing else (Unf & No Garage)."
   ]
  },
  {
   "cell_type": "code",
   "execution_count": 52,
   "id": "6462df91",
   "metadata": {},
   "outputs": [],
   "source": [
    "df['Finished Garage'] = df['Garage Finish'].map(lambda x: 1 if x in ['Fin', 'RFn'] else 0)"
   ]
  },
  {
   "cell_type": "code",
   "execution_count": 53,
   "id": "75111d7c",
   "metadata": {},
   "outputs": [],
   "source": [
    "df.drop(columns='Garage Finish', inplace=True)"
   ]
  },
  {
   "cell_type": "markdown",
   "id": "8ed53ea2",
   "metadata": {},
   "source": [
    "#### Encode Paved Drive\n",
    "Binary of 1 for Y (Paved) and 0 for everthing else ('N' and 'P' which stands for partial)."
   ]
  },
  {
   "cell_type": "code",
   "execution_count": 54,
   "id": "56a085d0",
   "metadata": {},
   "outputs": [],
   "source": [
    "df['Fully Paved Drive'] = binarise(df, 'Paved Drive', 'Y')"
   ]
  },
  {
   "cell_type": "markdown",
   "id": "5e086ba8",
   "metadata": {},
   "source": [
    "#### Encode 'Sale Type' \n",
    "Binary of 1 for 'New Sale' 0 for everthing else."
   ]
  },
  {
   "cell_type": "code",
   "execution_count": 55,
   "id": "1506e305",
   "metadata": {},
   "outputs": [],
   "source": [
    "df['New Sale'] = binarise(df, 'Sale Type', 'New')"
   ]
  },
  {
   "cell_type": "markdown",
   "id": "425d6b15",
   "metadata": {},
   "source": [
    "#### Encode Alley"
   ]
  },
  {
   "cell_type": "code",
   "execution_count": 56,
   "id": "d185dbf8",
   "metadata": {},
   "outputs": [],
   "source": [
    "df['Has Alley Access'] = df['Alley'].map(lambda x: 0 if x=='No Access' else 1)"
   ]
  },
  {
   "cell_type": "code",
   "execution_count": 57,
   "id": "3863cddd",
   "metadata": {},
   "outputs": [],
   "source": [
    "df.drop(columns='Alley', inplace=True)"
   ]
  },
  {
   "cell_type": "markdown",
   "id": "548dbc3f",
   "metadata": {},
   "source": [
    "## Consider Applying Functions to Transform Numerical Variables"
   ]
  },
  {
   "cell_type": "markdown",
   "id": "493c6aa4",
   "metadata": {},
   "source": [
    "#### Create Total SF Feature\n",
    "Adding above grade area and basement area."
   ]
  },
  {
   "cell_type": "code",
   "execution_count": 58,
   "id": "d18a5d15",
   "metadata": {},
   "outputs": [],
   "source": [
    "df['Total SF'] = df['Gr Liv Area'] + df['Total Bsmt SF']"
   ]
  },
  {
   "cell_type": "markdown",
   "id": "6e1ae695",
   "metadata": {},
   "source": [
    "#### Create power feature for 'Gr Liv Area' and for 'Total SF'"
   ]
  },
  {
   "cell_type": "code",
   "execution_count": 59,
   "id": "e61fef58",
   "metadata": {},
   "outputs": [],
   "source": [
    "df['1.5P Gr Liv Area']  = df['Gr Liv Area'] ** 1.5"
   ]
  },
  {
   "cell_type": "code",
   "execution_count": 60,
   "id": "ae77fee9",
   "metadata": {},
   "outputs": [],
   "source": [
    "df['1.5P Total SF']  = df['Total SF'] ** 1.5"
   ]
  },
  {
   "cell_type": "markdown",
   "id": "308d00cb",
   "metadata": {},
   "source": [
    "#### Create squared feature for 'Year Built'"
   ]
  },
  {
   "cell_type": "markdown",
   "id": "a0a45a69",
   "metadata": {},
   "source": [
    "Squaring the feature does not seem to have an effect on establishing a better fit to the target.\n",
    "What can be observed is that about after the year 2000, there is a wider spread of prices. Likely due to there being much more recorded data in later years than earlier years."
   ]
  },
  {
   "cell_type": "code",
   "execution_count": 61,
   "id": "2db1a50f",
   "metadata": {},
   "outputs": [],
   "source": [
    "df['After 1999'] = df['Year Built'].map(lambda x: 1 if x >= 2000 else 0)"
   ]
  },
  {
   "cell_type": "markdown",
   "id": "6ebf80c8",
   "metadata": {},
   "source": [
    "#### Create cube feature for 'Overall Qual'"
   ]
  },
  {
   "cell_type": "code",
   "execution_count": 62,
   "id": "39f39841",
   "metadata": {},
   "outputs": [],
   "source": [
    "df['P3 Overall Qual'] = df['Overall Qual'] ** 3"
   ]
  },
  {
   "cell_type": "markdown",
   "id": "f4f675a4",
   "metadata": {},
   "source": [
    "## Check Data"
   ]
  },
  {
   "cell_type": "code",
   "execution_count": 63,
   "id": "fcc50c71",
   "metadata": {},
   "outputs": [
    {
     "data": {
      "text/plain": [
       "(879, 57)"
      ]
     },
     "execution_count": 63,
     "metadata": {},
     "output_type": "execute_result"
    }
   ],
   "source": [
    "df.shape"
   ]
  },
  {
   "cell_type": "code",
   "execution_count": 64,
   "id": "8183ab17",
   "metadata": {},
   "outputs": [
    {
     "data": {
      "text/plain": [
       "(879, 80)"
      ]
     },
     "execution_count": 64,
     "metadata": {},
     "output_type": "execute_result"
    }
   ],
   "source": [
    "raw_df_shape"
   ]
  },
  {
   "cell_type": "code",
   "execution_count": 65,
   "id": "c1ed2d6d",
   "metadata": {},
   "outputs": [
    {
     "data": {
      "text/plain": [
       "(2049, 57)"
      ]
     },
     "execution_count": 65,
     "metadata": {},
     "output_type": "execute_result"
    }
   ],
   "source": [
    "df_train_processed.shape"
   ]
  },
  {
   "cell_type": "markdown",
   "id": "cc8251e1",
   "metadata": {},
   "source": [
    "Check for columns that are in the processed test set not in the processed trained set. Should only see 'Id'."
   ]
  },
  {
   "cell_type": "code",
   "execution_count": 66,
   "id": "5bd6277f",
   "metadata": {
    "scrolled": true
   },
   "outputs": [
    {
     "data": {
      "text/plain": [
       "{'Id'}"
      ]
     },
     "execution_count": 66,
     "metadata": {},
     "output_type": "execute_result"
    }
   ],
   "source": [
    "set(df.columns).difference(set(df_train_processed.columns))"
   ]
  },
  {
   "cell_type": "markdown",
   "id": "14bdf914",
   "metadata": {},
   "source": [
    "Check for columns that are in the processed train set not in the processed test set."
   ]
  },
  {
   "cell_type": "code",
   "execution_count": 67,
   "id": "f646d113",
   "metadata": {},
   "outputs": [
    {
     "data": {
      "text/plain": [
       "{'SalePrice'}"
      ]
     },
     "execution_count": 67,
     "metadata": {},
     "output_type": "execute_result"
    }
   ],
   "source": [
    "set(df_train_processed.columns).difference(set(df.columns))"
   ]
  },
  {
   "cell_type": "markdown",
   "id": "05601077",
   "metadata": {},
   "source": [
    "Correct. Expect to see SalePrice as a difference because test set has no SalePrice."
   ]
  },
  {
   "cell_type": "code",
   "execution_count": 68,
   "id": "4d0e7996",
   "metadata": {},
   "outputs": [
    {
     "data": {
      "text/plain": [
       "0"
      ]
     },
     "execution_count": 68,
     "metadata": {},
     "output_type": "execute_result"
    }
   ],
   "source": [
    "df.isna().sum().sum()"
   ]
  },
  {
   "cell_type": "code",
   "execution_count": 69,
   "id": "f885ec73",
   "metadata": {},
   "outputs": [
    {
     "data": {
      "text/plain": [
       "array([dtype('int64'), dtype('float64'), dtype('uint8')], dtype=object)"
      ]
     },
     "execution_count": 69,
     "metadata": {},
     "output_type": "execute_result"
    }
   ],
   "source": [
    "df.dtypes.unique()"
   ]
  },
  {
   "cell_type": "markdown",
   "id": "668bdbfb",
   "metadata": {},
   "source": [
    "## Save Data"
   ]
  },
  {
   "cell_type": "code",
   "execution_count": 70,
   "id": "a4e667f3",
   "metadata": {},
   "outputs": [
    {
     "data": {
      "text/html": [
       "<div>\n",
       "<style scoped>\n",
       "    .dataframe tbody tr th:only-of-type {\n",
       "        vertical-align: middle;\n",
       "    }\n",
       "\n",
       "    .dataframe tbody tr th {\n",
       "        vertical-align: top;\n",
       "    }\n",
       "\n",
       "    .dataframe thead th {\n",
       "        text-align: right;\n",
       "    }\n",
       "</style>\n",
       "<table border=\"1\" class=\"dataframe\">\n",
       "  <thead>\n",
       "    <tr style=\"text-align: right;\">\n",
       "      <th></th>\n",
       "      <th>Id</th>\n",
       "      <th>Lot Frontage</th>\n",
       "      <th>Lot Area</th>\n",
       "      <th>Overall Qual</th>\n",
       "      <th>Overall Cond</th>\n",
       "      <th>Year Built</th>\n",
       "      <th>Year Remod/Add</th>\n",
       "      <th>Mas Vnr Area</th>\n",
       "      <th>Total Bsmt SF</th>\n",
       "      <th>1st Flr SF</th>\n",
       "      <th>...</th>\n",
       "      <th>Attached or BuiltIn Garage</th>\n",
       "      <th>Finished Garage</th>\n",
       "      <th>Fully Paved Drive</th>\n",
       "      <th>New Sale</th>\n",
       "      <th>Has Alley Access</th>\n",
       "      <th>Total SF</th>\n",
       "      <th>1.5P Gr Liv Area</th>\n",
       "      <th>1.5P Total SF</th>\n",
       "      <th>After 1999</th>\n",
       "      <th>P3 Overall Qual</th>\n",
       "    </tr>\n",
       "  </thead>\n",
       "  <tbody>\n",
       "    <tr>\n",
       "      <th>0</th>\n",
       "      <td>2658</td>\n",
       "      <td>69.0</td>\n",
       "      <td>9142</td>\n",
       "      <td>6</td>\n",
       "      <td>8</td>\n",
       "      <td>1910</td>\n",
       "      <td>1950</td>\n",
       "      <td>0.0</td>\n",
       "      <td>1020.0</td>\n",
       "      <td>908</td>\n",
       "      <td>...</td>\n",
       "      <td>0</td>\n",
       "      <td>0</td>\n",
       "      <td>1</td>\n",
       "      <td>0</td>\n",
       "      <td>1</td>\n",
       "      <td>2948.0</td>\n",
       "      <td>84656.545831</td>\n",
       "      <td>160063.098158</td>\n",
       "      <td>0</td>\n",
       "      <td>216</td>\n",
       "    </tr>\n",
       "    <tr>\n",
       "      <th>1</th>\n",
       "      <td>2718</td>\n",
       "      <td>0.0</td>\n",
       "      <td>9662</td>\n",
       "      <td>5</td>\n",
       "      <td>4</td>\n",
       "      <td>1977</td>\n",
       "      <td>1977</td>\n",
       "      <td>0.0</td>\n",
       "      <td>1967.0</td>\n",
       "      <td>1967</td>\n",
       "      <td>...</td>\n",
       "      <td>1</td>\n",
       "      <td>1</td>\n",
       "      <td>1</td>\n",
       "      <td>0</td>\n",
       "      <td>0</td>\n",
       "      <td>3934.0</td>\n",
       "      <td>87238.168613</td>\n",
       "      <td>246746.802419</td>\n",
       "      <td>0</td>\n",
       "      <td>125</td>\n",
       "    </tr>\n",
       "    <tr>\n",
       "      <th>2</th>\n",
       "      <td>2414</td>\n",
       "      <td>58.0</td>\n",
       "      <td>17104</td>\n",
       "      <td>7</td>\n",
       "      <td>5</td>\n",
       "      <td>2006</td>\n",
       "      <td>2006</td>\n",
       "      <td>0.0</td>\n",
       "      <td>654.0</td>\n",
       "      <td>664</td>\n",
       "      <td>...</td>\n",
       "      <td>1</td>\n",
       "      <td>1</td>\n",
       "      <td>1</td>\n",
       "      <td>1</td>\n",
       "      <td>0</td>\n",
       "      <td>2150.0</td>\n",
       "      <td>57862.526181</td>\n",
       "      <td>99691.398827</td>\n",
       "      <td>1</td>\n",
       "      <td>343</td>\n",
       "    </tr>\n",
       "    <tr>\n",
       "      <th>3</th>\n",
       "      <td>1989</td>\n",
       "      <td>60.0</td>\n",
       "      <td>8520</td>\n",
       "      <td>5</td>\n",
       "      <td>6</td>\n",
       "      <td>1923</td>\n",
       "      <td>2006</td>\n",
       "      <td>0.0</td>\n",
       "      <td>968.0</td>\n",
       "      <td>968</td>\n",
       "      <td>...</td>\n",
       "      <td>0</td>\n",
       "      <td>0</td>\n",
       "      <td>0</td>\n",
       "      <td>0</td>\n",
       "      <td>0</td>\n",
       "      <td>1936.0</td>\n",
       "      <td>30117.092024</td>\n",
       "      <td>85184.000000</td>\n",
       "      <td>0</td>\n",
       "      <td>125</td>\n",
       "    </tr>\n",
       "    <tr>\n",
       "      <th>4</th>\n",
       "      <td>625</td>\n",
       "      <td>0.0</td>\n",
       "      <td>9500</td>\n",
       "      <td>6</td>\n",
       "      <td>5</td>\n",
       "      <td>1963</td>\n",
       "      <td>1963</td>\n",
       "      <td>247.0</td>\n",
       "      <td>1394.0</td>\n",
       "      <td>1394</td>\n",
       "      <td>...</td>\n",
       "      <td>1</td>\n",
       "      <td>1</td>\n",
       "      <td>1</td>\n",
       "      <td>0</td>\n",
       "      <td>0</td>\n",
       "      <td>2788.0</td>\n",
       "      <td>52046.815311</td>\n",
       "      <td>147210.624182</td>\n",
       "      <td>0</td>\n",
       "      <td>216</td>\n",
       "    </tr>\n",
       "  </tbody>\n",
       "</table>\n",
       "<p>5 rows × 57 columns</p>\n",
       "</div>"
      ],
      "text/plain": [
       "     Id  Lot Frontage  Lot Area  Overall Qual  Overall Cond  Year Built  \\\n",
       "0  2658          69.0      9142             6             8        1910   \n",
       "1  2718           0.0      9662             5             4        1977   \n",
       "2  2414          58.0     17104             7             5        2006   \n",
       "3  1989          60.0      8520             5             6        1923   \n",
       "4   625           0.0      9500             6             5        1963   \n",
       "\n",
       "   Year Remod/Add  Mas Vnr Area  Total Bsmt SF  1st Flr SF  ...  \\\n",
       "0            1950           0.0         1020.0         908  ...   \n",
       "1            1977           0.0         1967.0        1967  ...   \n",
       "2            2006           0.0          654.0         664  ...   \n",
       "3            2006           0.0          968.0         968  ...   \n",
       "4            1963         247.0         1394.0        1394  ...   \n",
       "\n",
       "   Attached or BuiltIn Garage  Finished Garage  Fully Paved Drive  New Sale  \\\n",
       "0                           0                0                  1         0   \n",
       "1                           1                1                  1         0   \n",
       "2                           1                1                  1         1   \n",
       "3                           0                0                  0         0   \n",
       "4                           1                1                  1         0   \n",
       "\n",
       "   Has Alley Access  Total SF  1.5P Gr Liv Area  1.5P Total SF  After 1999  \\\n",
       "0                 1    2948.0      84656.545831  160063.098158           0   \n",
       "1                 0    3934.0      87238.168613  246746.802419           0   \n",
       "2                 0    2150.0      57862.526181   99691.398827           1   \n",
       "3                 0    1936.0      30117.092024   85184.000000           0   \n",
       "4                 0    2788.0      52046.815311  147210.624182           0   \n",
       "\n",
       "   P3 Overall Qual  \n",
       "0              216  \n",
       "1              125  \n",
       "2              343  \n",
       "3              125  \n",
       "4              216  \n",
       "\n",
       "[5 rows x 57 columns]"
      ]
     },
     "execution_count": 70,
     "metadata": {},
     "output_type": "execute_result"
    }
   ],
   "source": [
    "df.head()"
   ]
  },
  {
   "cell_type": "code",
   "execution_count": 71,
   "id": "788974b3",
   "metadata": {},
   "outputs": [],
   "source": [
    "df.to_csv('../datasets/f_test.csv', index=False)"
   ]
  },
  {
   "cell_type": "code",
   "execution_count": 72,
   "id": "1d03d5b9",
   "metadata": {},
   "outputs": [
    {
     "name": "stdout",
     "output_type": "stream",
     "text": [
      "f_test.csv         \u001b[31msample_sub_reg.csv\u001b[m\u001b[m \u001b[31mtrain.csv\u001b[m\u001b[m\r\n",
      "f_train.csv        \u001b[31mtest.csv\u001b[m\u001b[m           train_df_c1.csv\r\n"
     ]
    }
   ],
   "source": [
    "!ls ../datasets"
   ]
  }
 ],
 "metadata": {
  "kernelspec": {
   "display_name": "Python 3",
   "language": "python",
   "name": "python3"
  },
  "language_info": {
   "codemirror_mode": {
    "name": "ipython",
    "version": 3
   },
   "file_extension": ".py",
   "mimetype": "text/x-python",
   "name": "python",
   "nbconvert_exporter": "python",
   "pygments_lexer": "ipython3",
   "version": "3.8.8"
  }
 },
 "nbformat": 4,
 "nbformat_minor": 5
}
